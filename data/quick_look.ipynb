{
 "cells": [
  {
   "cell_type": "code",
   "execution_count": null,
   "metadata": {},
   "outputs": [],
   "source": [
    "import pandas as pd\n",
    "\n",
    "r = pd.read_csv( 'ratings.csv' )\n",
    "tr = pd.read_csv( 'to_read.csv' )\n",
    "b = pd.read_csv( 'books.csv' )\n",
    "\n",
    "t = pd.read_csv( 'tags.csv' )\n",
    "bt = pd.read_csv( 'book_tags.csv')\n"
   ]
  },
  {
   "cell_type": "code",
   "execution_count": 2,
   "metadata": {},
   "outputs": [
    {
     "data": {
      "text/html": [
       "<div>\n",
       "<style scoped>\n",
       "    .dataframe tbody tr th:only-of-type {\n",
       "        vertical-align: middle;\n",
       "    }\n",
       "\n",
       "    .dataframe tbody tr th {\n",
       "        vertical-align: top;\n",
       "    }\n",
       "\n",
       "    .dataframe thead th {\n",
       "        text-align: right;\n",
       "    }\n",
       "</style>\n",
       "<table border=\"1\" class=\"dataframe\">\n",
       "  <thead>\n",
       "    <tr style=\"text-align: right;\">\n",
       "      <th></th>\n",
       "      <th>user_id</th>\n",
       "      <th>book_id</th>\n",
       "      <th>rating</th>\n",
       "    </tr>\n",
       "  </thead>\n",
       "  <tbody>\n",
       "    <tr>\n",
       "      <th>0</th>\n",
       "      <td>1</td>\n",
       "      <td>258</td>\n",
       "      <td>5</td>\n",
       "    </tr>\n",
       "    <tr>\n",
       "      <th>1</th>\n",
       "      <td>2</td>\n",
       "      <td>4081</td>\n",
       "      <td>4</td>\n",
       "    </tr>\n",
       "    <tr>\n",
       "      <th>2</th>\n",
       "      <td>2</td>\n",
       "      <td>260</td>\n",
       "      <td>5</td>\n",
       "    </tr>\n",
       "    <tr>\n",
       "      <th>3</th>\n",
       "      <td>2</td>\n",
       "      <td>9296</td>\n",
       "      <td>5</td>\n",
       "    </tr>\n",
       "    <tr>\n",
       "      <th>4</th>\n",
       "      <td>2</td>\n",
       "      <td>2318</td>\n",
       "      <td>3</td>\n",
       "    </tr>\n",
       "  </tbody>\n",
       "</table>\n",
       "</div>"
      ],
      "text/plain": [
       "   user_id  book_id  rating\n",
       "0        1      258       5\n",
       "1        2     4081       4\n",
       "2        2      260       5\n",
       "3        2     9296       5\n",
       "4        2     2318       3"
      ]
     },
     "execution_count": 2,
     "metadata": {},
     "output_type": "execute_result"
    }
   ],
   "source": [
    "r.head()"
   ]
  },
  {
   "cell_type": "markdown",
   "metadata": {},
   "source": [
    "Ratings are sorted chronologically, oldest first."
   ]
  },
  {
   "cell_type": "code",
   "execution_count": 3,
   "metadata": {},
   "outputs": [
    {
     "data": {
      "text/plain": [
       "5976479"
      ]
     },
     "execution_count": 3,
     "metadata": {},
     "output_type": "execute_result"
    }
   ],
   "source": [
    "len(r)"
   ]
  },
  {
   "cell_type": "code",
   "execution_count": 4,
   "metadata": {},
   "outputs": [
    {
     "data": {
      "text/plain": [
       "<AxesSubplot:>"
      ]
     },
     "execution_count": 4,
     "metadata": {},
     "output_type": "execute_result"
    },
    {
     "data": {
      "image/png": "[encoded data removed]",
      "text/plain": [
       "<Figure size 432x288 with 1 Axes>"
      ]
     },
     "metadata": {
      "needs_background": "light"
     },
     "output_type": "display_data"
    }
   ],
   "source": [
    "r.rating.hist( bins = 5 )"
   ]
  },
  {
   "cell_type": "markdown",
   "metadata": {},
   "source": [
    "It appears that 4 is the most popular rating. There are relatively few ones and twos."
   ]
  },
  {
   "cell_type": "markdown",
   "metadata": {},
   "source": [
    "### To read\n",
    "These are the books users marked \"to read\".\n"
   ]
  },
  {
   "cell_type": "code",
   "execution_count": 5,
   "metadata": {},
   "outputs": [
    {
     "data": {
      "text/html": [
       "<div>\n",
       "<style scoped>\n",
       "    .dataframe tbody tr th:only-of-type {\n",
       "        vertical-align: middle;\n",
       "    }\n",
       "\n",
       "    .dataframe tbody tr th {\n",
       "        vertical-align: top;\n",
       "    }\n",
       "\n",
       "    .dataframe thead th {\n",
       "        text-align: right;\n",
       "    }\n",
       "</style>\n",
       "<table border=\"1\" class=\"dataframe\">\n",
       "  <thead>\n",
       "    <tr style=\"text-align: right;\">\n",
       "      <th></th>\n",
       "      <th>user_id</th>\n",
       "      <th>book_id</th>\n",
       "    </tr>\n",
       "  </thead>\n",
       "  <tbody>\n",
       "    <tr>\n",
       "      <th>0</th>\n",
       "      <td>9</td>\n",
       "      <td>8</td>\n",
       "    </tr>\n",
       "    <tr>\n",
       "      <th>1</th>\n",
       "      <td>15</td>\n",
       "      <td>398</td>\n",
       "    </tr>\n",
       "    <tr>\n",
       "      <th>2</th>\n",
       "      <td>15</td>\n",
       "      <td>275</td>\n",
       "    </tr>\n",
       "    <tr>\n",
       "      <th>3</th>\n",
       "      <td>37</td>\n",
       "      <td>7173</td>\n",
       "    </tr>\n",
       "    <tr>\n",
       "      <th>4</th>\n",
       "      <td>34</td>\n",
       "      <td>380</td>\n",
       "    </tr>\n",
       "  </tbody>\n",
       "</table>\n",
       "</div>"
      ],
      "text/plain": [
       "   user_id  book_id\n",
       "0        9        8\n",
       "1       15      398\n",
       "2       15      275\n",
       "3       37     7173\n",
       "4       34      380"
      ]
     },
     "execution_count": 5,
     "metadata": {},
     "output_type": "execute_result"
    }
   ],
   "source": [
    "tr.head()"
   ]
  },
  {
   "cell_type": "code",
   "execution_count": 6,
   "metadata": {},
   "outputs": [
    {
     "data": {
      "text/plain": [
       "912705"
      ]
     },
     "execution_count": 6,
     "metadata": {},
     "output_type": "execute_result"
    }
   ],
   "source": [
    "len(tr)"
   ]
  },
  {
   "cell_type": "markdown",
   "metadata": {},
   "source": [
    "Most books have been marked to read by somebody (9986 over 10000). Majority of the users have some books marked to read. (48871 over 53424)"
   ]
  },
  {
   "cell_type": "code",
   "execution_count": 7,
   "metadata": {},
   "outputs": [
    {
     "data": {
      "text/plain": [
       "9986"
      ]
     },
     "execution_count": 7,
     "metadata": {},
     "output_type": "execute_result"
    }
   ],
   "source": [
    "len(tr.book_id.unique())"
   ]
  },
  {
   "cell_type": "code",
   "execution_count": 8,
   "metadata": {},
   "outputs": [
    {
     "data": {
      "text/plain": [
       "48871"
      ]
     },
     "execution_count": 8,
     "metadata": {},
     "output_type": "execute_result"
    }
   ],
   "source": [
    "len(tr.user_id.unique())"
   ]
  },
  {
   "cell_type": "markdown",
   "metadata": {},
   "source": [
    "### Books"
   ]
  },
  {
   "cell_type": "code",
   "execution_count": 9,
   "metadata": {},
   "outputs": [
    {
     "data": {
      "text/html": [
       "<div>\n",
       "<style scoped>\n",
       "    .dataframe tbody tr th:only-of-type {\n",
       "        vertical-align: middle;\n",
       "    }\n",
       "\n",
       "    .dataframe tbody tr th {\n",
       "        vertical-align: top;\n",
       "    }\n",
       "\n",
       "    .dataframe thead th {\n",
       "        text-align: right;\n",
       "    }\n",
       "</style>\n",
       "<table border=\"1\" class=\"dataframe\">\n",
       "  <thead>\n",
       "    <tr style=\"text-align: right;\">\n",
       "      <th></th>\n",
       "      <th>book_id</th>\n",
       "      <th>goodreads_book_id</th>\n",
       "      <th>best_book_id</th>\n",
       "      <th>work_id</th>\n",
       "      <th>books_count</th>\n",
       "      <th>isbn</th>\n",
       "      <th>isbn13</th>\n",
       "      <th>authors</th>\n",
       "      <th>original_publication_year</th>\n",
       "      <th>original_title</th>\n",
       "      <th>...</th>\n",
       "      <th>ratings_count</th>\n",
       "      <th>work_ratings_count</th>\n",
       "      <th>work_text_reviews_count</th>\n",
       "      <th>ratings_1</th>\n",
       "      <th>ratings_2</th>\n",
       "      <th>ratings_3</th>\n",
       "      <th>ratings_4</th>\n",
       "      <th>ratings_5</th>\n",
       "      <th>image_url</th>\n",
       "      <th>small_image_url</th>\n",
       "    </tr>\n",
       "  </thead>\n",
       "  <tbody>\n",
       "    <tr>\n",
       "      <th>0</th>\n",
       "      <td>1</td>\n",
       "      <td>2767052</td>\n",
       "      <td>2767052</td>\n",
       "      <td>2792775</td>\n",
       "      <td>272</td>\n",
       "      <td>439023483</td>\n",
       "      <td>9.780439e+12</td>\n",
       "      <td>Suzanne Collins</td>\n",
       "      <td>2008.0</td>\n",
       "      <td>The Hunger Games</td>\n",
       "      <td>...</td>\n",
       "      <td>4780653</td>\n",
       "      <td>4942365</td>\n",
       "      <td>155254</td>\n",
       "      <td>66715</td>\n",
       "      <td>127936</td>\n",
       "      <td>560092</td>\n",
       "      <td>1481305</td>\n",
       "      <td>2706317</td>\n",
       "      <td>https://images.gr-assets.com/books/1447303603m...</td>\n",
       "      <td>https://images.gr-assets.com/books/1447303603s...</td>\n",
       "    </tr>\n",
       "    <tr>\n",
       "      <th>1</th>\n",
       "      <td>2</td>\n",
       "      <td>3</td>\n",
       "      <td>3</td>\n",
       "      <td>4640799</td>\n",
       "      <td>491</td>\n",
       "      <td>439554934</td>\n",
       "      <td>9.780440e+12</td>\n",
       "      <td>J.K. Rowling, Mary GrandPré</td>\n",
       "      <td>1997.0</td>\n",
       "      <td>Harry Potter and the Philosopher's Stone</td>\n",
       "      <td>...</td>\n",
       "      <td>4602479</td>\n",
       "      <td>4800065</td>\n",
       "      <td>75867</td>\n",
       "      <td>75504</td>\n",
       "      <td>101676</td>\n",
       "      <td>455024</td>\n",
       "      <td>1156318</td>\n",
       "      <td>3011543</td>\n",
       "      <td>https://images.gr-assets.com/books/1474154022m...</td>\n",
       "      <td>https://images.gr-assets.com/books/1474154022s...</td>\n",
       "    </tr>\n",
       "    <tr>\n",
       "      <th>2</th>\n",
       "      <td>3</td>\n",
       "      <td>41865</td>\n",
       "      <td>41865</td>\n",
       "      <td>3212258</td>\n",
       "      <td>226</td>\n",
       "      <td>316015849</td>\n",
       "      <td>9.780316e+12</td>\n",
       "      <td>Stephenie Meyer</td>\n",
       "      <td>2005.0</td>\n",
       "      <td>Twilight</td>\n",
       "      <td>...</td>\n",
       "      <td>3866839</td>\n",
       "      <td>3916824</td>\n",
       "      <td>95009</td>\n",
       "      <td>456191</td>\n",
       "      <td>436802</td>\n",
       "      <td>793319</td>\n",
       "      <td>875073</td>\n",
       "      <td>1355439</td>\n",
       "      <td>https://images.gr-assets.com/books/1361039443m...</td>\n",
       "      <td>https://images.gr-assets.com/books/1361039443s...</td>\n",
       "    </tr>\n",
       "    <tr>\n",
       "      <th>3</th>\n",
       "      <td>4</td>\n",
       "      <td>2657</td>\n",
       "      <td>2657</td>\n",
       "      <td>3275794</td>\n",
       "      <td>487</td>\n",
       "      <td>61120081</td>\n",
       "      <td>9.780061e+12</td>\n",
       "      <td>Harper Lee</td>\n",
       "      <td>1960.0</td>\n",
       "      <td>To Kill a Mockingbird</td>\n",
       "      <td>...</td>\n",
       "      <td>3198671</td>\n",
       "      <td>3340896</td>\n",
       "      <td>72586</td>\n",
       "      <td>60427</td>\n",
       "      <td>117415</td>\n",
       "      <td>446835</td>\n",
       "      <td>1001952</td>\n",
       "      <td>1714267</td>\n",
       "      <td>https://images.gr-assets.com/books/1361975680m...</td>\n",
       "      <td>https://images.gr-assets.com/books/1361975680s...</td>\n",
       "    </tr>\n",
       "    <tr>\n",
       "      <th>4</th>\n",
       "      <td>5</td>\n",
       "      <td>4671</td>\n",
       "      <td>4671</td>\n",
       "      <td>245494</td>\n",
       "      <td>1356</td>\n",
       "      <td>743273567</td>\n",
       "      <td>9.780743e+12</td>\n",
       "      <td>F. Scott Fitzgerald</td>\n",
       "      <td>1925.0</td>\n",
       "      <td>The Great Gatsby</td>\n",
       "      <td>...</td>\n",
       "      <td>2683664</td>\n",
       "      <td>2773745</td>\n",
       "      <td>51992</td>\n",
       "      <td>86236</td>\n",
       "      <td>197621</td>\n",
       "      <td>606158</td>\n",
       "      <td>936012</td>\n",
       "      <td>947718</td>\n",
       "      <td>https://images.gr-assets.com/books/1490528560m...</td>\n",
       "      <td>https://images.gr-assets.com/books/1490528560s...</td>\n",
       "    </tr>\n",
       "  </tbody>\n",
       "</table>\n",
       "<p>5 rows × 23 columns</p>\n",
       "</div>"
      ],
      "text/plain": [
       "   book_id  goodreads_book_id  best_book_id  work_id  books_count       isbn  \\\n",
       "0        1            2767052       2767052  2792775          272  439023483   \n",
       "1        2                  3             3  4640799          491  439554934   \n",
       "2        3              41865         41865  3212258          226  316015849   \n",
       "3        4               2657          2657  3275794          487   61120081   \n",
       "4        5               4671          4671   245494         1356  743273567   \n",
       "\n",
       "         isbn13                      authors  original_publication_year  \\\n",
       "0  9.780439e+12              Suzanne Collins                     2008.0   \n",
       "1  9.780440e+12  J.K. Rowling, Mary GrandPré                     1997.0   \n",
       "2  9.780316e+12              Stephenie Meyer                     2005.0   \n",
       "3  9.780061e+12                   Harper Lee                     1960.0   \n",
       "4  9.780743e+12          F. Scott Fitzgerald                     1925.0   \n",
       "\n",
       "                             original_title  ... ratings_count  \\\n",
       "0                          The Hunger Games  ...       4780653   \n",
       "1  Harry Potter and the Philosopher's Stone  ...       4602479   \n",
       "2                                  Twilight  ...       3866839   \n",
       "3                     To Kill a Mockingbird  ...       3198671   \n",
       "4                          The Great Gatsby  ...       2683664   \n",
       "\n",
       "  work_ratings_count  work_text_reviews_count  ratings_1  ratings_2  \\\n",
       "0            4942365                   155254      66715     127936   \n",
       "1            4800065                    75867      75504     101676   \n",
       "2            3916824                    95009     456191     436802   \n",
       "3            3340896                    72586      60427     117415   \n",
       "4            2773745                    51992      86236     197621   \n",
       "\n",
       "   ratings_3  ratings_4  ratings_5  \\\n",
       "0     560092    1481305    2706317   \n",
       "1     455024    1156318    3011543   \n",
       "2     793319     875073    1355439   \n",
       "3     446835    1001952    1714267   \n",
       "4     606158     936012     947718   \n",
       "\n",
       "                                           image_url  \\\n",
       "0  https://images.gr-assets.com/books/1447303603m...   \n",
       "1  https://images.gr-assets.com/books/1474154022m...   \n",
       "2  https://images.gr-assets.com/books/1361039443m...   \n",
       "3  https://images.gr-assets.com/books/1361975680m...   \n",
       "4  https://images.gr-assets.com/books/1490528560m...   \n",
       "\n",
       "                                     small_image_url  \n",
       "0  https://images.gr-assets.com/books/1447303603s...  \n",
       "1  https://images.gr-assets.com/books/1474154022s...  \n",
       "2  https://images.gr-assets.com/books/1361039443s...  \n",
       "3  https://images.gr-assets.com/books/1361975680s...  \n",
       "4  https://images.gr-assets.com/books/1490528560s...  \n",
       "\n",
       "[5 rows x 23 columns]"
      ]
     },
     "execution_count": 9,
     "metadata": {},
     "output_type": "execute_result"
    }
   ],
   "source": [
    "b.head()"
   ]
  },
  {
   "cell_type": "code",
   "execution_count": 38,
   "metadata": {},
   "outputs": [
    {
     "data": {
      "text/plain": [
       "Index(['book_id', 'goodreads_book_id', 'best_book_id', 'work_id',\n",
       "       'books_count', 'isbn', 'isbn13', 'authors', 'original_publication_year',\n",
       "       'original_title', 'title', 'language_code', 'average_rating',\n",
       "       'ratings_count', 'work_ratings_count', 'work_text_reviews_count',\n",
       "       'ratings_1', 'ratings_2', 'ratings_3', 'ratings_4', 'ratings_5',\n",
       "       'image_url', 'small_image_url'],\n",
       "      dtype='object')"
      ]
     },
     "execution_count": 38,
     "metadata": {},
     "output_type": "execute_result"
    }
   ],
   "source": [
    "b.columns"
   ]
  },
  {
   "cell_type": "code",
   "execution_count": 35,
   "metadata": {},
   "outputs": [
    {
     "data": {
      "text/plain": [
       "757127"
      ]
     },
     "execution_count": 35,
     "metadata": {},
     "output_type": "execute_result"
    }
   ],
   "source": [
    "b['books_count'].sum()"
   ]
  },
  {
   "cell_type": "code",
   "execution_count": 36,
   "metadata": {},
   "outputs": [
    {
     "data": {
      "text/plain": [
       "13450406"
      ]
     },
     "execution_count": 36,
     "metadata": {},
     "output_type": "execute_result"
    }
   ],
   "source": [
    "b['ratings_1'].sum()"
   ]
  },
  {
   "cell_type": "markdown",
   "metadata": {},
   "source": [
    "Books are sorted by their popularity, as measured by number of ratings (overall, not in this dataset)."
   ]
  },
  {
   "cell_type": "code",
   "execution_count": 10,
   "metadata": {},
   "outputs": [
    {
     "data": {
      "text/plain": [
       "10000"
      ]
     },
     "execution_count": 10,
     "metadata": {},
     "output_type": "execute_result"
    }
   ],
   "source": [
    "len(b)"
   ]
  },
  {
   "cell_type": "markdown",
   "metadata": {},
   "source": [
    "### User and book IDs"
   ]
  },
  {
   "cell_type": "code",
   "execution_count": 11,
   "metadata": {},
   "outputs": [
    {
     "data": {
      "text/plain": [
       "53424"
      ]
     },
     "execution_count": 11,
     "metadata": {},
     "output_type": "execute_result"
    }
   ],
   "source": [
    "r.user_id.max()"
   ]
  },
  {
   "cell_type": "code",
   "execution_count": 12,
   "metadata": {},
   "outputs": [
    {
     "data": {
      "text/plain": [
       "10000"
      ]
     },
     "execution_count": 12,
     "metadata": {},
     "output_type": "execute_result"
    }
   ],
   "source": [
    "r.book_id.max()"
   ]
  },
  {
   "cell_type": "markdown",
   "metadata": {},
   "source": [
    "The IDs are contiguous."
   ]
  },
  {
   "cell_type": "code",
   "execution_count": 13,
   "metadata": {},
   "outputs": [],
   "source": [
    "assert( len( r.user_id.unique()) == r.user_id.max())\n",
    "assert( len( r.book_id.unique()) == r.book_id.max())"
   ]
  },
  {
   "cell_type": "markdown",
   "metadata": {},
   "source": [
    "### Reviews per book"
   ]
  },
  {
   "cell_type": "markdown",
   "metadata": {},
   "source": [
    "Most books have a few hundred reviews, but some have as few as eight."
   ]
  },
  {
   "cell_type": "code",
   "execution_count": 14,
   "metadata": {},
   "outputs": [
    {
     "data": {
      "text/plain": [
       "count    10000.000000\n",
       "mean       597.647900\n",
       "std       1267.289788\n",
       "min          8.000000\n",
       "25%        155.000000\n",
       "50%        248.000000\n",
       "75%        503.000000\n",
       "max      22806.000000\n",
       "Name: book_id, dtype: float64"
      ]
     },
     "execution_count": 14,
     "metadata": {},
     "output_type": "execute_result"
    }
   ],
   "source": [
    "reviews_per_book = r.groupby( 'book_id' ).book_id.apply( lambda x: len( x ))\n",
    "reviews_per_book.describe()"
   ]
  },
  {
   "cell_type": "code",
   "execution_count": 15,
   "metadata": {},
   "outputs": [
    {
     "data": {
      "text/plain": [
       "book_id\n",
       "7803     8\n",
       "9345    11\n",
       "9486    24\n",
       "1935    33\n",
       "9315    36\n",
       "9553    41\n",
       "8181    45\n",
       "9479    48\n",
       "9260    48\n",
       "9705    50\n",
       "Name: book_id, dtype: int64"
      ]
     },
     "execution_count": 15,
     "metadata": {},
     "output_type": "execute_result"
    }
   ],
   "source": [
    "reviews_per_book.sort_values().head( 10 )"
   ]
  },
  {
   "cell_type": "markdown",
   "metadata": {},
   "source": [
    "### Reviews per user"
   ]
  },
  {
   "cell_type": "markdown",
   "metadata": {},
   "source": [
    "All users have at least 19 reviews."
   ]
  },
  {
   "cell_type": "code",
   "execution_count": 16,
   "metadata": {},
   "outputs": [
    {
     "data": {
      "text/plain": [
       "count    53424.000000\n",
       "mean       111.868804\n",
       "std         26.071224\n",
       "min         19.000000\n",
       "25%         96.000000\n",
       "50%        111.000000\n",
       "75%        128.000000\n",
       "max        200.000000\n",
       "Name: user_id, dtype: float64"
      ]
     },
     "execution_count": 16,
     "metadata": {},
     "output_type": "execute_result"
    }
   ],
   "source": [
    "reviews_per_user = r.groupby( 'user_id' ).user_id.apply( lambda x: len( x ))\n",
    "reviews_per_user.describe()"
   ]
  },
  {
   "cell_type": "code",
   "execution_count": 17,
   "metadata": {},
   "outputs": [
    {
     "data": {
      "text/plain": [
       "user_id\n",
       "34590    19\n",
       "43675    20\n",
       "40753    21\n",
       "51725    21\n",
       "32128    21\n",
       "37640    22\n",
       "16470    22\n",
       "42736    22\n",
       "48077    22\n",
       "40299    22\n",
       "Name: user_id, dtype: int64"
      ]
     },
     "execution_count": 17,
     "metadata": {},
     "output_type": "execute_result"
    }
   ],
   "source": [
    "reviews_per_user.sort_values().head( 10 )"
   ]
  },
  {
   "cell_type": "markdown",
   "metadata": {},
   "source": [
    "### Tags"
   ]
  },
  {
   "cell_type": "code",
   "execution_count": 18,
   "metadata": {},
   "outputs": [
    {
     "data": {
      "text/html": [
       "<div>\n",
       "<style scoped>\n",
       "    .dataframe tbody tr th:only-of-type {\n",
       "        vertical-align: middle;\n",
       "    }\n",
       "\n",
       "    .dataframe tbody tr th {\n",
       "        vertical-align: top;\n",
       "    }\n",
       "\n",
       "    .dataframe thead th {\n",
       "        text-align: right;\n",
       "    }\n",
       "</style>\n",
       "<table border=\"1\" class=\"dataframe\">\n",
       "  <thead>\n",
       "    <tr style=\"text-align: right;\">\n",
       "      <th></th>\n",
       "      <th>tag_id</th>\n",
       "      <th>tag_name</th>\n",
       "    </tr>\n",
       "  </thead>\n",
       "  <tbody>\n",
       "    <tr>\n",
       "      <th>0</th>\n",
       "      <td>0</td>\n",
       "      <td>-</td>\n",
       "    </tr>\n",
       "    <tr>\n",
       "      <th>1</th>\n",
       "      <td>1</td>\n",
       "      <td>--1-</td>\n",
       "    </tr>\n",
       "    <tr>\n",
       "      <th>2</th>\n",
       "      <td>2</td>\n",
       "      <td>--10-</td>\n",
       "    </tr>\n",
       "    <tr>\n",
       "      <th>3</th>\n",
       "      <td>3</td>\n",
       "      <td>--12-</td>\n",
       "    </tr>\n",
       "    <tr>\n",
       "      <th>4</th>\n",
       "      <td>4</td>\n",
       "      <td>--122-</td>\n",
       "    </tr>\n",
       "  </tbody>\n",
       "</table>\n",
       "</div>"
      ],
      "text/plain": [
       "   tag_id tag_name\n",
       "0       0        -\n",
       "1       1     --1-\n",
       "2       2    --10-\n",
       "3       3    --12-\n",
       "4       4   --122-"
      ]
     },
     "execution_count": 18,
     "metadata": {},
     "output_type": "execute_result"
    }
   ],
   "source": [
    "t.head()"
   ]
  },
  {
   "cell_type": "code",
   "execution_count": 19,
   "metadata": {},
   "outputs": [
    {
     "data": {
      "text/plain": [
       "34252"
      ]
     },
     "execution_count": 19,
     "metadata": {},
     "output_type": "execute_result"
    }
   ],
   "source": [
    "len(t)"
   ]
  },
  {
   "cell_type": "code",
   "execution_count": 20,
   "metadata": {},
   "outputs": [
    {
     "data": {
      "text/html": [
       "<div>\n",
       "<style scoped>\n",
       "    .dataframe tbody tr th:only-of-type {\n",
       "        vertical-align: middle;\n",
       "    }\n",
       "\n",
       "    .dataframe tbody tr th {\n",
       "        vertical-align: top;\n",
       "    }\n",
       "\n",
       "    .dataframe thead th {\n",
       "        text-align: right;\n",
       "    }\n",
       "</style>\n",
       "<table border=\"1\" class=\"dataframe\">\n",
       "  <thead>\n",
       "    <tr style=\"text-align: right;\">\n",
       "      <th></th>\n",
       "      <th>goodreads_book_id</th>\n",
       "      <th>tag_id</th>\n",
       "      <th>count</th>\n",
       "    </tr>\n",
       "  </thead>\n",
       "  <tbody>\n",
       "    <tr>\n",
       "      <th>0</th>\n",
       "      <td>1</td>\n",
       "      <td>30574</td>\n",
       "      <td>167697</td>\n",
       "    </tr>\n",
       "    <tr>\n",
       "      <th>1</th>\n",
       "      <td>1</td>\n",
       "      <td>11305</td>\n",
       "      <td>37174</td>\n",
       "    </tr>\n",
       "    <tr>\n",
       "      <th>2</th>\n",
       "      <td>1</td>\n",
       "      <td>11557</td>\n",
       "      <td>34173</td>\n",
       "    </tr>\n",
       "    <tr>\n",
       "      <th>3</th>\n",
       "      <td>1</td>\n",
       "      <td>8717</td>\n",
       "      <td>12986</td>\n",
       "    </tr>\n",
       "    <tr>\n",
       "      <th>4</th>\n",
       "      <td>1</td>\n",
       "      <td>33114</td>\n",
       "      <td>12716</td>\n",
       "    </tr>\n",
       "  </tbody>\n",
       "</table>\n",
       "</div>"
      ],
      "text/plain": [
       "   goodreads_book_id  tag_id   count\n",
       "0                  1   30574  167697\n",
       "1                  1   11305   37174\n",
       "2                  1   11557   34173\n",
       "3                  1    8717   12986\n",
       "4                  1   33114   12716"
      ]
     },
     "execution_count": 20,
     "metadata": {},
     "output_type": "execute_result"
    }
   ],
   "source": [
    "bt.head()"
   ]
  },
  {
   "cell_type": "markdown",
   "metadata": {},
   "source": [
    "Tag applications are sorted by goodreads_book_id ASC and by count DESC."
   ]
  },
  {
   "cell_type": "code",
   "execution_count": 21,
   "metadata": {},
   "outputs": [
    {
     "data": {
      "text/plain": [
       "999912"
      ]
     },
     "execution_count": 21,
     "metadata": {},
     "output_type": "execute_result"
    }
   ],
   "source": [
    "len(bt)"
   ]
  },
  {
   "cell_type": "markdown",
   "metadata": {},
   "source": [
    "Let us merge tag names into tag applications."
   ]
  },
  {
   "cell_type": "code",
   "execution_count": 22,
   "metadata": {},
   "outputs": [],
   "source": [
    "bt = bt.merge( t, on = 'tag_id' )"
   ]
  },
  {
   "cell_type": "markdown",
   "metadata": {},
   "source": [
    "Why don't we merge book titles for good measure."
   ]
  },
  {
   "cell_type": "code",
   "execution_count": 23,
   "metadata": {},
   "outputs": [],
   "source": [
    "bt = bt.merge( b[[ 'goodreads_book_id', 'title']], on = 'goodreads_book_id' )"
   ]
  },
  {
   "cell_type": "markdown",
   "metadata": {},
   "source": [
    "It appears that there are some negative tag counts. Let's fix this."
   ]
  },
  {
   "cell_type": "code",
   "execution_count": 34,
   "metadata": {},
   "outputs": [
    {
     "data": {
      "text/html": [
       "<div>\n",
       "<style scoped>\n",
       "    .dataframe tbody tr th:only-of-type {\n",
       "        vertical-align: middle;\n",
       "    }\n",
       "\n",
       "    .dataframe tbody tr th {\n",
       "        vertical-align: top;\n",
       "    }\n",
       "\n",
       "    .dataframe thead th {\n",
       "        text-align: right;\n",
       "    }\n",
       "</style>\n",
       "<table border=\"1\" class=\"dataframe\">\n",
       "  <thead>\n",
       "    <tr style=\"text-align: right;\">\n",
       "      <th></th>\n",
       "      <th>goodreads_book_id</th>\n",
       "      <th>tag_id</th>\n",
       "      <th>count</th>\n",
       "      <th>tag_name</th>\n",
       "      <th>title</th>\n",
       "    </tr>\n",
       "  </thead>\n",
       "  <tbody>\n",
       "    <tr>\n",
       "      <th>0</th>\n",
       "      <td>1</td>\n",
       "      <td>30574</td>\n",
       "      <td>167697</td>\n",
       "      <td>to-read</td>\n",
       "      <td>Harry Potter and the Half-Blood Prince (Harry ...</td>\n",
       "    </tr>\n",
       "    <tr>\n",
       "      <th>1</th>\n",
       "      <td>1</td>\n",
       "      <td>11305</td>\n",
       "      <td>37174</td>\n",
       "      <td>fantasy</td>\n",
       "      <td>Harry Potter and the Half-Blood Prince (Harry ...</td>\n",
       "    </tr>\n",
       "    <tr>\n",
       "      <th>2</th>\n",
       "      <td>1</td>\n",
       "      <td>11557</td>\n",
       "      <td>34173</td>\n",
       "      <td>favorites</td>\n",
       "      <td>Harry Potter and the Half-Blood Prince (Harry ...</td>\n",
       "    </tr>\n",
       "    <tr>\n",
       "      <th>3</th>\n",
       "      <td>1</td>\n",
       "      <td>8717</td>\n",
       "      <td>12986</td>\n",
       "      <td>currently-reading</td>\n",
       "      <td>Harry Potter and the Half-Blood Prince (Harry ...</td>\n",
       "    </tr>\n",
       "    <tr>\n",
       "      <th>4</th>\n",
       "      <td>1</td>\n",
       "      <td>33114</td>\n",
       "      <td>12716</td>\n",
       "      <td>young-adult</td>\n",
       "      <td>Harry Potter and the Half-Blood Prince (Harry ...</td>\n",
       "    </tr>\n",
       "    <tr>\n",
       "      <th>...</th>\n",
       "      <td>...</td>\n",
       "      <td>...</td>\n",
       "      <td>...</td>\n",
       "      <td>...</td>\n",
       "      <td>...</td>\n",
       "    </tr>\n",
       "    <tr>\n",
       "      <th>999907</th>\n",
       "      <td>675614</td>\n",
       "      <td>33057</td>\n",
       "      <td>7</td>\n",
       "      <td>ya-witches</td>\n",
       "      <td>Book of Shadows (Sweep, #1)</td>\n",
       "    </tr>\n",
       "    <tr>\n",
       "      <th>999908</th>\n",
       "      <td>675614</td>\n",
       "      <td>32624</td>\n",
       "      <td>6</td>\n",
       "      <td>witches-and-magic</td>\n",
       "      <td>Book of Shadows (Sweep, #1)</td>\n",
       "    </tr>\n",
       "    <tr>\n",
       "      <th>999909</th>\n",
       "      <td>675614</td>\n",
       "      <td>32612</td>\n",
       "      <td>6</td>\n",
       "      <td>witch-books</td>\n",
       "      <td>Book of Shadows (Sweep, #1)</td>\n",
       "    </tr>\n",
       "    <tr>\n",
       "      <th>999910</th>\n",
       "      <td>675614</td>\n",
       "      <td>32625</td>\n",
       "      <td>5</td>\n",
       "      <td>witches-and-warlocks</td>\n",
       "      <td>Book of Shadows (Sweep, #1)</td>\n",
       "    </tr>\n",
       "    <tr>\n",
       "      <th>999911</th>\n",
       "      <td>675614</td>\n",
       "      <td>32635</td>\n",
       "      <td>5</td>\n",
       "      <td>witchy-fiction</td>\n",
       "      <td>Book of Shadows (Sweep, #1)</td>\n",
       "    </tr>\n",
       "  </tbody>\n",
       "</table>\n",
       "<p>999912 rows × 5 columns</p>\n",
       "</div>"
      ],
      "text/plain": [
       "        goodreads_book_id  tag_id   count              tag_name  \\\n",
       "0                       1   30574  167697               to-read   \n",
       "1                       1   11305   37174               fantasy   \n",
       "2                       1   11557   34173             favorites   \n",
       "3                       1    8717   12986     currently-reading   \n",
       "4                       1   33114   12716           young-adult   \n",
       "...                   ...     ...     ...                   ...   \n",
       "999907             675614   33057       7            ya-witches   \n",
       "999908             675614   32624       6     witches-and-magic   \n",
       "999909             675614   32612       6           witch-books   \n",
       "999910             675614   32625       5  witches-and-warlocks   \n",
       "999911             675614   32635       5        witchy-fiction   \n",
       "\n",
       "                                                    title  \n",
       "0       Harry Potter and the Half-Blood Prince (Harry ...  \n",
       "1       Harry Potter and the Half-Blood Prince (Harry ...  \n",
       "2       Harry Potter and the Half-Blood Prince (Harry ...  \n",
       "3       Harry Potter and the Half-Blood Prince (Harry ...  \n",
       "4       Harry Potter and the Half-Blood Prince (Harry ...  \n",
       "...                                                   ...  \n",
       "999907                        Book of Shadows (Sweep, #1)  \n",
       "999908                        Book of Shadows (Sweep, #1)  \n",
       "999909                        Book of Shadows (Sweep, #1)  \n",
       "999910                        Book of Shadows (Sweep, #1)  \n",
       "999911                        Book of Shadows (Sweep, #1)  \n",
       "\n",
       "[999912 rows x 5 columns]"
      ]
     },
     "execution_count": 34,
     "metadata": {},
     "output_type": "execute_result"
    }
   ],
   "source": [
    "bt"
   ]
  },
  {
   "cell_type": "code",
   "execution_count": 37,
   "metadata": {},
   "outputs": [
    {
     "data": {
      "text/html": [
       "<div>\n",
       "<style scoped>\n",
       "    .dataframe tbody tr th:only-of-type {\n",
       "        vertical-align: middle;\n",
       "    }\n",
       "\n",
       "    .dataframe tbody tr th {\n",
       "        vertical-align: top;\n",
       "    }\n",
       "\n",
       "    .dataframe thead th {\n",
       "        text-align: right;\n",
       "    }\n",
       "</style>\n",
       "<table border=\"1\" class=\"dataframe\">\n",
       "  <thead>\n",
       "    <tr style=\"text-align: right;\">\n",
       "      <th></th>\n",
       "      <th>goodreads_book_id</th>\n",
       "      <th>tag_id</th>\n",
       "      <th>count</th>\n",
       "      <th>tag_name</th>\n",
       "      <th>title</th>\n",
       "    </tr>\n",
       "  </thead>\n",
       "  <tbody>\n",
       "    <tr>\n",
       "      <th>0</th>\n",
       "      <td>1</td>\n",
       "      <td>30574</td>\n",
       "      <td>167697</td>\n",
       "      <td>to-read</td>\n",
       "      <td>Harry Potter and the Half-Blood Prince (Harry ...</td>\n",
       "    </tr>\n",
       "    <tr>\n",
       "      <th>1</th>\n",
       "      <td>1</td>\n",
       "      <td>11305</td>\n",
       "      <td>37174</td>\n",
       "      <td>fantasy</td>\n",
       "      <td>Harry Potter and the Half-Blood Prince (Harry ...</td>\n",
       "    </tr>\n",
       "    <tr>\n",
       "      <th>2</th>\n",
       "      <td>1</td>\n",
       "      <td>11557</td>\n",
       "      <td>34173</td>\n",
       "      <td>favorites</td>\n",
       "      <td>Harry Potter and the Half-Blood Prince (Harry ...</td>\n",
       "    </tr>\n",
       "    <tr>\n",
       "      <th>3</th>\n",
       "      <td>1</td>\n",
       "      <td>8717</td>\n",
       "      <td>12986</td>\n",
       "      <td>currently-reading</td>\n",
       "      <td>Harry Potter and the Half-Blood Prince (Harry ...</td>\n",
       "    </tr>\n",
       "    <tr>\n",
       "      <th>4</th>\n",
       "      <td>1</td>\n",
       "      <td>33114</td>\n",
       "      <td>12716</td>\n",
       "      <td>young-adult</td>\n",
       "      <td>Harry Potter and the Half-Blood Prince (Harry ...</td>\n",
       "    </tr>\n",
       "    <tr>\n",
       "      <th>...</th>\n",
       "      <td>...</td>\n",
       "      <td>...</td>\n",
       "      <td>...</td>\n",
       "      <td>...</td>\n",
       "      <td>...</td>\n",
       "    </tr>\n",
       "    <tr>\n",
       "      <th>95</th>\n",
       "      <td>1</td>\n",
       "      <td>5444</td>\n",
       "      <td>266</td>\n",
       "      <td>bookshelf</td>\n",
       "      <td>Harry Potter and the Half-Blood Prince (Harry ...</td>\n",
       "    </tr>\n",
       "    <tr>\n",
       "      <th>96</th>\n",
       "      <td>1</td>\n",
       "      <td>18913</td>\n",
       "      <td>265</td>\n",
       "      <td>magical</td>\n",
       "      <td>Harry Potter and the Half-Blood Prince (Harry ...</td>\n",
       "    </tr>\n",
       "    <tr>\n",
       "      <th>97</th>\n",
       "      <td>1</td>\n",
       "      <td>11595</td>\n",
       "      <td>264</td>\n",
       "      <td>favs</td>\n",
       "      <td>Harry Potter and the Half-Blood Prince (Harry ...</td>\n",
       "    </tr>\n",
       "    <tr>\n",
       "      <th>98</th>\n",
       "      <td>1</td>\n",
       "      <td>6829</td>\n",
       "      <td>263</td>\n",
       "      <td>childhood-books</td>\n",
       "      <td>Harry Potter and the Half-Blood Prince (Harry ...</td>\n",
       "    </tr>\n",
       "    <tr>\n",
       "      <th>99</th>\n",
       "      <td>1</td>\n",
       "      <td>24092</td>\n",
       "      <td>258</td>\n",
       "      <td>potter</td>\n",
       "      <td>Harry Potter and the Half-Blood Prince (Harry ...</td>\n",
       "    </tr>\n",
       "  </tbody>\n",
       "</table>\n",
       "<p>100 rows × 5 columns</p>\n",
       "</div>"
      ],
      "text/plain": [
       "    goodreads_book_id  tag_id   count           tag_name  \\\n",
       "0                   1   30574  167697            to-read   \n",
       "1                   1   11305   37174            fantasy   \n",
       "2                   1   11557   34173          favorites   \n",
       "3                   1    8717   12986  currently-reading   \n",
       "4                   1   33114   12716        young-adult   \n",
       "..                ...     ...     ...                ...   \n",
       "95                  1    5444     266          bookshelf   \n",
       "96                  1   18913     265            magical   \n",
       "97                  1   11595     264               favs   \n",
       "98                  1    6829     263    childhood-books   \n",
       "99                  1   24092     258             potter   \n",
       "\n",
       "                                                title  \n",
       "0   Harry Potter and the Half-Blood Prince (Harry ...  \n",
       "1   Harry Potter and the Half-Blood Prince (Harry ...  \n",
       "2   Harry Potter and the Half-Blood Prince (Harry ...  \n",
       "3   Harry Potter and the Half-Blood Prince (Harry ...  \n",
       "4   Harry Potter and the Half-Blood Prince (Harry ...  \n",
       "..                                                ...  \n",
       "95  Harry Potter and the Half-Blood Prince (Harry ...  \n",
       "96  Harry Potter and the Half-Blood Prince (Harry ...  \n",
       "97  Harry Potter and the Half-Blood Prince (Harry ...  \n",
       "98  Harry Potter and the Half-Blood Prince (Harry ...  \n",
       "99  Harry Potter and the Half-Blood Prince (Harry ...  \n",
       "\n",
       "[100 rows x 5 columns]"
      ]
     },
     "execution_count": 37,
     "metadata": {},
     "output_type": "execute_result"
    }
   ],
   "source": [
    "bt[bt['goodreads_book_id']==1]"
   ]
  },
  {
   "cell_type": "code",
   "execution_count": 24,
   "metadata": {},
   "outputs": [
    {
     "data": {
      "text/plain": [
       "count    999912.000000\n",
       "mean        208.869633\n",
       "std        3501.265173\n",
       "min          -1.000000\n",
       "25%           7.000000\n",
       "50%          15.000000\n",
       "75%          40.000000\n",
       "max      596234.000000\n",
       "Name: count, dtype: float64"
      ]
     },
     "execution_count": 24,
     "metadata": {},
     "output_type": "execute_result"
    }
   ],
   "source": [
    "#counts tag occurrences all books aggregated\n",
    "bt['count'].describe()"
   ]
  },
  {
   "cell_type": "code",
   "execution_count": 53,
   "metadata": {},
   "outputs": [
    {
     "data": {
      "text/plain": [
       "count    10000.000000\n",
       "mean        99.991200\n",
       "std          0.584429\n",
       "min         56.000000\n",
       "25%        100.000000\n",
       "50%        100.000000\n",
       "75%        100.000000\n",
       "max        100.000000\n",
       "Name: goodreads_book_id, dtype: float64"
      ]
     },
     "execution_count": 53,
     "metadata": {},
     "output_type": "execute_result"
    }
   ],
   "source": [
    "tags_per_book = bt.groupby( 'goodreads_book_id' ).goodreads_book_id.apply( lambda x: len( x ))\n",
    "tags_per_book.describe()\n",
    "# almost books have 100 tags"
   ]
  },
  {
   "cell_type": "code",
   "execution_count": 25,
   "metadata": {},
   "outputs": [],
   "source": [
    "bt.loc[ bt['count'] < 0, 'count'] = 0"
   ]
  },
  {
   "cell_type": "markdown",
   "metadata": {},
   "source": [
    "Sample some popular book tags."
   ]
  },
  {
   "cell_type": "code",
   "execution_count": 26,
   "metadata": {},
   "outputs": [
    {
     "data": {
      "text/html": [
       "<div>\n",
       "<style scoped>\n",
       "    .dataframe tbody tr th:only-of-type {\n",
       "        vertical-align: middle;\n",
       "    }\n",
       "\n",
       "    .dataframe tbody tr th {\n",
       "        vertical-align: top;\n",
       "    }\n",
       "\n",
       "    .dataframe thead th {\n",
       "        text-align: right;\n",
       "    }\n",
       "</style>\n",
       "<table border=\"1\" class=\"dataframe\">\n",
       "  <thead>\n",
       "    <tr style=\"text-align: right;\">\n",
       "      <th></th>\n",
       "      <th>goodreads_book_id</th>\n",
       "      <th>tag_id</th>\n",
       "      <th>count</th>\n",
       "      <th>tag_name</th>\n",
       "      <th>title</th>\n",
       "    </tr>\n",
       "  </thead>\n",
       "  <tbody>\n",
       "    <tr>\n",
       "      <th>227396</th>\n",
       "      <td>39963</td>\n",
       "      <td>21469</td>\n",
       "      <td>10</td>\n",
       "      <td>newbery-honors</td>\n",
       "      <td>A Long Way from Chicago (A Long Way from Chica...</td>\n",
       "    </tr>\n",
       "    <tr>\n",
       "      <th>801294</th>\n",
       "      <td>12216302</td>\n",
       "      <td>30574</td>\n",
       "      <td>18811</td>\n",
       "      <td>to-read</td>\n",
       "      <td>Cold Days (The Dresden Files, #14)</td>\n",
       "    </tr>\n",
       "    <tr>\n",
       "      <th>114500</th>\n",
       "      <td>13872</td>\n",
       "      <td>30574</td>\n",
       "      <td>39758</td>\n",
       "      <td>to-read</td>\n",
       "      <td>Geek Love</td>\n",
       "    </tr>\n",
       "    <tr>\n",
       "      <th>14400</th>\n",
       "      <td>1842</td>\n",
       "      <td>30574</td>\n",
       "      <td>49043</td>\n",
       "      <td>to-read</td>\n",
       "      <td>Guns, Germs, and Steel: The Fates of Human Soc...</td>\n",
       "    </tr>\n",
       "    <tr>\n",
       "      <th>626312</th>\n",
       "      <td>3128411</td>\n",
       "      <td>3389</td>\n",
       "      <td>119</td>\n",
       "      <td>audiobook</td>\n",
       "      <td>Bone Crossed (Mercy Thompson, #4)</td>\n",
       "    </tr>\n",
       "    <tr>\n",
       "      <th>52390</th>\n",
       "      <td>6288</td>\n",
       "      <td>10059</td>\n",
       "      <td>1750</td>\n",
       "      <td>dystopia</td>\n",
       "      <td>The Road</td>\n",
       "    </tr>\n",
       "    <tr>\n",
       "      <th>206</th>\n",
       "      <td>3</td>\n",
       "      <td>14017</td>\n",
       "      <td>8559</td>\n",
       "      <td>harry-potter</td>\n",
       "      <td>Harry Potter and the Sorcerer's Stone (Harry P...</td>\n",
       "    </tr>\n",
       "    <tr>\n",
       "      <th>446703</th>\n",
       "      <td>234225</td>\n",
       "      <td>8717</td>\n",
       "      <td>12850</td>\n",
       "      <td>currently-reading</td>\n",
       "      <td>Dune (Dune Chronicles #1)</td>\n",
       "    </tr>\n",
       "    <tr>\n",
       "      <th>983912</th>\n",
       "      <td>25899336</td>\n",
       "      <td>30574</td>\n",
       "      <td>184635</td>\n",
       "      <td>to-read</td>\n",
       "      <td>When Breath Becomes Air</td>\n",
       "    </tr>\n",
       "    <tr>\n",
       "      <th>122153</th>\n",
       "      <td>15014</td>\n",
       "      <td>5951</td>\n",
       "      <td>623</td>\n",
       "      <td>business</td>\n",
       "      <td>Crucial Conversations: Tools for Talking When ...</td>\n",
       "    </tr>\n",
       "  </tbody>\n",
       "</table>\n",
       "</div>"
      ],
      "text/plain": [
       "        goodreads_book_id  tag_id   count           tag_name  \\\n",
       "227396              39963   21469      10     newbery-honors   \n",
       "801294           12216302   30574   18811            to-read   \n",
       "114500              13872   30574   39758            to-read   \n",
       "14400                1842   30574   49043            to-read   \n",
       "626312            3128411    3389     119          audiobook   \n",
       "52390                6288   10059    1750           dystopia   \n",
       "206                     3   14017    8559       harry-potter   \n",
       "446703             234225    8717   12850  currently-reading   \n",
       "983912           25899336   30574  184635            to-read   \n",
       "122153              15014    5951     623           business   \n",
       "\n",
       "                                                    title  \n",
       "227396  A Long Way from Chicago (A Long Way from Chica...  \n",
       "801294                 Cold Days (The Dresden Files, #14)  \n",
       "114500                                          Geek Love  \n",
       "14400   Guns, Germs, and Steel: The Fates of Human Soc...  \n",
       "626312                  Bone Crossed (Mercy Thompson, #4)  \n",
       "52390                                            The Road  \n",
       "206     Harry Potter and the Sorcerer's Stone (Harry P...  \n",
       "446703                          Dune (Dune Chronicles #1)  \n",
       "983912                            When Breath Becomes Air  \n",
       "122153  Crucial Conversations: Tools for Talking When ...  "
      ]
     },
     "execution_count": 26,
     "metadata": {},
     "output_type": "execute_result"
    }
   ],
   "source": [
    "bt.sample( 10, weights = 'count')"
   ]
  },
  {
   "cell_type": "code",
   "execution_count": 50,
   "metadata": {},
   "outputs": [
    {
     "data": {
      "text/plain": [
       "208851258"
      ]
     },
     "execution_count": 50,
     "metadata": {},
     "output_type": "execute_result"
    }
   ],
   "source": [
    "bt['count'].sum()"
   ]
  },
  {
   "cell_type": "markdown",
   "metadata": {},
   "source": [
    "These are the most popular tags:"
   ]
  },
  {
   "cell_type": "code",
   "execution_count": 44,
   "metadata": {},
   "outputs": [
    {
     "data": {
      "text/plain": [
       "tag_name\n",
       "to-read              9983\n",
       "favorites            9881\n",
       "owned                9858\n",
       "books-i-own          9799\n",
       "currently-reading    9776\n",
       "                     ... \n",
       "nook                 1987\n",
       "library-book         1977\n",
       "chick-lit            1974\n",
       "20th-century         1964\n",
       "paranormal           1941\n",
       "Name: tag_name, Length: 100, dtype: int64"
      ]
     },
     "execution_count": 44,
     "metadata": {},
     "output_type": "execute_result"
    }
   ],
   "source": [
    "#counts books per tag\n",
    "tag_counts = bt.groupby( 'tag_name' ).tag_name.count().sort_values( ascending = False )\n",
    "tag_counts.head( 100 )"
   ]
  },
  {
   "cell_type": "code",
   "execution_count": 60,
   "metadata": {},
   "outputs": [
    {
     "data": {
      "text/html": [
       "<div>\n",
       "<style scoped>\n",
       "    .dataframe tbody tr th:only-of-type {\n",
       "        vertical-align: middle;\n",
       "    }\n",
       "\n",
       "    .dataframe tbody tr th {\n",
       "        vertical-align: top;\n",
       "    }\n",
       "\n",
       "    .dataframe thead th {\n",
       "        text-align: right;\n",
       "    }\n",
       "</style>\n",
       "<table border=\"1\" class=\"dataframe\">\n",
       "  <thead>\n",
       "    <tr style=\"text-align: right;\">\n",
       "      <th></th>\n",
       "      <th>goodreads_book_id</th>\n",
       "      <th>tag_id</th>\n",
       "      <th>count</th>\n",
       "    </tr>\n",
       "    <tr>\n",
       "      <th>tag_name</th>\n",
       "      <th></th>\n",
       "      <th></th>\n",
       "      <th></th>\n",
       "    </tr>\n",
       "  </thead>\n",
       "  <tbody>\n",
       "    <tr>\n",
       "      <th>-</th>\n",
       "      <td>24372785</td>\n",
       "      <td>0</td>\n",
       "      <td>24</td>\n",
       "    </tr>\n",
       "    <tr>\n",
       "      <th>--1-</th>\n",
       "      <td>1251703</td>\n",
       "      <td>2</td>\n",
       "      <td>6</td>\n",
       "    </tr>\n",
       "    <tr>\n",
       "      <th>--10-</th>\n",
       "      <td>513367</td>\n",
       "      <td>2</td>\n",
       "      <td>3</td>\n",
       "    </tr>\n",
       "    <tr>\n",
       "      <th>--12-</th>\n",
       "      <td>5552</td>\n",
       "      <td>3</td>\n",
       "      <td>3</td>\n",
       "    </tr>\n",
       "    <tr>\n",
       "      <th>--122-</th>\n",
       "      <td>168814</td>\n",
       "      <td>4</td>\n",
       "      <td>3</td>\n",
       "    </tr>\n",
       "    <tr>\n",
       "      <th>...</th>\n",
       "      <td>...</td>\n",
       "      <td>...</td>\n",
       "      <td>...</td>\n",
       "    </tr>\n",
       "    <tr>\n",
       "      <th>01_best-books</th>\n",
       "      <td>1563413</td>\n",
       "      <td>95</td>\n",
       "      <td>1</td>\n",
       "    </tr>\n",
       "    <tr>\n",
       "      <th>02-500-750</th>\n",
       "      <td>369110</td>\n",
       "      <td>96</td>\n",
       "      <td>1</td>\n",
       "    </tr>\n",
       "    <tr>\n",
       "      <th>02-black-exp</th>\n",
       "      <td>290039</td>\n",
       "      <td>97</td>\n",
       "      <td>1</td>\n",
       "    </tr>\n",
       "    <tr>\n",
       "      <th>02-fantasy</th>\n",
       "      <td>56772528</td>\n",
       "      <td>4704</td>\n",
       "      <td>1000</td>\n",
       "    </tr>\n",
       "    <tr>\n",
       "      <th>02-folklore</th>\n",
       "      <td>331701</td>\n",
       "      <td>99</td>\n",
       "      <td>4</td>\n",
       "    </tr>\n",
       "  </tbody>\n",
       "</table>\n",
       "<p>100 rows × 3 columns</p>\n",
       "</div>"
      ],
      "text/plain": [
       "               goodreads_book_id  tag_id  count\n",
       "tag_name                                       \n",
       "-                       24372785       0     24\n",
       "--1-                     1251703       2      6\n",
       "--10-                     513367       2      3\n",
       "--12-                       5552       3      3\n",
       "--122-                    168814       4      3\n",
       "...                          ...     ...    ...\n",
       "01_best-books            1563413      95      1\n",
       "02-500-750                369110      96      1\n",
       "02-black-exp              290039      97      1\n",
       "02-fantasy              56772528    4704   1000\n",
       "02-folklore               331701      99      4\n",
       "\n",
       "[100 rows x 3 columns]"
      ]
     },
     "execution_count": 60,
     "metadata": {},
     "output_type": "execute_result"
    }
   ],
   "source": [
    "#counts tag occurences\n",
    "tag_occ_counts = bt.groupby( 'tag_name' ).sum()\n",
    "tag_occ_counts.head( 100 )"
   ]
  },
  {
   "cell_type": "code",
   "execution_count": 66,
   "metadata": {},
   "outputs": [
    {
     "data": {
      "text/plain": [
       "tag_name            tag_id\n",
       "to-read             30574     140718761\n",
       "currently-reading   8717        7507958\n",
       "favorites           11557       4503173\n",
       "fiction             11743       3688819\n",
       "fantasy             11305       3548157\n",
       "young-adult         33114       1848306\n",
       "classics            7457        1756920\n",
       "books-i-own         5207        1317235\n",
       "romance             26138       1231926\n",
       "owned               22743       1224279\n",
       "ya                  32989        898334\n",
       "mystery             20939        872282\n",
       "non-fiction         21689        857901\n",
       "historical-fiction  14487        815421\n",
       "series              27199        782637\n",
       "science-fiction     26837        703866\n",
       "sci-fi              26771        597325\n",
       "paranormal          22973        542559\n",
       "kindle              17213        506882\n",
       "contemporary        8055         486001\n",
       "book-club           4949         446685\n",
       "library             18045        429171\n",
       "favourites          11590        423289\n",
       "owned-books         22753        417384\n",
       "horror              14821        415467\n",
       "default             9221         405327\n",
       "audiobook           3389         388991\n",
       "urban-fantasy       31617        374689\n",
       "nonfiction          21773        371049\n",
       "to-buy              30521        363276\n",
       "adult               1642         337222\n",
       "classic             7404         334113\n",
       "childrens           6953         315716\n",
       "graphic-novels      13561        313560\n",
       "thriller            30358        309276\n",
       "audiobooks          3392         307154\n",
       "ebook               10197        302572\n",
       "vampires            31745        300730\n",
       "adventure           1691         295933\n",
       "history             14552        291366\n",
       "dystopian           10064        281487\n",
       "audio               3371         264746\n",
       "historical          14467        263267\n",
       "humor               15048        262340\n",
       "novels              22034        260327\n",
       "chick-lit           6750         251072\n",
       "literature          18367        249441\n",
       "dystopia            10059        231846\n",
       "my-books            20774        225606\n",
       "paranormal-romance  22983        221939\n",
       "Name: count, dtype: int64"
      ]
     },
     "execution_count": 66,
     "metadata": {},
     "output_type": "execute_result"
    }
   ],
   "source": [
    "occ_count=bt.groupby(['tag_name', 'tag_id'])['count'].agg('sum').sort_values( ascending = False )\n",
    "occ_count.head(50)"
   ]
  },
  {
   "cell_type": "code",
   "execution_count": 75,
   "metadata": {},
   "outputs": [],
   "source": [
    "bt2 = bt[~bt['tag_name'].isin(['to-read', 'currently-reading', 'favorites', 'books-i-own', 'owned', 'kindle', 'book-club',\n",
    "                       'library', 'favourites', 'owned-books', 'default', 'audiobook', 'to-buy', 'audiobooks', \n",
    "                       'ebook', 'audio', 'my-books'])]\n",
    "# , 'ebooks', 'i-own', 'read-in-2015', 'wish-list'"
   ]
  },
  {
   "cell_type": "code",
   "execution_count": 76,
   "metadata": {},
   "outputs": [
    {
     "data": {
      "text/html": [
       "<div>\n",
       "<style scoped>\n",
       "    .dataframe tbody tr th:only-of-type {\n",
       "        vertical-align: middle;\n",
       "    }\n",
       "\n",
       "    .dataframe tbody tr th {\n",
       "        vertical-align: top;\n",
       "    }\n",
       "\n",
       "    .dataframe thead th {\n",
       "        text-align: right;\n",
       "    }\n",
       "</style>\n",
       "<table border=\"1\" class=\"dataframe\">\n",
       "  <thead>\n",
       "    <tr style=\"text-align: right;\">\n",
       "      <th></th>\n",
       "      <th>goodreads_book_id</th>\n",
       "      <th>tag_id</th>\n",
       "      <th>count</th>\n",
       "      <th>tag_name</th>\n",
       "      <th>title</th>\n",
       "    </tr>\n",
       "  </thead>\n",
       "  <tbody>\n",
       "    <tr>\n",
       "      <th>1</th>\n",
       "      <td>1</td>\n",
       "      <td>11305</td>\n",
       "      <td>37174</td>\n",
       "      <td>fantasy</td>\n",
       "      <td>Harry Potter and the Half-Blood Prince (Harry ...</td>\n",
       "    </tr>\n",
       "    <tr>\n",
       "      <th>4</th>\n",
       "      <td>1</td>\n",
       "      <td>33114</td>\n",
       "      <td>12716</td>\n",
       "      <td>young-adult</td>\n",
       "      <td>Harry Potter and the Half-Blood Prince (Harry ...</td>\n",
       "    </tr>\n",
       "    <tr>\n",
       "      <th>5</th>\n",
       "      <td>1</td>\n",
       "      <td>11743</td>\n",
       "      <td>9954</td>\n",
       "      <td>fiction</td>\n",
       "      <td>Harry Potter and the Half-Blood Prince (Harry ...</td>\n",
       "    </tr>\n",
       "    <tr>\n",
       "      <th>6</th>\n",
       "      <td>1</td>\n",
       "      <td>14017</td>\n",
       "      <td>7169</td>\n",
       "      <td>harry-potter</td>\n",
       "      <td>Harry Potter and the Half-Blood Prince (Harry ...</td>\n",
       "    </tr>\n",
       "    <tr>\n",
       "      <th>9</th>\n",
       "      <td>1</td>\n",
       "      <td>32989</td>\n",
       "      <td>4364</td>\n",
       "      <td>ya</td>\n",
       "      <td>Harry Potter and the Half-Blood Prince (Harry ...</td>\n",
       "    </tr>\n",
       "    <tr>\n",
       "      <th>...</th>\n",
       "      <td>...</td>\n",
       "      <td>...</td>\n",
       "      <td>...</td>\n",
       "      <td>...</td>\n",
       "      <td>...</td>\n",
       "    </tr>\n",
       "    <tr>\n",
       "      <th>999907</th>\n",
       "      <td>675614</td>\n",
       "      <td>33057</td>\n",
       "      <td>7</td>\n",
       "      <td>ya-witches</td>\n",
       "      <td>Book of Shadows (Sweep, #1)</td>\n",
       "    </tr>\n",
       "    <tr>\n",
       "      <th>999908</th>\n",
       "      <td>675614</td>\n",
       "      <td>32624</td>\n",
       "      <td>6</td>\n",
       "      <td>witches-and-magic</td>\n",
       "      <td>Book of Shadows (Sweep, #1)</td>\n",
       "    </tr>\n",
       "    <tr>\n",
       "      <th>999909</th>\n",
       "      <td>675614</td>\n",
       "      <td>32612</td>\n",
       "      <td>6</td>\n",
       "      <td>witch-books</td>\n",
       "      <td>Book of Shadows (Sweep, #1)</td>\n",
       "    </tr>\n",
       "    <tr>\n",
       "      <th>999910</th>\n",
       "      <td>675614</td>\n",
       "      <td>32625</td>\n",
       "      <td>5</td>\n",
       "      <td>witches-and-warlocks</td>\n",
       "      <td>Book of Shadows (Sweep, #1)</td>\n",
       "    </tr>\n",
       "    <tr>\n",
       "      <th>999911</th>\n",
       "      <td>675614</td>\n",
       "      <td>32635</td>\n",
       "      <td>5</td>\n",
       "      <td>witchy-fiction</td>\n",
       "      <td>Book of Shadows (Sweep, #1)</td>\n",
       "    </tr>\n",
       "  </tbody>\n",
       "</table>\n",
       "<p>857704 rows × 5 columns</p>\n",
       "</div>"
      ],
      "text/plain": [
       "        goodreads_book_id  tag_id  count              tag_name  \\\n",
       "1                       1   11305  37174               fantasy   \n",
       "4                       1   33114  12716           young-adult   \n",
       "5                       1   11743   9954               fiction   \n",
       "6                       1   14017   7169          harry-potter   \n",
       "9                       1   32989   4364                    ya   \n",
       "...                   ...     ...    ...                   ...   \n",
       "999907             675614   33057      7            ya-witches   \n",
       "999908             675614   32624      6     witches-and-magic   \n",
       "999909             675614   32612      6           witch-books   \n",
       "999910             675614   32625      5  witches-and-warlocks   \n",
       "999911             675614   32635      5        witchy-fiction   \n",
       "\n",
       "                                                    title  \n",
       "1       Harry Potter and the Half-Blood Prince (Harry ...  \n",
       "4       Harry Potter and the Half-Blood Prince (Harry ...  \n",
       "5       Harry Potter and the Half-Blood Prince (Harry ...  \n",
       "6       Harry Potter and the Half-Blood Prince (Harry ...  \n",
       "9       Harry Potter and the Half-Blood Prince (Harry ...  \n",
       "...                                                   ...  \n",
       "999907                        Book of Shadows (Sweep, #1)  \n",
       "999908                        Book of Shadows (Sweep, #1)  \n",
       "999909                        Book of Shadows (Sweep, #1)  \n",
       "999910                        Book of Shadows (Sweep, #1)  \n",
       "999911                        Book of Shadows (Sweep, #1)  \n",
       "\n",
       "[857704 rows x 5 columns]"
      ]
     },
     "execution_count": 76,
     "metadata": {},
     "output_type": "execute_result"
    }
   ],
   "source": [
    "bt2"
   ]
  },
  {
   "cell_type": "code",
   "execution_count": 77,
   "metadata": {},
   "outputs": [
    {
     "data": {
      "text/plain": [
       "tag_name            tag_id\n",
       "fiction             11743     3688819\n",
       "fantasy             11305     3548157\n",
       "young-adult         33114     1848306\n",
       "classics            7457      1756920\n",
       "romance             26138     1231926\n",
       "ya                  32989      898334\n",
       "mystery             20939      872282\n",
       "non-fiction         21689      857901\n",
       "historical-fiction  14487      815421\n",
       "series              27199      782637\n",
       "science-fiction     26837      703866\n",
       "sci-fi              26771      597325\n",
       "paranormal          22973      542559\n",
       "contemporary        8055       486001\n",
       "horror              14821      415467\n",
       "urban-fantasy       31617      374689\n",
       "nonfiction          21773      371049\n",
       "adult               1642       337222\n",
       "classic             7404       334113\n",
       "childrens           6953       315716\n",
       "graphic-novels      13561      313560\n",
       "thriller            30358      309276\n",
       "vampires            31745      300730\n",
       "adventure           1691       295933\n",
       "history             14552      291366\n",
       "dystopian           10064      281487\n",
       "historical          14467      263267\n",
       "humor               15048      262340\n",
       "novels              22034      260327\n",
       "literature          18367      249441\n",
       "dystopia            10059      231846\n",
       "paranormal-romance  22983      221939\n",
       "children            6857       218410\n",
       "ebooks              10210      217716\n",
       "magic               18886      212637\n",
       "crime               8517       204493\n",
       "comics              7778       193981\n",
       "i-own               15169      184735\n",
       "memoir              19733      183477\n",
       "read-in-2015        25151      182350\n",
       "adult-fiction       1659       182261\n",
       "children-s          6888       179037\n",
       "sci-fi-fantasy      26785      176704\n",
       "wish-list           32586      175729\n",
       "biography           4605       172444\n",
       "my-library          20849      168884\n",
       "read-in-2016        25152      168183\n",
       "read-in-2014        25150      167920\n",
       "children-s-books    6895       166849\n",
       "supernatural        29011      165139\n",
       "Name: count, dtype: int64"
      ]
     },
     "execution_count": 77,
     "metadata": {},
     "output_type": "execute_result"
    }
   ],
   "source": [
    "occ_count2 = bt2.groupby(['tag_name', 'tag_id'])['count'].agg('sum').sort_values( ascending = False )\n",
    "occ_count2.head(50)"
   ]
  },
  {
   "cell_type": "code",
   "execution_count": 95,
   "metadata": {},
   "outputs": [],
   "source": [
    "bt3 = bt2[~bt2['tag_name'].isin(['ebooks', 'i-own', 'read-in-2015', 'wish-list', 'my-library','read-in-2016', \n",
    "                                 'read-in-2014', 'books', 'english', 'favorite-books', 'e-books', 'audio-book', \n",
    "                                 'read-in-2017', 'read-in-2013', 're-read', 'audible', 'favorite', \n",
    "                                 'all-time-favorites','own-it','read-in-2012', 'audio-books', 'e-book', 'abandoned',\n",
    "                                 '5-stars', 'did-not-finish', '1001-books', 'american', 'read-2015'])]"
   ]
  },
  {
   "cell_type": "code",
   "execution_count": 96,
   "metadata": {},
   "outputs": [
    {
     "data": {
      "text/html": [
       "<div>\n",
       "<style scoped>\n",
       "    .dataframe tbody tr th:only-of-type {\n",
       "        vertical-align: middle;\n",
       "    }\n",
       "\n",
       "    .dataframe tbody tr th {\n",
       "        vertical-align: top;\n",
       "    }\n",
       "\n",
       "    .dataframe thead th {\n",
       "        text-align: right;\n",
       "    }\n",
       "</style>\n",
       "<table border=\"1\" class=\"dataframe\">\n",
       "  <thead>\n",
       "    <tr style=\"text-align: right;\">\n",
       "      <th></th>\n",
       "      <th>goodreads_book_id</th>\n",
       "      <th>tag_id</th>\n",
       "      <th>count</th>\n",
       "      <th>tag_name</th>\n",
       "      <th>title</th>\n",
       "    </tr>\n",
       "  </thead>\n",
       "  <tbody>\n",
       "    <tr>\n",
       "      <th>1</th>\n",
       "      <td>1</td>\n",
       "      <td>11305</td>\n",
       "      <td>37174</td>\n",
       "      <td>fantasy</td>\n",
       "      <td>Harry Potter and the Half-Blood Prince (Harry ...</td>\n",
       "    </tr>\n",
       "    <tr>\n",
       "      <th>4</th>\n",
       "      <td>1</td>\n",
       "      <td>33114</td>\n",
       "      <td>12716</td>\n",
       "      <td>young-adult</td>\n",
       "      <td>Harry Potter and the Half-Blood Prince (Harry ...</td>\n",
       "    </tr>\n",
       "    <tr>\n",
       "      <th>5</th>\n",
       "      <td>1</td>\n",
       "      <td>11743</td>\n",
       "      <td>9954</td>\n",
       "      <td>fiction</td>\n",
       "      <td>Harry Potter and the Half-Blood Prince (Harry ...</td>\n",
       "    </tr>\n",
       "    <tr>\n",
       "      <th>6</th>\n",
       "      <td>1</td>\n",
       "      <td>14017</td>\n",
       "      <td>7169</td>\n",
       "      <td>harry-potter</td>\n",
       "      <td>Harry Potter and the Half-Blood Prince (Harry ...</td>\n",
       "    </tr>\n",
       "    <tr>\n",
       "      <th>9</th>\n",
       "      <td>1</td>\n",
       "      <td>32989</td>\n",
       "      <td>4364</td>\n",
       "      <td>ya</td>\n",
       "      <td>Harry Potter and the Half-Blood Prince (Harry ...</td>\n",
       "    </tr>\n",
       "    <tr>\n",
       "      <th>...</th>\n",
       "      <td>...</td>\n",
       "      <td>...</td>\n",
       "      <td>...</td>\n",
       "      <td>...</td>\n",
       "      <td>...</td>\n",
       "    </tr>\n",
       "    <tr>\n",
       "      <th>999907</th>\n",
       "      <td>675614</td>\n",
       "      <td>33057</td>\n",
       "      <td>7</td>\n",
       "      <td>ya-witches</td>\n",
       "      <td>Book of Shadows (Sweep, #1)</td>\n",
       "    </tr>\n",
       "    <tr>\n",
       "      <th>999908</th>\n",
       "      <td>675614</td>\n",
       "      <td>32624</td>\n",
       "      <td>6</td>\n",
       "      <td>witches-and-magic</td>\n",
       "      <td>Book of Shadows (Sweep, #1)</td>\n",
       "    </tr>\n",
       "    <tr>\n",
       "      <th>999909</th>\n",
       "      <td>675614</td>\n",
       "      <td>32612</td>\n",
       "      <td>6</td>\n",
       "      <td>witch-books</td>\n",
       "      <td>Book of Shadows (Sweep, #1)</td>\n",
       "    </tr>\n",
       "    <tr>\n",
       "      <th>999910</th>\n",
       "      <td>675614</td>\n",
       "      <td>32625</td>\n",
       "      <td>5</td>\n",
       "      <td>witches-and-warlocks</td>\n",
       "      <td>Book of Shadows (Sweep, #1)</td>\n",
       "    </tr>\n",
       "    <tr>\n",
       "      <th>999911</th>\n",
       "      <td>675614</td>\n",
       "      <td>32635</td>\n",
       "      <td>5</td>\n",
       "      <td>witchy-fiction</td>\n",
       "      <td>Book of Shadows (Sweep, #1)</td>\n",
       "    </tr>\n",
       "  </tbody>\n",
       "</table>\n",
       "<p>755305 rows × 5 columns</p>\n",
       "</div>"
      ],
      "text/plain": [
       "        goodreads_book_id  tag_id  count              tag_name  \\\n",
       "1                       1   11305  37174               fantasy   \n",
       "4                       1   33114  12716           young-adult   \n",
       "5                       1   11743   9954               fiction   \n",
       "6                       1   14017   7169          harry-potter   \n",
       "9                       1   32989   4364                    ya   \n",
       "...                   ...     ...    ...                   ...   \n",
       "999907             675614   33057      7            ya-witches   \n",
       "999908             675614   32624      6     witches-and-magic   \n",
       "999909             675614   32612      6           witch-books   \n",
       "999910             675614   32625      5  witches-and-warlocks   \n",
       "999911             675614   32635      5        witchy-fiction   \n",
       "\n",
       "                                                    title  \n",
       "1       Harry Potter and the Half-Blood Prince (Harry ...  \n",
       "4       Harry Potter and the Half-Blood Prince (Harry ...  \n",
       "5       Harry Potter and the Half-Blood Prince (Harry ...  \n",
       "6       Harry Potter and the Half-Blood Prince (Harry ...  \n",
       "9       Harry Potter and the Half-Blood Prince (Harry ...  \n",
       "...                                                   ...  \n",
       "999907                        Book of Shadows (Sweep, #1)  \n",
       "999908                        Book of Shadows (Sweep, #1)  \n",
       "999909                        Book of Shadows (Sweep, #1)  \n",
       "999910                        Book of Shadows (Sweep, #1)  \n",
       "999911                        Book of Shadows (Sweep, #1)  \n",
       "\n",
       "[755305 rows x 5 columns]"
      ]
     },
     "execution_count": 96,
     "metadata": {},
     "output_type": "execute_result"
    }
   ],
   "source": [
    "bt3"
   ]
  },
  {
   "cell_type": "code",
   "execution_count": 97,
   "metadata": {},
   "outputs": [],
   "source": [
    "occ_count3 = bt3.groupby(['tag_name', 'tag_id'])['count'].agg('sum').sort_values( ascending = False )"
   ]
  },
  {
   "cell_type": "code",
   "execution_count": 108,
   "metadata": {
    "scrolled": true
   },
   "outputs": [
    {
     "data": {
      "text/plain": [
       "tag_name              tag_id\n",
       "fiction               11743     3688819\n",
       "fantasy               11305     3548157\n",
       "young-adult           33114     1848306\n",
       "classics              7457      1756920\n",
       "romance               26138     1231926\n",
       "ya                    32989      898334\n",
       "mystery               20939      872282\n",
       "non-fiction           21689      857901\n",
       "historical-fiction    14487      815421\n",
       "series                27199      782637\n",
       "science-fiction       26837      703866\n",
       "sci-fi                26771      597325\n",
       "paranormal            22973      542559\n",
       "contemporary          8055       486001\n",
       "horror                14821      415467\n",
       "urban-fantasy         31617      374689\n",
       "nonfiction            21773      371049\n",
       "adult                 1642       337222\n",
       "classic               7404       334113\n",
       "childrens             6953       315716\n",
       "graphic-novels        13561      313560\n",
       "thriller              30358      309276\n",
       "vampires              31745      300730\n",
       "adventure             1691       295933\n",
       "history               14552      291366\n",
       "dystopian             10064      281487\n",
       "historical            14467      263267\n",
       "humor                 15048      262340\n",
       "novels                22034      260327\n",
       "literature            18367      249441\n",
       "dystopia              10059      231846\n",
       "paranormal-romance    22983      221939\n",
       "children              6857       218410\n",
       "magic                 18886      212637\n",
       "crime                 8517       204493\n",
       "comics                7778       193981\n",
       "memoir                19733      183477\n",
       "adult-fiction         1659       182261\n",
       "children-s            6888       179037\n",
       "sci-fi-fantasy        26785      176704\n",
       "biography             4605       172444\n",
       "children-s-books      6895       166849\n",
       "supernatural          29011      165139\n",
       "manga                 19052      148583\n",
       "philosophy            23471      141156\n",
       "teen                  29452      140190\n",
       "graphic-novel         13547      138563\n",
       "science               26816      138377\n",
       "new-adult             21387      132973\n",
       "suspense              29076      132115\n",
       "novel                 21989      129366\n",
       "poetry                23831      127220\n",
       "picture-books         23605      125049\n",
       "school                26735      123764\n",
       "contemporary-romance  8076       121716\n",
       "childhood             6828       121163\n",
       "plays                 23743      120752\n",
       "scifi                 26894      119566\n",
       "realistic-fiction     25438      118968\n",
       "kids                  17124      118799\n",
       "Name: count, dtype: int64"
      ]
     },
     "execution_count": 108,
     "metadata": {},
     "output_type": "execute_result"
    }
   ],
   "source": [
    "occ_count3.head(60)"
   ]
  },
  {
   "cell_type": "code",
   "execution_count": 82,
   "metadata": {},
   "outputs": [
    {
     "data": {
      "text/plain": [
       "count    3.423000e+04\n",
       "mean     1.404825e+03\n",
       "std      3.514121e+04\n",
       "min      0.000000e+00\n",
       "25%      3.000000e+00\n",
       "50%      1.000000e+01\n",
       "75%      5.200000e+01\n",
       "max      3.688819e+06\n",
       "Name: count, dtype: float64"
      ]
     },
     "execution_count": 82,
     "metadata": {},
     "output_type": "execute_result"
    }
   ],
   "source": [
    "occ_count3.describe()"
   ]
  },
  {
   "cell_type": "code",
   "execution_count": 33,
   "metadata": {},
   "outputs": [
    {
     "data": {
      "text/plain": [
       "999912"
      ]
     },
     "execution_count": 33,
     "metadata": {},
     "output_type": "execute_result"
    }
   ],
   "source": [
    "tag_counts.sum()"
   ]
  },
  {
   "cell_type": "raw",
   "metadata": {},
   "source": [
    "liste genres à la main\n",
    "traitement nlp\n",
    "optimiser le type des colonnes"
   ]
  },
  {
   "cell_type": "code",
   "execution_count": null,
   "metadata": {},
   "outputs": [],
   "source": []
  }
 ],
 "metadata": {
  "kernelspec": {
   "display_name": "Python 3",
   "language": "python",
   "name": "python3"
  },
  "language_info": {
   "codemirror_mode": {
    "name": "ipython",
    "version": 3
   },
   "file_extension": ".py",
   "mimetype": "text/x-python",
   "name": "python",
   "nbconvert_exporter": "python",
   "pygments_lexer": "ipython3",
   "version": "3.8.11"
  }
 },
 "nbformat": 4,
 "nbformat_minor": 1
}
