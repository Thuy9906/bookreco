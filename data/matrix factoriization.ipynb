{
 "cells": [
  {
   "cell_type": "code",
   "execution_count": 1,
   "id": "d2a3302a",
   "metadata": {},
   "outputs": [],
   "source": [
    "import pandas as pd\n",
    "r = pd.read_csv( 'ratings.csv' )"
   ]
  },
  {
   "cell_type": "code",
   "execution_count": 2,
   "id": "3957bb2b",
   "metadata": {},
   "outputs": [
    {
     "data": {
      "text/html": [
       "<div>\n",
       "<style scoped>\n",
       "    .dataframe tbody tr th:only-of-type {\n",
       "        vertical-align: middle;\n",
       "    }\n",
       "\n",
       "    .dataframe tbody tr th {\n",
       "        vertical-align: top;\n",
       "    }\n",
       "\n",
       "    .dataframe thead th {\n",
       "        text-align: right;\n",
       "    }\n",
       "</style>\n",
       "<table border=\"1\" class=\"dataframe\">\n",
       "  <thead>\n",
       "    <tr style=\"text-align: right;\">\n",
       "      <th></th>\n",
       "      <th>user_id</th>\n",
       "      <th>book_id</th>\n",
       "      <th>rating</th>\n",
       "    </tr>\n",
       "  </thead>\n",
       "  <tbody>\n",
       "    <tr>\n",
       "      <th>0</th>\n",
       "      <td>1</td>\n",
       "      <td>258</td>\n",
       "      <td>5</td>\n",
       "    </tr>\n",
       "    <tr>\n",
       "      <th>1</th>\n",
       "      <td>2</td>\n",
       "      <td>4081</td>\n",
       "      <td>4</td>\n",
       "    </tr>\n",
       "    <tr>\n",
       "      <th>2</th>\n",
       "      <td>2</td>\n",
       "      <td>260</td>\n",
       "      <td>5</td>\n",
       "    </tr>\n",
       "    <tr>\n",
       "      <th>3</th>\n",
       "      <td>2</td>\n",
       "      <td>9296</td>\n",
       "      <td>5</td>\n",
       "    </tr>\n",
       "    <tr>\n",
       "      <th>4</th>\n",
       "      <td>2</td>\n",
       "      <td>2318</td>\n",
       "      <td>3</td>\n",
       "    </tr>\n",
       "    <tr>\n",
       "      <th>...</th>\n",
       "      <td>...</td>\n",
       "      <td>...</td>\n",
       "      <td>...</td>\n",
       "    </tr>\n",
       "    <tr>\n",
       "      <th>5976474</th>\n",
       "      <td>49925</td>\n",
       "      <td>510</td>\n",
       "      <td>5</td>\n",
       "    </tr>\n",
       "    <tr>\n",
       "      <th>5976475</th>\n",
       "      <td>49925</td>\n",
       "      <td>528</td>\n",
       "      <td>4</td>\n",
       "    </tr>\n",
       "    <tr>\n",
       "      <th>5976476</th>\n",
       "      <td>49925</td>\n",
       "      <td>722</td>\n",
       "      <td>4</td>\n",
       "    </tr>\n",
       "    <tr>\n",
       "      <th>5976477</th>\n",
       "      <td>49925</td>\n",
       "      <td>949</td>\n",
       "      <td>5</td>\n",
       "    </tr>\n",
       "    <tr>\n",
       "      <th>5976478</th>\n",
       "      <td>49925</td>\n",
       "      <td>1023</td>\n",
       "      <td>4</td>\n",
       "    </tr>\n",
       "  </tbody>\n",
       "</table>\n",
       "<p>5976479 rows × 3 columns</p>\n",
       "</div>"
      ],
      "text/plain": [
       "         user_id  book_id  rating\n",
       "0              1      258       5\n",
       "1              2     4081       4\n",
       "2              2      260       5\n",
       "3              2     9296       5\n",
       "4              2     2318       3\n",
       "...          ...      ...     ...\n",
       "5976474    49925      510       5\n",
       "5976475    49925      528       4\n",
       "5976476    49925      722       4\n",
       "5976477    49925      949       5\n",
       "5976478    49925     1023       4\n",
       "\n",
       "[5976479 rows x 3 columns]"
      ]
     },
     "execution_count": 2,
     "metadata": {},
     "output_type": "execute_result"
    }
   ],
   "source": [
    "r"
   ]
  },
  {
   "cell_type": "code",
   "execution_count": 14,
   "id": "3f4fec8a",
   "metadata": {},
   "outputs": [
    {
     "data": {
      "text/plain": [
       "10000"
      ]
     },
     "execution_count": 14,
     "metadata": {},
     "output_type": "execute_result"
    }
   ],
   "source": [
    "len(r['book_id'].unique())"
   ]
  },
  {
   "cell_type": "code",
   "execution_count": 22,
   "id": "472a23f1",
   "metadata": {},
   "outputs": [
    {
     "data": {
      "text/plain": [
       "count    53424.000000\n",
       "mean       111.868804\n",
       "std         26.071224\n",
       "min         19.000000\n",
       "25%         96.000000\n",
       "50%        111.000000\n",
       "75%        128.000000\n",
       "95%        157.000000\n",
       "max        200.000000\n",
       "Name: user_id, dtype: float64"
      ]
     },
     "execution_count": 22,
     "metadata": {},
     "output_type": "execute_result"
    }
   ],
   "source": [
    "reviews_per_user = r.groupby( 'user_id' ).user_id.apply( lambda x: len( x ))\n",
    "reviews_per_user.describe([.25, .5, .75, .95])"
   ]
  },
  {
   "cell_type": "code",
   "execution_count": 109,
   "id": "0399b9c4",
   "metadata": {},
   "outputs": [
    {
     "data": {
      "text/plain": [
       "157.0"
      ]
     },
     "execution_count": 109,
     "metadata": {},
     "output_type": "execute_result"
    }
   ],
   "source": [
    "reviews_per_user.quantile(0.95)"
   ]
  },
  {
   "cell_type": "markdown",
   "id": "7760515a",
   "metadata": {},
   "source": [
    "Step-1) Extract users and ratings of more than 157\n",
    "extract the user ids who have given more than 157 ratings and when we will have user ids we will extract the ratings of only this user id from the rating dataframe"
   ]
  },
  {
   "cell_type": "code",
   "execution_count": 2,
   "id": "9729a97c",
   "metadata": {},
   "outputs": [
    {
     "name": "stdout",
     "output_type": "stream",
     "text": [
      "(2534,)\n"
     ]
    },
    {
     "data": {
      "text/html": [
       "<div>\n",
       "<style scoped>\n",
       "    .dataframe tbody tr th:only-of-type {\n",
       "        vertical-align: middle;\n",
       "    }\n",
       "\n",
       "    .dataframe tbody tr th {\n",
       "        vertical-align: top;\n",
       "    }\n",
       "\n",
       "    .dataframe thead th {\n",
       "        text-align: right;\n",
       "    }\n",
       "</style>\n",
       "<table border=\"1\" class=\"dataframe\">\n",
       "  <thead>\n",
       "    <tr style=\"text-align: right;\">\n",
       "      <th></th>\n",
       "      <th>user_id</th>\n",
       "      <th>book_id</th>\n",
       "      <th>rating</th>\n",
       "    </tr>\n",
       "  </thead>\n",
       "  <tbody>\n",
       "    <tr>\n",
       "      <th>977</th>\n",
       "      <td>75</td>\n",
       "      <td>3254</td>\n",
       "      <td>2</td>\n",
       "    </tr>\n",
       "    <tr>\n",
       "      <th>978</th>\n",
       "      <td>75</td>\n",
       "      <td>6777</td>\n",
       "      <td>5</td>\n",
       "    </tr>\n",
       "    <tr>\n",
       "      <th>979</th>\n",
       "      <td>75</td>\n",
       "      <td>11</td>\n",
       "      <td>5</td>\n",
       "    </tr>\n",
       "    <tr>\n",
       "      <th>981</th>\n",
       "      <td>75</td>\n",
       "      <td>372</td>\n",
       "      <td>4</td>\n",
       "    </tr>\n",
       "    <tr>\n",
       "      <th>982</th>\n",
       "      <td>75</td>\n",
       "      <td>476</td>\n",
       "      <td>3</td>\n",
       "    </tr>\n",
       "    <tr>\n",
       "      <th>...</th>\n",
       "      <td>...</td>\n",
       "      <td>...</td>\n",
       "      <td>...</td>\n",
       "    </tr>\n",
       "    <tr>\n",
       "      <th>5976327</th>\n",
       "      <td>20586</td>\n",
       "      <td>1089</td>\n",
       "      <td>3</td>\n",
       "    </tr>\n",
       "    <tr>\n",
       "      <th>5976328</th>\n",
       "      <td>20586</td>\n",
       "      <td>894</td>\n",
       "      <td>5</td>\n",
       "    </tr>\n",
       "    <tr>\n",
       "      <th>5976329</th>\n",
       "      <td>20586</td>\n",
       "      <td>755</td>\n",
       "      <td>3</td>\n",
       "    </tr>\n",
       "    <tr>\n",
       "      <th>5976330</th>\n",
       "      <td>20586</td>\n",
       "      <td>2109</td>\n",
       "      <td>3</td>\n",
       "    </tr>\n",
       "    <tr>\n",
       "      <th>5976337</th>\n",
       "      <td>46737</td>\n",
       "      <td>4200</td>\n",
       "      <td>4</td>\n",
       "    </tr>\n",
       "  </tbody>\n",
       "</table>\n",
       "<p>427509 rows × 3 columns</p>\n",
       "</div>"
      ],
      "text/plain": [
       "         user_id  book_id  rating\n",
       "977           75     3254       2\n",
       "978           75     6777       5\n",
       "979           75       11       5\n",
       "981           75      372       4\n",
       "982           75      476       3\n",
       "...          ...      ...     ...\n",
       "5976327    20586     1089       3\n",
       "5976328    20586      894       5\n",
       "5976329    20586      755       3\n",
       "5976330    20586     2109       3\n",
       "5976337    46737     4200       4\n",
       "\n",
       "[427509 rows x 3 columns]"
      ]
     },
     "execution_count": 2,
     "metadata": {},
     "output_type": "execute_result"
    }
   ],
   "source": [
    "xu = r['user_id'].value_counts() > 157\n",
    "yu = xu[xu].index  #user_ids\n",
    "print(yu.shape)\n",
    "uratings = r[r['user_id'].isin(yu)]\n",
    "uratings"
   ]
  },
  {
   "cell_type": "code",
   "execution_count": 24,
   "id": "4ca3ab97",
   "metadata": {},
   "outputs": [
    {
     "data": {
      "text/plain": [
       "count    10000.000000\n",
       "mean       597.647900\n",
       "std       1267.289788\n",
       "min          8.000000\n",
       "25%        155.000000\n",
       "50%        248.000000\n",
       "75%        503.000000\n",
       "95%       2132.350000\n",
       "max      22806.000000\n",
       "Name: book_id, dtype: float64"
      ]
     },
     "execution_count": 24,
     "metadata": {},
     "output_type": "execute_result"
    }
   ],
   "source": [
    "reviews_per_book = r.groupby( 'book_id' ).book_id.apply( lambda x: len( x ))\n",
    "reviews_per_book.describe([.25, .5, .75, .95])"
   ]
  },
  {
   "cell_type": "code",
   "execution_count": 44,
   "id": "cd308495",
   "metadata": {},
   "outputs": [
    {
     "data": {
      "text/plain": [
       "book_id\n",
       "1        22806\n",
       "2        21850\n",
       "3        16931\n",
       "4        19088\n",
       "5        16604\n",
       "         ...  \n",
       "9996       141\n",
       "9997        93\n",
       "9998       102\n",
       "9999       130\n",
       "10000      111\n",
       "Name: book_id, Length: 10000, dtype: int64"
      ]
     },
     "execution_count": 44,
     "metadata": {},
     "output_type": "execute_result"
    }
   ],
   "source": [
    "reviews_per_book"
   ]
  },
  {
   "cell_type": "markdown",
   "id": "083fc241",
   "metadata": {},
   "source": [
    "step-2) Extract books that have received more than 2132 ratings.\n",
    "Now dataframe size has decreased and we have 4.8 lakh because when we merge the dataframe, all the book id-data we were not having. Now we will count the rating of each book so we will group data based on title and aggregate based on rating."
   ]
  },
  {
   "cell_type": "code",
   "execution_count": 3,
   "id": "cd96bfb1",
   "metadata": {},
   "outputs": [
    {
     "name": "stdout",
     "output_type": "stream",
     "text": [
      "(500,)\n"
     ]
    },
    {
     "data": {
      "text/html": [
       "<div>\n",
       "<style scoped>\n",
       "    .dataframe tbody tr th:only-of-type {\n",
       "        vertical-align: middle;\n",
       "    }\n",
       "\n",
       "    .dataframe tbody tr th {\n",
       "        vertical-align: top;\n",
       "    }\n",
       "\n",
       "    .dataframe thead th {\n",
       "        text-align: right;\n",
       "    }\n",
       "</style>\n",
       "<table border=\"1\" class=\"dataframe\">\n",
       "  <thead>\n",
       "    <tr style=\"text-align: right;\">\n",
       "      <th></th>\n",
       "      <th>user_id</th>\n",
       "      <th>book_id</th>\n",
       "      <th>rating</th>\n",
       "    </tr>\n",
       "  </thead>\n",
       "  <tbody>\n",
       "    <tr>\n",
       "      <th>0</th>\n",
       "      <td>1</td>\n",
       "      <td>258</td>\n",
       "      <td>5</td>\n",
       "    </tr>\n",
       "    <tr>\n",
       "      <th>5</th>\n",
       "      <td>2</td>\n",
       "      <td>26</td>\n",
       "      <td>4</td>\n",
       "    </tr>\n",
       "    <tr>\n",
       "      <th>7</th>\n",
       "      <td>2</td>\n",
       "      <td>33</td>\n",
       "      <td>4</td>\n",
       "    </tr>\n",
       "    <tr>\n",
       "      <th>8</th>\n",
       "      <td>2</td>\n",
       "      <td>301</td>\n",
       "      <td>5</td>\n",
       "    </tr>\n",
       "    <tr>\n",
       "      <th>12</th>\n",
       "      <td>4</td>\n",
       "      <td>70</td>\n",
       "      <td>4</td>\n",
       "    </tr>\n",
       "    <tr>\n",
       "      <th>...</th>\n",
       "      <td>...</td>\n",
       "      <td>...</td>\n",
       "      <td>...</td>\n",
       "    </tr>\n",
       "    <tr>\n",
       "      <th>5976456</th>\n",
       "      <td>3173</td>\n",
       "      <td>459</td>\n",
       "      <td>5</td>\n",
       "    </tr>\n",
       "    <tr>\n",
       "      <th>5976458</th>\n",
       "      <td>53358</td>\n",
       "      <td>253</td>\n",
       "      <td>5</td>\n",
       "    </tr>\n",
       "    <tr>\n",
       "      <th>5976466</th>\n",
       "      <td>35336</td>\n",
       "      <td>317</td>\n",
       "      <td>5</td>\n",
       "    </tr>\n",
       "    <tr>\n",
       "      <th>5976473</th>\n",
       "      <td>49925</td>\n",
       "      <td>330</td>\n",
       "      <td>5</td>\n",
       "    </tr>\n",
       "    <tr>\n",
       "      <th>5976474</th>\n",
       "      <td>49925</td>\n",
       "      <td>510</td>\n",
       "      <td>5</td>\n",
       "    </tr>\n",
       "  </tbody>\n",
       "</table>\n",
       "<p>2399375 rows × 3 columns</p>\n",
       "</div>"
      ],
      "text/plain": [
       "         user_id  book_id  rating\n",
       "0              1      258       5\n",
       "5              2       26       4\n",
       "7              2       33       4\n",
       "8              2      301       5\n",
       "12             4       70       4\n",
       "...          ...      ...     ...\n",
       "5976456     3173      459       5\n",
       "5976458    53358      253       5\n",
       "5976466    35336      317       5\n",
       "5976473    49925      330       5\n",
       "5976474    49925      510       5\n",
       "\n",
       "[2399375 rows x 3 columns]"
      ]
     },
     "execution_count": 3,
     "metadata": {},
     "output_type": "execute_result"
    }
   ],
   "source": [
    "xb = r['book_id'].value_counts() > 2132\n",
    "yb = xb[xb].index  #user_ids\n",
    "print(yb.shape)\n",
    "bratings = r[r['book_id'].isin(yb)]\n",
    "bratings"
   ]
  },
  {
   "cell_type": "code",
   "execution_count": 43,
   "id": "3af9d623",
   "metadata": {},
   "outputs": [
    {
     "data": {
      "text/plain": [
       "book_id\n",
       "1      22806\n",
       "2      21850\n",
       "3      16931\n",
       "4      19088\n",
       "5      16604\n",
       "       ...  \n",
       "715     2400\n",
       "730     2147\n",
       "733     2533\n",
       "773     2225\n",
       "826     2175\n",
       "Name: book_id, Length: 500, dtype: int64"
      ]
     },
     "execution_count": 43,
     "metadata": {},
     "output_type": "execute_result"
    }
   ],
   "source": [
    "reviews_per_book_filtered =bratings.groupby( 'book_id' ).book_id.apply( lambda x: len( x ))\n",
    "reviews_per_book_filtered"
   ]
  },
  {
   "cell_type": "code",
   "execution_count": 4,
   "id": "78c33f64",
   "metadata": {},
   "outputs": [],
   "source": [
    "final_rating=pd.merge(uratings, bratings, on=['user_id', 'book_id', 'rating'])"
   ]
  },
  {
   "cell_type": "code",
   "execution_count": 29,
   "id": "2e53f438",
   "metadata": {},
   "outputs": [
    {
     "data": {
      "text/html": [
       "<div>\n",
       "<style scoped>\n",
       "    .dataframe tbody tr th:only-of-type {\n",
       "        vertical-align: middle;\n",
       "    }\n",
       "\n",
       "    .dataframe tbody tr th {\n",
       "        vertical-align: top;\n",
       "    }\n",
       "\n",
       "    .dataframe thead th {\n",
       "        text-align: right;\n",
       "    }\n",
       "</style>\n",
       "<table border=\"1\" class=\"dataframe\">\n",
       "  <thead>\n",
       "    <tr style=\"text-align: right;\">\n",
       "      <th></th>\n",
       "      <th>user_id</th>\n",
       "      <th>book_id</th>\n",
       "      <th>rating</th>\n",
       "    </tr>\n",
       "  </thead>\n",
       "  <tbody>\n",
       "    <tr>\n",
       "      <th>0</th>\n",
       "      <td>75</td>\n",
       "      <td>11</td>\n",
       "      <td>5</td>\n",
       "    </tr>\n",
       "    <tr>\n",
       "      <th>1</th>\n",
       "      <td>75</td>\n",
       "      <td>372</td>\n",
       "      <td>4</td>\n",
       "    </tr>\n",
       "    <tr>\n",
       "      <th>2</th>\n",
       "      <td>75</td>\n",
       "      <td>476</td>\n",
       "      <td>3</td>\n",
       "    </tr>\n",
       "    <tr>\n",
       "      <th>3</th>\n",
       "      <td>75</td>\n",
       "      <td>115</td>\n",
       "      <td>4</td>\n",
       "    </tr>\n",
       "    <tr>\n",
       "      <th>4</th>\n",
       "      <td>75</td>\n",
       "      <td>122</td>\n",
       "      <td>4</td>\n",
       "    </tr>\n",
       "    <tr>\n",
       "      <th>...</th>\n",
       "      <td>...</td>\n",
       "      <td>...</td>\n",
       "      <td>...</td>\n",
       "    </tr>\n",
       "    <tr>\n",
       "      <th>200942</th>\n",
       "      <td>25030</td>\n",
       "      <td>178</td>\n",
       "      <td>3</td>\n",
       "    </tr>\n",
       "    <tr>\n",
       "      <th>200943</th>\n",
       "      <td>50898</td>\n",
       "      <td>209</td>\n",
       "      <td>3</td>\n",
       "    </tr>\n",
       "    <tr>\n",
       "      <th>200944</th>\n",
       "      <td>39663</td>\n",
       "      <td>74</td>\n",
       "      <td>4</td>\n",
       "    </tr>\n",
       "    <tr>\n",
       "      <th>200945</th>\n",
       "      <td>19951</td>\n",
       "      <td>267</td>\n",
       "      <td>5</td>\n",
       "    </tr>\n",
       "    <tr>\n",
       "      <th>200946</th>\n",
       "      <td>20221</td>\n",
       "      <td>320</td>\n",
       "      <td>4</td>\n",
       "    </tr>\n",
       "  </tbody>\n",
       "</table>\n",
       "<p>200947 rows × 3 columns</p>\n",
       "</div>"
      ],
      "text/plain": [
       "        user_id  book_id  rating\n",
       "0            75       11       5\n",
       "1            75      372       4\n",
       "2            75      476       3\n",
       "3            75      115       4\n",
       "4            75      122       4\n",
       "...         ...      ...     ...\n",
       "200942    25030      178       3\n",
       "200943    50898      209       3\n",
       "200944    39663       74       4\n",
       "200945    19951      267       5\n",
       "200946    20221      320       4\n",
       "\n",
       "[200947 rows x 3 columns]"
      ]
     },
     "execution_count": 29,
     "metadata": {},
     "output_type": "execute_result"
    }
   ],
   "source": [
    "final_rating"
   ]
  },
  {
   "cell_type": "code",
   "execution_count": 22,
   "id": "db673181",
   "metadata": {},
   "outputs": [
    {
     "data": {
      "text/plain": [
       "2534"
      ]
     },
     "execution_count": 22,
     "metadata": {},
     "output_type": "execute_result"
    }
   ],
   "source": [
    "len(final_rating['user_id'].unique())"
   ]
  },
  {
   "cell_type": "markdown",
   "id": "2ac7312a",
   "metadata": {},
   "source": [
    "replace book_id by title in final_rating"
   ]
  },
  {
   "cell_type": "markdown",
   "id": "09d72471",
   "metadata": {},
   "source": [
    "b = pd.read_csv('books.csv' )"
   ]
  },
  {
   "cell_type": "code",
   "execution_count": 5,
   "id": "7e836040",
   "metadata": {},
   "outputs": [
    {
     "ename": "NameError",
     "evalue": "name 'b' is not defined",
     "output_type": "error",
     "traceback": [
      "\u001b[0;31m---------------------------------------------------------------------------\u001b[0m",
      "\u001b[0;31mNameError\u001b[0m                                 Traceback (most recent call last)",
      "\u001b[0;32m<ipython-input-5-ec3d17f5722f>\u001b[0m in \u001b[0;36m<module>\u001b[0;34m\u001b[0m\n\u001b[0;32m----> 1\u001b[0;31m \u001b[0mb2\u001b[0m\u001b[0;34m=\u001b[0m\u001b[0mb\u001b[0m\u001b[0;34m[\u001b[0m\u001b[0;34m[\u001b[0m\u001b[0;34m'book_id'\u001b[0m\u001b[0;34m,\u001b[0m \u001b[0;34m'title'\u001b[0m\u001b[0;34m]\u001b[0m\u001b[0;34m]\u001b[0m\u001b[0;34m\u001b[0m\u001b[0;34m\u001b[0m\u001b[0m\n\u001b[0m",
      "\u001b[0;31mNameError\u001b[0m: name 'b' is not defined"
     ]
    }
   ],
   "source": [
    "b2=b[['book_id', 'title']]"
   ]
  },
  {
   "cell_type": "code",
   "execution_count": 61,
   "id": "f550e749",
   "metadata": {},
   "outputs": [],
   "source": [
    "frt=final_rating.merge(b2, on='book_id')"
   ]
  },
  {
   "cell_type": "code",
   "execution_count": 105,
   "id": "edb9c6aa",
   "metadata": {},
   "outputs": [
    {
     "data": {
      "text/html": [
       "<div>\n",
       "<style scoped>\n",
       "    .dataframe tbody tr th:only-of-type {\n",
       "        vertical-align: middle;\n",
       "    }\n",
       "\n",
       "    .dataframe tbody tr th {\n",
       "        vertical-align: top;\n",
       "    }\n",
       "\n",
       "    .dataframe thead th {\n",
       "        text-align: right;\n",
       "    }\n",
       "</style>\n",
       "<table border=\"1\" class=\"dataframe\">\n",
       "  <thead>\n",
       "    <tr style=\"text-align: right;\">\n",
       "      <th></th>\n",
       "      <th>user_id</th>\n",
       "      <th>book_id</th>\n",
       "      <th>rating</th>\n",
       "      <th>title</th>\n",
       "    </tr>\n",
       "  </thead>\n",
       "  <tbody>\n",
       "    <tr>\n",
       "      <th>0</th>\n",
       "      <td>75</td>\n",
       "      <td>11</td>\n",
       "      <td>5</td>\n",
       "      <td>The Kite Runner</td>\n",
       "    </tr>\n",
       "    <tr>\n",
       "      <th>1</th>\n",
       "      <td>143</td>\n",
       "      <td>11</td>\n",
       "      <td>5</td>\n",
       "      <td>The Kite Runner</td>\n",
       "    </tr>\n",
       "    <tr>\n",
       "      <th>2</th>\n",
       "      <td>230</td>\n",
       "      <td>11</td>\n",
       "      <td>5</td>\n",
       "      <td>The Kite Runner</td>\n",
       "    </tr>\n",
       "    <tr>\n",
       "      <th>3</th>\n",
       "      <td>247</td>\n",
       "      <td>11</td>\n",
       "      <td>5</td>\n",
       "      <td>The Kite Runner</td>\n",
       "    </tr>\n",
       "    <tr>\n",
       "      <th>4</th>\n",
       "      <td>256</td>\n",
       "      <td>11</td>\n",
       "      <td>4</td>\n",
       "      <td>The Kite Runner</td>\n",
       "    </tr>\n",
       "    <tr>\n",
       "      <th>...</th>\n",
       "      <td>...</td>\n",
       "      <td>...</td>\n",
       "      <td>...</td>\n",
       "      <td>...</td>\n",
       "    </tr>\n",
       "    <tr>\n",
       "      <th>200942</th>\n",
       "      <td>27330</td>\n",
       "      <td>279</td>\n",
       "      <td>5</td>\n",
       "      <td>Harry Potter and the Cursed Child - Parts One ...</td>\n",
       "    </tr>\n",
       "    <tr>\n",
       "      <th>200943</th>\n",
       "      <td>20782</td>\n",
       "      <td>279</td>\n",
       "      <td>1</td>\n",
       "      <td>Harry Potter and the Cursed Child - Parts One ...</td>\n",
       "    </tr>\n",
       "    <tr>\n",
       "      <th>200944</th>\n",
       "      <td>51250</td>\n",
       "      <td>279</td>\n",
       "      <td>2</td>\n",
       "      <td>Harry Potter and the Cursed Child - Parts One ...</td>\n",
       "    </tr>\n",
       "    <tr>\n",
       "      <th>200945</th>\n",
       "      <td>50898</td>\n",
       "      <td>279</td>\n",
       "      <td>3</td>\n",
       "      <td>Harry Potter and the Cursed Child - Parts One ...</td>\n",
       "    </tr>\n",
       "    <tr>\n",
       "      <th>200946</th>\n",
       "      <td>39663</td>\n",
       "      <td>279</td>\n",
       "      <td>3</td>\n",
       "      <td>Harry Potter and the Cursed Child - Parts One ...</td>\n",
       "    </tr>\n",
       "  </tbody>\n",
       "</table>\n",
       "<p>200947 rows × 4 columns</p>\n",
       "</div>"
      ],
      "text/plain": [
       "        user_id  book_id  rating  \\\n",
       "0            75       11       5   \n",
       "1           143       11       5   \n",
       "2           230       11       5   \n",
       "3           247       11       5   \n",
       "4           256       11       4   \n",
       "...         ...      ...     ...   \n",
       "200942    27330      279       5   \n",
       "200943    20782      279       1   \n",
       "200944    51250      279       2   \n",
       "200945    50898      279       3   \n",
       "200946    39663      279       3   \n",
       "\n",
       "                                                    title  \n",
       "0                                         The Kite Runner  \n",
       "1                                         The Kite Runner  \n",
       "2                                         The Kite Runner  \n",
       "3                                         The Kite Runner  \n",
       "4                                         The Kite Runner  \n",
       "...                                                   ...  \n",
       "200942  Harry Potter and the Cursed Child - Parts One ...  \n",
       "200943  Harry Potter and the Cursed Child - Parts One ...  \n",
       "200944  Harry Potter and the Cursed Child - Parts One ...  \n",
       "200945  Harry Potter and the Cursed Child - Parts One ...  \n",
       "200946  Harry Potter and the Cursed Child - Parts One ...  \n",
       "\n",
       "[200947 rows x 4 columns]"
      ]
     },
     "execution_count": 105,
     "metadata": {},
     "output_type": "execute_result"
    }
   ],
   "source": [
    "frt"
   ]
  },
  {
   "cell_type": "raw",
   "id": "5b7ea219",
   "metadata": {},
   "source": [
    "Step-3) Create Pivot Table"
   ]
  },
  {
   "cell_type": "code",
   "execution_count": 24,
   "id": "c33f9097",
   "metadata": {},
   "outputs": [],
   "source": [
    "book_pivot = final_rating.pivot_table(columns='user_id', index='book_id', values=\"rating\")\n",
    "book_pivot.fillna(0, inplace=True)"
   ]
  },
  {
   "cell_type": "code",
   "execution_count": 23,
   "id": "237c105c",
   "metadata": {},
   "outputs": [
    {
     "data": {
      "text/html": [
       "<div>\n",
       "<style scoped>\n",
       "    .dataframe tbody tr th:only-of-type {\n",
       "        vertical-align: middle;\n",
       "    }\n",
       "\n",
       "    .dataframe tbody tr th {\n",
       "        vertical-align: top;\n",
       "    }\n",
       "\n",
       "    .dataframe thead th {\n",
       "        text-align: right;\n",
       "    }\n",
       "</style>\n",
       "<table border=\"1\" class=\"dataframe\">\n",
       "  <thead>\n",
       "    <tr style=\"text-align: right;\">\n",
       "      <th>user_id</th>\n",
       "      <th>35</th>\n",
       "      <th>75</th>\n",
       "      <th>143</th>\n",
       "      <th>173</th>\n",
       "      <th>178</th>\n",
       "      <th>202</th>\n",
       "      <th>215</th>\n",
       "      <th>230</th>\n",
       "      <th>247</th>\n",
       "      <th>256</th>\n",
       "      <th>...</th>\n",
       "      <th>53145</th>\n",
       "      <th>53165</th>\n",
       "      <th>53173</th>\n",
       "      <th>53245</th>\n",
       "      <th>53279</th>\n",
       "      <th>53281</th>\n",
       "      <th>53292</th>\n",
       "      <th>53293</th>\n",
       "      <th>53318</th>\n",
       "      <th>53366</th>\n",
       "    </tr>\n",
       "  </thead>\n",
       "  <tbody>\n",
       "    <tr>\n",
       "      <th>count</th>\n",
       "      <td>500.000000</td>\n",
       "      <td>500.000000</td>\n",
       "      <td>500.000000</td>\n",
       "      <td>500.000000</td>\n",
       "      <td>500.000000</td>\n",
       "      <td>500.000000</td>\n",
       "      <td>500.00000</td>\n",
       "      <td>500.000000</td>\n",
       "      <td>500.000000</td>\n",
       "      <td>500.000000</td>\n",
       "      <td>...</td>\n",
       "      <td>500.000000</td>\n",
       "      <td>500.000000</td>\n",
       "      <td>500.000000</td>\n",
       "      <td>500.000000</td>\n",
       "      <td>500.000000</td>\n",
       "      <td>500.000000</td>\n",
       "      <td>500.000000</td>\n",
       "      <td>500.000000</td>\n",
       "      <td>500.000000</td>\n",
       "      <td>500.000000</td>\n",
       "    </tr>\n",
       "    <tr>\n",
       "      <th>mean</th>\n",
       "      <td>0.604000</td>\n",
       "      <td>0.630000</td>\n",
       "      <td>0.570000</td>\n",
       "      <td>0.836000</td>\n",
       "      <td>0.422000</td>\n",
       "      <td>0.824000</td>\n",
       "      <td>0.57400</td>\n",
       "      <td>0.680000</td>\n",
       "      <td>0.594000</td>\n",
       "      <td>0.676000</td>\n",
       "      <td>...</td>\n",
       "      <td>0.638000</td>\n",
       "      <td>0.734000</td>\n",
       "      <td>0.428000</td>\n",
       "      <td>0.582000</td>\n",
       "      <td>0.514000</td>\n",
       "      <td>0.852000</td>\n",
       "      <td>1.270000</td>\n",
       "      <td>0.880000</td>\n",
       "      <td>0.520000</td>\n",
       "      <td>0.424000</td>\n",
       "    </tr>\n",
       "    <tr>\n",
       "      <th>std</th>\n",
       "      <td>1.300217</td>\n",
       "      <td>1.411767</td>\n",
       "      <td>1.407502</td>\n",
       "      <td>1.590649</td>\n",
       "      <td>1.238946</td>\n",
       "      <td>1.658471</td>\n",
       "      <td>1.40872</td>\n",
       "      <td>1.536986</td>\n",
       "      <td>1.478356</td>\n",
       "      <td>1.465373</td>\n",
       "      <td>...</td>\n",
       "      <td>1.578588</td>\n",
       "      <td>1.663966</td>\n",
       "      <td>1.252179</td>\n",
       "      <td>1.388211</td>\n",
       "      <td>1.228341</td>\n",
       "      <td>1.638128</td>\n",
       "      <td>2.178668</td>\n",
       "      <td>1.906008</td>\n",
       "      <td>1.399112</td>\n",
       "      <td>1.167454</td>\n",
       "    </tr>\n",
       "    <tr>\n",
       "      <th>min</th>\n",
       "      <td>0.000000</td>\n",
       "      <td>0.000000</td>\n",
       "      <td>0.000000</td>\n",
       "      <td>0.000000</td>\n",
       "      <td>0.000000</td>\n",
       "      <td>0.000000</td>\n",
       "      <td>0.00000</td>\n",
       "      <td>0.000000</td>\n",
       "      <td>0.000000</td>\n",
       "      <td>0.000000</td>\n",
       "      <td>...</td>\n",
       "      <td>0.000000</td>\n",
       "      <td>0.000000</td>\n",
       "      <td>0.000000</td>\n",
       "      <td>0.000000</td>\n",
       "      <td>0.000000</td>\n",
       "      <td>0.000000</td>\n",
       "      <td>0.000000</td>\n",
       "      <td>0.000000</td>\n",
       "      <td>0.000000</td>\n",
       "      <td>0.000000</td>\n",
       "    </tr>\n",
       "    <tr>\n",
       "      <th>25%</th>\n",
       "      <td>0.000000</td>\n",
       "      <td>0.000000</td>\n",
       "      <td>0.000000</td>\n",
       "      <td>0.000000</td>\n",
       "      <td>0.000000</td>\n",
       "      <td>0.000000</td>\n",
       "      <td>0.00000</td>\n",
       "      <td>0.000000</td>\n",
       "      <td>0.000000</td>\n",
       "      <td>0.000000</td>\n",
       "      <td>...</td>\n",
       "      <td>0.000000</td>\n",
       "      <td>0.000000</td>\n",
       "      <td>0.000000</td>\n",
       "      <td>0.000000</td>\n",
       "      <td>0.000000</td>\n",
       "      <td>0.000000</td>\n",
       "      <td>0.000000</td>\n",
       "      <td>0.000000</td>\n",
       "      <td>0.000000</td>\n",
       "      <td>0.000000</td>\n",
       "    </tr>\n",
       "    <tr>\n",
       "      <th>50%</th>\n",
       "      <td>0.000000</td>\n",
       "      <td>0.000000</td>\n",
       "      <td>0.000000</td>\n",
       "      <td>0.000000</td>\n",
       "      <td>0.000000</td>\n",
       "      <td>0.000000</td>\n",
       "      <td>0.00000</td>\n",
       "      <td>0.000000</td>\n",
       "      <td>0.000000</td>\n",
       "      <td>0.000000</td>\n",
       "      <td>...</td>\n",
       "      <td>0.000000</td>\n",
       "      <td>0.000000</td>\n",
       "      <td>0.000000</td>\n",
       "      <td>0.000000</td>\n",
       "      <td>0.000000</td>\n",
       "      <td>0.000000</td>\n",
       "      <td>0.000000</td>\n",
       "      <td>0.000000</td>\n",
       "      <td>0.000000</td>\n",
       "      <td>0.000000</td>\n",
       "    </tr>\n",
       "    <tr>\n",
       "      <th>75%</th>\n",
       "      <td>0.000000</td>\n",
       "      <td>0.000000</td>\n",
       "      <td>0.000000</td>\n",
       "      <td>0.000000</td>\n",
       "      <td>0.000000</td>\n",
       "      <td>0.000000</td>\n",
       "      <td>0.00000</td>\n",
       "      <td>0.000000</td>\n",
       "      <td>0.000000</td>\n",
       "      <td>0.000000</td>\n",
       "      <td>...</td>\n",
       "      <td>0.000000</td>\n",
       "      <td>0.000000</td>\n",
       "      <td>0.000000</td>\n",
       "      <td>0.000000</td>\n",
       "      <td>0.000000</td>\n",
       "      <td>0.000000</td>\n",
       "      <td>5.000000</td>\n",
       "      <td>0.000000</td>\n",
       "      <td>0.000000</td>\n",
       "      <td>0.000000</td>\n",
       "    </tr>\n",
       "    <tr>\n",
       "      <th>max</th>\n",
       "      <td>5.000000</td>\n",
       "      <td>5.000000</td>\n",
       "      <td>5.000000</td>\n",
       "      <td>5.000000</td>\n",
       "      <td>5.000000</td>\n",
       "      <td>5.000000</td>\n",
       "      <td>5.00000</td>\n",
       "      <td>5.000000</td>\n",
       "      <td>5.000000</td>\n",
       "      <td>5.000000</td>\n",
       "      <td>...</td>\n",
       "      <td>5.000000</td>\n",
       "      <td>5.000000</td>\n",
       "      <td>5.000000</td>\n",
       "      <td>5.000000</td>\n",
       "      <td>5.000000</td>\n",
       "      <td>5.000000</td>\n",
       "      <td>5.000000</td>\n",
       "      <td>5.000000</td>\n",
       "      <td>5.000000</td>\n",
       "      <td>5.000000</td>\n",
       "    </tr>\n",
       "  </tbody>\n",
       "</table>\n",
       "<p>8 rows × 2534 columns</p>\n",
       "</div>"
      ],
      "text/plain": [
       "user_id       35          75          143         173         178    \\\n",
       "count    500.000000  500.000000  500.000000  500.000000  500.000000   \n",
       "mean       0.604000    0.630000    0.570000    0.836000    0.422000   \n",
       "std        1.300217    1.411767    1.407502    1.590649    1.238946   \n",
       "min        0.000000    0.000000    0.000000    0.000000    0.000000   \n",
       "25%        0.000000    0.000000    0.000000    0.000000    0.000000   \n",
       "50%        0.000000    0.000000    0.000000    0.000000    0.000000   \n",
       "75%        0.000000    0.000000    0.000000    0.000000    0.000000   \n",
       "max        5.000000    5.000000    5.000000    5.000000    5.000000   \n",
       "\n",
       "user_id       202        215         230         247         256    ...  \\\n",
       "count    500.000000  500.00000  500.000000  500.000000  500.000000  ...   \n",
       "mean       0.824000    0.57400    0.680000    0.594000    0.676000  ...   \n",
       "std        1.658471    1.40872    1.536986    1.478356    1.465373  ...   \n",
       "min        0.000000    0.00000    0.000000    0.000000    0.000000  ...   \n",
       "25%        0.000000    0.00000    0.000000    0.000000    0.000000  ...   \n",
       "50%        0.000000    0.00000    0.000000    0.000000    0.000000  ...   \n",
       "75%        0.000000    0.00000    0.000000    0.000000    0.000000  ...   \n",
       "max        5.000000    5.00000    5.000000    5.000000    5.000000  ...   \n",
       "\n",
       "user_id       53145       53165       53173       53245       53279  \\\n",
       "count    500.000000  500.000000  500.000000  500.000000  500.000000   \n",
       "mean       0.638000    0.734000    0.428000    0.582000    0.514000   \n",
       "std        1.578588    1.663966    1.252179    1.388211    1.228341   \n",
       "min        0.000000    0.000000    0.000000    0.000000    0.000000   \n",
       "25%        0.000000    0.000000    0.000000    0.000000    0.000000   \n",
       "50%        0.000000    0.000000    0.000000    0.000000    0.000000   \n",
       "75%        0.000000    0.000000    0.000000    0.000000    0.000000   \n",
       "max        5.000000    5.000000    5.000000    5.000000    5.000000   \n",
       "\n",
       "user_id       53281       53292       53293       53318       53366  \n",
       "count    500.000000  500.000000  500.000000  500.000000  500.000000  \n",
       "mean       0.852000    1.270000    0.880000    0.520000    0.424000  \n",
       "std        1.638128    2.178668    1.906008    1.399112    1.167454  \n",
       "min        0.000000    0.000000    0.000000    0.000000    0.000000  \n",
       "25%        0.000000    0.000000    0.000000    0.000000    0.000000  \n",
       "50%        0.000000    0.000000    0.000000    0.000000    0.000000  \n",
       "75%        0.000000    5.000000    0.000000    0.000000    0.000000  \n",
       "max        5.000000    5.000000    5.000000    5.000000    5.000000  \n",
       "\n",
       "[8 rows x 2534 columns]"
      ]
     },
     "execution_count": 23,
     "metadata": {},
     "output_type": "execute_result"
    }
   ],
   "source": [
    "book_pivot.describe()"
   ]
  },
  {
   "cell_type": "code",
   "execution_count": 26,
   "id": "01ac5faa",
   "metadata": {},
   "outputs": [
    {
     "data": {
      "text/html": [
       "<div>\n",
       "<style scoped>\n",
       "    .dataframe tbody tr th:only-of-type {\n",
       "        vertical-align: middle;\n",
       "    }\n",
       "\n",
       "    .dataframe tbody tr th {\n",
       "        vertical-align: top;\n",
       "    }\n",
       "\n",
       "    .dataframe thead th {\n",
       "        text-align: right;\n",
       "    }\n",
       "</style>\n",
       "<table border=\"1\" class=\"dataframe\">\n",
       "  <thead>\n",
       "    <tr style=\"text-align: right;\">\n",
       "      <th>user_id</th>\n",
       "      <th>35</th>\n",
       "      <th>75</th>\n",
       "      <th>143</th>\n",
       "      <th>173</th>\n",
       "      <th>178</th>\n",
       "      <th>202</th>\n",
       "      <th>215</th>\n",
       "      <th>230</th>\n",
       "      <th>247</th>\n",
       "      <th>256</th>\n",
       "      <th>...</th>\n",
       "      <th>53145</th>\n",
       "      <th>53165</th>\n",
       "      <th>53173</th>\n",
       "      <th>53245</th>\n",
       "      <th>53279</th>\n",
       "      <th>53281</th>\n",
       "      <th>53292</th>\n",
       "      <th>53293</th>\n",
       "      <th>53318</th>\n",
       "      <th>53366</th>\n",
       "    </tr>\n",
       "    <tr>\n",
       "      <th>book_id</th>\n",
       "      <th></th>\n",
       "      <th></th>\n",
       "      <th></th>\n",
       "      <th></th>\n",
       "      <th></th>\n",
       "      <th></th>\n",
       "      <th></th>\n",
       "      <th></th>\n",
       "      <th></th>\n",
       "      <th></th>\n",
       "      <th></th>\n",
       "      <th></th>\n",
       "      <th></th>\n",
       "      <th></th>\n",
       "      <th></th>\n",
       "      <th></th>\n",
       "      <th></th>\n",
       "      <th></th>\n",
       "      <th></th>\n",
       "      <th></th>\n",
       "      <th></th>\n",
       "    </tr>\n",
       "  </thead>\n",
       "  <tbody>\n",
       "    <tr>\n",
       "      <th>1</th>\n",
       "      <td>0.0</td>\n",
       "      <td>4.0</td>\n",
       "      <td>5.0</td>\n",
       "      <td>4.0</td>\n",
       "      <td>4.0</td>\n",
       "      <td>0.0</td>\n",
       "      <td>0.0</td>\n",
       "      <td>5.0</td>\n",
       "      <td>0.0</td>\n",
       "      <td>3.0</td>\n",
       "      <td>...</td>\n",
       "      <td>5.0</td>\n",
       "      <td>5.0</td>\n",
       "      <td>0.0</td>\n",
       "      <td>4.0</td>\n",
       "      <td>4.0</td>\n",
       "      <td>0.0</td>\n",
       "      <td>0.0</td>\n",
       "      <td>0.0</td>\n",
       "      <td>4.0</td>\n",
       "      <td>4.0</td>\n",
       "    </tr>\n",
       "    <tr>\n",
       "      <th>2</th>\n",
       "      <td>0.0</td>\n",
       "      <td>5.0</td>\n",
       "      <td>5.0</td>\n",
       "      <td>5.0</td>\n",
       "      <td>0.0</td>\n",
       "      <td>4.0</td>\n",
       "      <td>0.0</td>\n",
       "      <td>0.0</td>\n",
       "      <td>4.0</td>\n",
       "      <td>3.0</td>\n",
       "      <td>...</td>\n",
       "      <td>5.0</td>\n",
       "      <td>5.0</td>\n",
       "      <td>0.0</td>\n",
       "      <td>0.0</td>\n",
       "      <td>0.0</td>\n",
       "      <td>0.0</td>\n",
       "      <td>5.0</td>\n",
       "      <td>0.0</td>\n",
       "      <td>0.0</td>\n",
       "      <td>4.0</td>\n",
       "    </tr>\n",
       "    <tr>\n",
       "      <th>3</th>\n",
       "      <td>0.0</td>\n",
       "      <td>0.0</td>\n",
       "      <td>3.0</td>\n",
       "      <td>4.0</td>\n",
       "      <td>1.0</td>\n",
       "      <td>4.0</td>\n",
       "      <td>0.0</td>\n",
       "      <td>0.0</td>\n",
       "      <td>0.0</td>\n",
       "      <td>3.0</td>\n",
       "      <td>...</td>\n",
       "      <td>5.0</td>\n",
       "      <td>4.0</td>\n",
       "      <td>0.0</td>\n",
       "      <td>0.0</td>\n",
       "      <td>1.0</td>\n",
       "      <td>3.0</td>\n",
       "      <td>5.0</td>\n",
       "      <td>0.0</td>\n",
       "      <td>2.0</td>\n",
       "      <td>5.0</td>\n",
       "    </tr>\n",
       "    <tr>\n",
       "      <th>4</th>\n",
       "      <td>0.0</td>\n",
       "      <td>0.0</td>\n",
       "      <td>0.0</td>\n",
       "      <td>4.0</td>\n",
       "      <td>0.0</td>\n",
       "      <td>4.0</td>\n",
       "      <td>0.0</td>\n",
       "      <td>5.0</td>\n",
       "      <td>4.0</td>\n",
       "      <td>4.0</td>\n",
       "      <td>...</td>\n",
       "      <td>5.0</td>\n",
       "      <td>0.0</td>\n",
       "      <td>0.0</td>\n",
       "      <td>5.0</td>\n",
       "      <td>0.0</td>\n",
       "      <td>0.0</td>\n",
       "      <td>5.0</td>\n",
       "      <td>0.0</td>\n",
       "      <td>0.0</td>\n",
       "      <td>3.0</td>\n",
       "    </tr>\n",
       "    <tr>\n",
       "      <th>5</th>\n",
       "      <td>0.0</td>\n",
       "      <td>0.0</td>\n",
       "      <td>0.0</td>\n",
       "      <td>0.0</td>\n",
       "      <td>0.0</td>\n",
       "      <td>4.0</td>\n",
       "      <td>3.0</td>\n",
       "      <td>4.0</td>\n",
       "      <td>5.0</td>\n",
       "      <td>4.0</td>\n",
       "      <td>...</td>\n",
       "      <td>5.0</td>\n",
       "      <td>5.0</td>\n",
       "      <td>0.0</td>\n",
       "      <td>0.0</td>\n",
       "      <td>0.0</td>\n",
       "      <td>4.0</td>\n",
       "      <td>5.0</td>\n",
       "      <td>0.0</td>\n",
       "      <td>0.0</td>\n",
       "      <td>3.0</td>\n",
       "    </tr>\n",
       "    <tr>\n",
       "      <th>...</th>\n",
       "      <td>...</td>\n",
       "      <td>...</td>\n",
       "      <td>...</td>\n",
       "      <td>...</td>\n",
       "      <td>...</td>\n",
       "      <td>...</td>\n",
       "      <td>...</td>\n",
       "      <td>...</td>\n",
       "      <td>...</td>\n",
       "      <td>...</td>\n",
       "      <td>...</td>\n",
       "      <td>...</td>\n",
       "      <td>...</td>\n",
       "      <td>...</td>\n",
       "      <td>...</td>\n",
       "      <td>...</td>\n",
       "      <td>...</td>\n",
       "      <td>...</td>\n",
       "      <td>...</td>\n",
       "      <td>...</td>\n",
       "      <td>...</td>\n",
       "    </tr>\n",
       "    <tr>\n",
       "      <th>715</th>\n",
       "      <td>0.0</td>\n",
       "      <td>0.0</td>\n",
       "      <td>0.0</td>\n",
       "      <td>0.0</td>\n",
       "      <td>0.0</td>\n",
       "      <td>3.0</td>\n",
       "      <td>0.0</td>\n",
       "      <td>0.0</td>\n",
       "      <td>4.0</td>\n",
       "      <td>0.0</td>\n",
       "      <td>...</td>\n",
       "      <td>0.0</td>\n",
       "      <td>0.0</td>\n",
       "      <td>0.0</td>\n",
       "      <td>0.0</td>\n",
       "      <td>0.0</td>\n",
       "      <td>3.0</td>\n",
       "      <td>0.0</td>\n",
       "      <td>5.0</td>\n",
       "      <td>0.0</td>\n",
       "      <td>0.0</td>\n",
       "    </tr>\n",
       "    <tr>\n",
       "      <th>730</th>\n",
       "      <td>0.0</td>\n",
       "      <td>0.0</td>\n",
       "      <td>0.0</td>\n",
       "      <td>0.0</td>\n",
       "      <td>0.0</td>\n",
       "      <td>0.0</td>\n",
       "      <td>0.0</td>\n",
       "      <td>0.0</td>\n",
       "      <td>3.0</td>\n",
       "      <td>3.0</td>\n",
       "      <td>...</td>\n",
       "      <td>0.0</td>\n",
       "      <td>0.0</td>\n",
       "      <td>0.0</td>\n",
       "      <td>0.0</td>\n",
       "      <td>1.0</td>\n",
       "      <td>0.0</td>\n",
       "      <td>0.0</td>\n",
       "      <td>5.0</td>\n",
       "      <td>0.0</td>\n",
       "      <td>0.0</td>\n",
       "    </tr>\n",
       "    <tr>\n",
       "      <th>733</th>\n",
       "      <td>4.0</td>\n",
       "      <td>0.0</td>\n",
       "      <td>0.0</td>\n",
       "      <td>0.0</td>\n",
       "      <td>0.0</td>\n",
       "      <td>3.0</td>\n",
       "      <td>0.0</td>\n",
       "      <td>5.0</td>\n",
       "      <td>3.0</td>\n",
       "      <td>0.0</td>\n",
       "      <td>...</td>\n",
       "      <td>0.0</td>\n",
       "      <td>0.0</td>\n",
       "      <td>0.0</td>\n",
       "      <td>4.0</td>\n",
       "      <td>0.0</td>\n",
       "      <td>0.0</td>\n",
       "      <td>0.0</td>\n",
       "      <td>5.0</td>\n",
       "      <td>0.0</td>\n",
       "      <td>0.0</td>\n",
       "    </tr>\n",
       "    <tr>\n",
       "      <th>773</th>\n",
       "      <td>0.0</td>\n",
       "      <td>0.0</td>\n",
       "      <td>0.0</td>\n",
       "      <td>0.0</td>\n",
       "      <td>0.0</td>\n",
       "      <td>3.0</td>\n",
       "      <td>0.0</td>\n",
       "      <td>0.0</td>\n",
       "      <td>0.0</td>\n",
       "      <td>0.0</td>\n",
       "      <td>...</td>\n",
       "      <td>0.0</td>\n",
       "      <td>0.0</td>\n",
       "      <td>0.0</td>\n",
       "      <td>0.0</td>\n",
       "      <td>2.0</td>\n",
       "      <td>0.0</td>\n",
       "      <td>0.0</td>\n",
       "      <td>0.0</td>\n",
       "      <td>0.0</td>\n",
       "      <td>0.0</td>\n",
       "    </tr>\n",
       "    <tr>\n",
       "      <th>826</th>\n",
       "      <td>0.0</td>\n",
       "      <td>0.0</td>\n",
       "      <td>0.0</td>\n",
       "      <td>0.0</td>\n",
       "      <td>0.0</td>\n",
       "      <td>0.0</td>\n",
       "      <td>0.0</td>\n",
       "      <td>5.0</td>\n",
       "      <td>0.0</td>\n",
       "      <td>0.0</td>\n",
       "      <td>...</td>\n",
       "      <td>5.0</td>\n",
       "      <td>0.0</td>\n",
       "      <td>0.0</td>\n",
       "      <td>0.0</td>\n",
       "      <td>3.0</td>\n",
       "      <td>0.0</td>\n",
       "      <td>0.0</td>\n",
       "      <td>5.0</td>\n",
       "      <td>0.0</td>\n",
       "      <td>0.0</td>\n",
       "    </tr>\n",
       "  </tbody>\n",
       "</table>\n",
       "<p>500 rows × 2534 columns</p>\n",
       "</div>"
      ],
      "text/plain": [
       "user_id  35     75     143    173    178    202    215    230    247    256    \\\n",
       "book_id                                                                         \n",
       "1          0.0    4.0    5.0    4.0    4.0    0.0    0.0    5.0    0.0    3.0   \n",
       "2          0.0    5.0    5.0    5.0    0.0    4.0    0.0    0.0    4.0    3.0   \n",
       "3          0.0    0.0    3.0    4.0    1.0    4.0    0.0    0.0    0.0    3.0   \n",
       "4          0.0    0.0    0.0    4.0    0.0    4.0    0.0    5.0    4.0    4.0   \n",
       "5          0.0    0.0    0.0    0.0    0.0    4.0    3.0    4.0    5.0    4.0   \n",
       "...        ...    ...    ...    ...    ...    ...    ...    ...    ...    ...   \n",
       "715        0.0    0.0    0.0    0.0    0.0    3.0    0.0    0.0    4.0    0.0   \n",
       "730        0.0    0.0    0.0    0.0    0.0    0.0    0.0    0.0    3.0    3.0   \n",
       "733        4.0    0.0    0.0    0.0    0.0    3.0    0.0    5.0    3.0    0.0   \n",
       "773        0.0    0.0    0.0    0.0    0.0    3.0    0.0    0.0    0.0    0.0   \n",
       "826        0.0    0.0    0.0    0.0    0.0    0.0    0.0    5.0    0.0    0.0   \n",
       "\n",
       "user_id  ...  53145  53165  53173  53245  53279  53281  53292  53293  53318  \\\n",
       "book_id  ...                                                                  \n",
       "1        ...    5.0    5.0    0.0    4.0    4.0    0.0    0.0    0.0    4.0   \n",
       "2        ...    5.0    5.0    0.0    0.0    0.0    0.0    5.0    0.0    0.0   \n",
       "3        ...    5.0    4.0    0.0    0.0    1.0    3.0    5.0    0.0    2.0   \n",
       "4        ...    5.0    0.0    0.0    5.0    0.0    0.0    5.0    0.0    0.0   \n",
       "5        ...    5.0    5.0    0.0    0.0    0.0    4.0    5.0    0.0    0.0   \n",
       "...      ...    ...    ...    ...    ...    ...    ...    ...    ...    ...   \n",
       "715      ...    0.0    0.0    0.0    0.0    0.0    3.0    0.0    5.0    0.0   \n",
       "730      ...    0.0    0.0    0.0    0.0    1.0    0.0    0.0    5.0    0.0   \n",
       "733      ...    0.0    0.0    0.0    4.0    0.0    0.0    0.0    5.0    0.0   \n",
       "773      ...    0.0    0.0    0.0    0.0    2.0    0.0    0.0    0.0    0.0   \n",
       "826      ...    5.0    0.0    0.0    0.0    3.0    0.0    0.0    5.0    0.0   \n",
       "\n",
       "user_id  53366  \n",
       "book_id         \n",
       "1          4.0  \n",
       "2          4.0  \n",
       "3          5.0  \n",
       "4          3.0  \n",
       "5          3.0  \n",
       "...        ...  \n",
       "715        0.0  \n",
       "730        0.0  \n",
       "733        0.0  \n",
       "773        0.0  \n",
       "826        0.0  \n",
       "\n",
       "[500 rows x 2534 columns]"
      ]
     },
     "execution_count": 26,
     "metadata": {},
     "output_type": "execute_result"
    }
   ],
   "source": [
    "book_pivot"
   ]
  },
  {
   "cell_type": "code",
   "execution_count": 28,
   "id": "41c7b1fd",
   "metadata": {},
   "outputs": [
    {
     "data": {
      "text/plain": [
       "user_id\n",
       "35       0.0\n",
       "75       0.0\n",
       "143      0.0\n",
       "173      0.0\n",
       "178      0.0\n",
       "        ... \n",
       "53281    0.0\n",
       "53292    0.0\n",
       "53293    5.0\n",
       "53318    0.0\n",
       "53366    0.0\n",
       "Name: 826, Length: 2534, dtype: float64"
      ]
     },
     "execution_count": 28,
     "metadata": {},
     "output_type": "execute_result"
    }
   ],
   "source": [
    "book_pivot.loc[826]"
   ]
  },
  {
   "cell_type": "code",
   "execution_count": 17,
   "id": "566e7620",
   "metadata": {},
   "outputs": [
    {
     "data": {
      "text/plain": [
       "array([   75,   143,   173, ..., 34531, 51553,  7553])"
      ]
     },
     "execution_count": 17,
     "metadata": {},
     "output_type": "execute_result"
    }
   ],
   "source": [
    "final_rating['user_id'].unique()"
   ]
  },
  {
   "cell_type": "code",
   "execution_count": 19,
   "id": "9d655cbb",
   "metadata": {},
   "outputs": [
    {
     "data": {
      "text/plain": [
       "True"
      ]
     },
     "execution_count": 19,
     "metadata": {},
     "output_type": "execute_result"
    }
   ],
   "source": [
    "53366 in final_rating['user_id'].unique()"
   ]
  },
  {
   "cell_type": "code",
   "execution_count": 20,
   "id": "ea20e6fe",
   "metadata": {},
   "outputs": [
    {
     "data": {
      "text/plain": [
       "array([ 11, 372, 476, 115, 122, 109,  22, 150,  63, 378,  18, 516,  38,\n",
       "        92,  23,  94,  45,  35,  55,  10,  27,  21,  24,   2,  26,   8,\n",
       "       426, 100, 301, 325, 457,  57, 258, 255, 265,  14, 531, 646, 410,\n",
       "       114, 132, 162, 383, 138, 130,  90, 101, 119,   7,   9, 170, 354,\n",
       "        70, 127, 650,  15,  32,  60, 213, 595,   4, 730, 129,   5,  13,\n",
       "       306, 284,  65, 405, 715, 401, 264, 148, 456, 297, 217, 212,  33,\n",
       "       225, 131,  89,  82, 538, 181, 468, 282, 304,  43, 704, 272, 557,\n",
       "       495, 733, 238, 400, 198, 233, 597, 160, 561, 121, 173, 637,  48,\n",
       "        72, 211, 117, 230,  76, 424,  64, 186, 270,  75, 570, 189, 350,\n",
       "       155, 102, 126,  19,  95, 289, 118, 219,  28,  71, 125, 436, 205,\n",
       "       696, 371, 407, 461, 375, 288,  80, 546, 103,  54, 492,  42, 496,\n",
       "       180, 530, 510, 330,  87, 413, 620, 113,  93,  44, 136, 487, 660,\n",
       "       575, 693, 108, 287,  78,  40, 111, 161, 335, 373, 158,  97, 245,\n",
       "        58, 278,  50,  37, 339, 133, 257, 386,  29, 171, 326, 540, 416,\n",
       "       321, 273, 523,  59,  66, 408, 116, 559, 316, 184, 296, 157, 544,\n",
       "       387, 427, 298, 453, 545, 390, 596,  25, 471, 451, 204, 358, 364,\n",
       "       251, 168, 176, 612,  84, 431, 209,  62, 483, 480,  46, 577, 271,\n",
       "       331, 328, 344, 658, 177, 391, 263, 356, 337, 599, 501, 578, 179,\n",
       "       714, 154, 248, 353, 773,  67, 417, 241, 381, 222, 196, 682, 137,\n",
       "       463,  68, 560, 310, 621, 681,  85, 228, 178,  81,  86, 268, 145,\n",
       "       104, 479, 281, 227, 494, 341,  79, 515, 199,  36, 207, 123, 343,\n",
       "       172, 323, 576, 361,  83, 142, 374, 388,  77, 167, 666, 283, 276,\n",
       "       432, 349,  39, 110, 135, 165, 357, 641, 347, 542, 292, 602, 332,\n",
       "       191, 503, 236, 590, 478, 317, 529, 402, 395, 266, 156, 242, 256,\n",
       "       593, 362, 498, 425, 485, 244, 194,  47, 249, 360, 429, 409, 826,\n",
       "       200, 305, 243, 237, 556, 274, 232, 107, 670, 512, 322, 377,  53,\n",
       "       345, 293, 444, 229, 497, 675,  52, 368, 234, 221, 120, 553, 518,\n",
       "       572, 514, 639, 314,   3, 152, 311, 346, 389, 488,  49, 223, 187,\n",
       "       519, 467, 239, 261, 547,  74, 275, 197, 174, 558,  73, 563,  41,\n",
       "        56, 534, 216, 300, 329, 153,  51, 246, 151, 652, 214, 601, 631,\n",
       "       159, 195,  16, 312, 447, 231, 527, 399, 522, 193, 355, 333,  88,\n",
       "       147, 210,   1, 384,  31, 175, 450, 291, 396, 226,  98, 182, 414,\n",
       "       134, 192, 584,  17, 201, 140, 441, 202, 224, 169, 254,  20, 208,\n",
       "       188, 149, 338,  91, 124, 183, 440, 163, 144, 166, 340, 259, 379,\n",
       "       309, 280, 307, 351, 106, 319, 421, 290, 376, 139,  12, 438, 185,\n",
       "       215,   6, 294,  69,  34, 295, 327, 105, 203, 252, 404,  99,  96,\n",
       "       250, 206, 190,  30, 112, 313, 320, 342, 359, 277, 164, 240, 551,\n",
       "       141, 423, 318, 146, 285, 235, 253, 324, 437, 143, 348, 262, 459,\n",
       "       352, 458,  61, 533, 267, 279])"
      ]
     },
     "execution_count": 20,
     "metadata": {},
     "output_type": "execute_result"
    }
   ],
   "source": [
    "final_rating['book_id'].unique()"
   ]
  },
  {
   "cell_type": "code",
   "execution_count": 29,
   "id": "f92c80d1",
   "metadata": {},
   "outputs": [
    {
     "data": {
      "text/plain": [
       "numpy.ndarray"
      ]
     },
     "execution_count": 29,
     "metadata": {},
     "output_type": "execute_result"
    }
   ],
   "source": [
    "type(final_rating['book_id'].unique())"
   ]
  },
  {
   "cell_type": "raw",
   "id": "6d890766",
   "metadata": {},
   "source": [
    "Modeling\n",
    "We have prepared our dataset for modeling. we will use the nearest neighbors algorithm which is the same as K nearest which is used for clustering based on euclidian distance.\n",
    "\n",
    "But here in the pivot table, we have lots of zero values and on clustering, this computing power will increase to calculate the distance of zero values so we will convert the pivot table to the sparse matrix and then feed it to the model."
   ]
  },
  {
   "cell_type": "code",
   "execution_count": 64,
   "id": "79f799e8",
   "metadata": {},
   "outputs": [],
   "source": [
    "from scipy.sparse import csr_matrix\n",
    "book_sparse = csr_matrix(book_pivot)"
   ]
  },
  {
   "cell_type": "raw",
   "id": "81255bfc",
   "metadata": {},
   "source": [
    "Now we will train the nearest neighbors algorithm. here we need to specify an algorithm which is brute means find the distance of every point to every other point."
   ]
  },
  {
   "cell_type": "code",
   "execution_count": 65,
   "id": "f908593a",
   "metadata": {},
   "outputs": [
    {
     "data": {
      "text/plain": [
       "NearestNeighbors(algorithm='brute', n_neighbors=10)"
      ]
     },
     "execution_count": 65,
     "metadata": {},
     "output_type": "execute_result"
    }
   ],
   "source": [
    "from sklearn.neighbors import NearestNeighbors\n",
    "model = NearestNeighbors(n_neighbors=10,algorithm='brute')\n",
    "model.fit(book_sparse)"
   ]
  },
  {
   "cell_type": "raw",
   "id": "97f1c9ac",
   "metadata": {},
   "source": [
    "Let’s make a prediction and see whether it is suggesting books or not. we will find the nearest neighbors to the input book id and after that, we will print the top 10 books which are closer to those books. It will provide us distance and book id at that distance. let us pass Salem's Lot which is at 0 indexes."
   ]
  },
  {
   "cell_type": "code",
   "execution_count": 67,
   "id": "1402ef39",
   "metadata": {},
   "outputs": [],
   "source": [
    "distances, suggestions = model.kneighbors(book_pivot.iloc[0, :].values.reshape(1, -1))"
   ]
  },
  {
   "cell_type": "code",
   "execution_count": 68,
   "id": "d2b75156",
   "metadata": {},
   "outputs": [
    {
     "name": "stdout",
     "output_type": "stream",
     "text": [
      "Index([''Salem's Lot', 'The Dead Zone', 'Cujo', 'Christine', 'Pet Sematary',\n",
      "       'Needful Things', 'Firestarter', 'Carrie', 'Under the Dome', 'Misery'],\n",
      "      dtype='object', name='title')\n"
     ]
    }
   ],
   "source": [
    "for i in range(len(suggestions)):\n",
    "  print(book_pivot.index[suggestions[i]])"
   ]
  },
  {
   "cell_type": "markdown",
   "id": "287cafdc",
   "metadata": {},
   "source": [
    "# SVD with surprise library\n",
    "predict a rating given by an user"
   ]
  },
  {
   "cell_type": "code",
   "execution_count": 8,
   "id": "d6874dfb",
   "metadata": {},
   "outputs": [],
   "source": [
    "from surprise import Reader, Dataset, SVD\n",
    "from surprise.model_selection import cross_validate\n",
    "reader = Reader()\n",
    "data = Dataset.load_from_df(final_rating[['user_id', 'book_id', 'rating']], reader)"
   ]
  },
  {
   "cell_type": "code",
   "execution_count": 10,
   "id": "2dd5c9e0",
   "metadata": {},
   "outputs": [],
   "source": [
    "svd = SVD()"
   ]
  },
  {
   "cell_type": "code",
   "execution_count": null,
   "id": "9983e325",
   "metadata": {},
   "outputs": [],
   "source": [
    "cross_validate(svd, data, measures=['RMSE', 'MAE'], cv=5, verbose=True)"
   ]
  },
  {
   "cell_type": "markdown",
   "id": "c8dd6c8d",
   "metadata": {},
   "source": [
    "We get a mean Root Mean Sqaure Error of 0.87 approx which is more than good enough for our case. Let us now train on our dataset and arrive at predictions."
   ]
  },
  {
   "cell_type": "code",
   "execution_count": 11,
   "id": "eae7b9f1",
   "metadata": {},
   "outputs": [
    {
     "data": {
      "text/plain": [
       "<surprise.prediction_algorithms.matrix_factorization.SVD at 0x7f696b3df880>"
      ]
     },
     "execution_count": 11,
     "metadata": {},
     "output_type": "execute_result"
    }
   ],
   "source": [
    "trainset = data.build_full_trainset()\n",
    "svd.fit(trainset)"
   ]
  },
  {
   "cell_type": "code",
   "execution_count": 97,
   "id": "5914edae",
   "metadata": {},
   "outputs": [
    {
     "name": "stdout",
     "output_type": "stream",
     "text": [
      "RMSE: 0.6372\n"
     ]
    },
    {
     "data": {
      "text/plain": [
       "0.6372250291284687"
      ]
     },
     "execution_count": 97,
     "metadata": {},
     "output_type": "execute_result"
    }
   ],
   "source": [
    "from surprise import accuracy\n",
    "from surprise.model_selection import KFold\n",
    "\n",
    "testset = trainset.build_testset()\n",
    "predictions = svd.test(testset)\n",
    "# RMSE should be low as we are biased\n",
    "accuracy.rmse(predictions, verbose=True)  # ~ 0.64 (which is low)"
   ]
  },
  {
   "cell_type": "code",
   "execution_count": 100,
   "id": "1d4e46f1",
   "metadata": {},
   "outputs": [
    {
     "name": "stdout",
     "output_type": "stream",
     "text": [
      "RMSE: 1.3739\n"
     ]
    },
    {
     "data": {
      "text/plain": [
       "1.373856595484506"
      ]
     },
     "execution_count": 100,
     "metadata": {},
     "output_type": "execute_result"
    }
   ],
   "source": [
    "from surprise import NormalPredictor\n",
    "np=NormalPredictor()\n",
    "np.fit(trainset)\n",
    "testset = trainset.build_testset()\n",
    "predictions = np.test(testset)\n",
    "# RMSE should be low as we are biased\n",
    "accuracy.rmse(predictions, verbose=True) "
   ]
  },
  {
   "cell_type": "code",
   "execution_count": 104,
   "id": "dc7381a8",
   "metadata": {},
   "outputs": [
    {
     "name": "stdout",
     "output_type": "stream",
     "text": [
      "RMSE: 1.3760\n"
     ]
    },
    {
     "data": {
      "text/plain": [
       "1.3759858946144512"
      ]
     },
     "execution_count": 104,
     "metadata": {},
     "output_type": "execute_result"
    }
   ],
   "source": [
    "from surprise import NMF\n",
    "nmf=NMF()\n",
    "nmf.fit(trainset)\n",
    "testset = trainset.build_testset()\n",
    "predictions = np.test(testset)\n",
    "# RMSE should be low as we are biased\n",
    "accuracy.rmse(predictions, verbose=True) "
   ]
  },
  {
   "cell_type": "code",
   "execution_count": 12,
   "id": "eab4581a",
   "metadata": {},
   "outputs": [
    {
     "data": {
      "text/html": [
       "<div>\n",
       "<style scoped>\n",
       "    .dataframe tbody tr th:only-of-type {\n",
       "        vertical-align: middle;\n",
       "    }\n",
       "\n",
       "    .dataframe tbody tr th {\n",
       "        vertical-align: top;\n",
       "    }\n",
       "\n",
       "    .dataframe thead th {\n",
       "        text-align: right;\n",
       "    }\n",
       "</style>\n",
       "<table border=\"1\" class=\"dataframe\">\n",
       "  <thead>\n",
       "    <tr style=\"text-align: right;\">\n",
       "      <th></th>\n",
       "      <th>user_id</th>\n",
       "      <th>book_id</th>\n",
       "      <th>rating</th>\n",
       "    </tr>\n",
       "  </thead>\n",
       "  <tbody>\n",
       "    <tr>\n",
       "      <th>190292</th>\n",
       "      <td>53318</td>\n",
       "      <td>188</td>\n",
       "      <td>3</td>\n",
       "    </tr>\n",
       "    <tr>\n",
       "      <th>190293</th>\n",
       "      <td>53318</td>\n",
       "      <td>182</td>\n",
       "      <td>4</td>\n",
       "    </tr>\n",
       "    <tr>\n",
       "      <th>190294</th>\n",
       "      <td>53318</td>\n",
       "      <td>441</td>\n",
       "      <td>5</td>\n",
       "    </tr>\n",
       "    <tr>\n",
       "      <th>190295</th>\n",
       "      <td>53318</td>\n",
       "      <td>97</td>\n",
       "      <td>1</td>\n",
       "    </tr>\n",
       "    <tr>\n",
       "      <th>190296</th>\n",
       "      <td>53318</td>\n",
       "      <td>239</td>\n",
       "      <td>4</td>\n",
       "    </tr>\n",
       "    <tr>\n",
       "      <th>...</th>\n",
       "      <td>...</td>\n",
       "      <td>...</td>\n",
       "      <td>...</td>\n",
       "    </tr>\n",
       "    <tr>\n",
       "      <th>190352</th>\n",
       "      <td>53318</td>\n",
       "      <td>670</td>\n",
       "      <td>5</td>\n",
       "    </tr>\n",
       "    <tr>\n",
       "      <th>190353</th>\n",
       "      <td>53318</td>\n",
       "      <td>675</td>\n",
       "      <td>5</td>\n",
       "    </tr>\n",
       "    <tr>\n",
       "      <th>190354</th>\n",
       "      <td>53318</td>\n",
       "      <td>696</td>\n",
       "      <td>3</td>\n",
       "    </tr>\n",
       "    <tr>\n",
       "      <th>190355</th>\n",
       "      <td>53318</td>\n",
       "      <td>488</td>\n",
       "      <td>5</td>\n",
       "    </tr>\n",
       "    <tr>\n",
       "      <th>190356</th>\n",
       "      <td>53318</td>\n",
       "      <td>205</td>\n",
       "      <td>3</td>\n",
       "    </tr>\n",
       "  </tbody>\n",
       "</table>\n",
       "<p>65 rows × 3 columns</p>\n",
       "</div>"
      ],
      "text/plain": [
       "        user_id  book_id  rating\n",
       "190292    53318      188       3\n",
       "190293    53318      182       4\n",
       "190294    53318      441       5\n",
       "190295    53318       97       1\n",
       "190296    53318      239       4\n",
       "...         ...      ...     ...\n",
       "190352    53318      670       5\n",
       "190353    53318      675       5\n",
       "190354    53318      696       3\n",
       "190355    53318      488       5\n",
       "190356    53318      205       3\n",
       "\n",
       "[65 rows x 3 columns]"
      ]
     },
     "execution_count": 12,
     "metadata": {},
     "output_type": "execute_result"
    }
   ],
   "source": [
    "#pick user with user Id 75 and check the ratings she/he has given.\n",
    "final_rating[final_rating['user_id'] == 53318]"
   ]
  },
  {
   "cell_type": "code",
   "execution_count": 103,
   "id": "505162d9",
   "metadata": {},
   "outputs": [
    {
     "data": {
      "text/plain": [
       "Prediction(uid=53318, iid=188, r_ui=None, est=3.9929947406674553, details={'was_impossible': False})"
      ]
     },
     "execution_count": 103,
     "metadata": {},
     "output_type": "execute_result"
    }
   ],
   "source": [
    "svd.predict(53318, 188)\n",
    "# à débugger, pour un même utilisateur, peu importe l'item, l'estimation est la même"
   ]
  },
  {
   "cell_type": "markdown",
   "id": "fa5e96d3",
   "metadata": {},
   "source": [
    "For book with ID 112, we get an estimated prediction of 3.425. One startling feature of this recommender system is that it doesn't care what the movie is (or what it contains). It works purely on the basis of an assigned movie ID and tries to predict ratings based on how the other users have predicted the movie."
   ]
  },
  {
   "cell_type": "markdown",
   "id": "92442ece",
   "metadata": {},
   "source": [
    "# Sources"
   ]
  },
  {
   "cell_type": "markdown",
   "id": "c40211b8",
   "metadata": {},
   "source": [
    "https://www.kaggle.com/ibtesama/getting-started-with-a-movie-recommendation-system#Content-Based-Filtering\n",
    "\n",
    "https://www.analyticsvidhya.com/blog/2021/06/build-book-recommendation-system-unsupervised-learning-project/\n",
    "\n",
    "https://towardsdatascience.com/how-you-can-build-simple-recommender-systems-with-surprise-b0d32a8e4802\n",
    "\n",
    "https://github.com/AmolMavuduru/SurprisePythonExamples\n",
    "\n",
    "https://towardsdatascience.com/item-based-collaborative-filtering-in-python-91f747200fab\n",
    "\n",
    "https://github.com/shamafarabi/Book_Recommendation_Engine\n",
    "\n",
    "https://www.kdnuggets.com/2020/07/building-content-based-book-recommendation-engine.html\n",
    "\n",
    "https://towardsdatascience.com/what-should-i-read-next-68be827960bf\n",
    "\n",
    "https://www.kaggle.com/omarzaghlol/goodreads-2-book-recommender-system\n",
    "\n",
    "https://chubek.github.io/recommender/2020/12/15/cold-start-problem-copy.html\n",
    "\n",
    "https://towardsdatascience.com/how-to-build-a-simple-movie-recommender-system-with-tags-b9ab5cb3b616\n",
    "\n",
    "https://github.com/JohnsonKuan/movie-rec-tags\n",
    "\n",
    "https://surprise.readthedocs.io/en/stable/matrix_factorization.html#surprise.prediction_algorithms.matrix_factorization.SVD\n",
    "\n",
    "https://github.com/93tilinfinity/svd-recommender\n",
    "\n",
    "https://towardsdatascience.com/svd-where-model-tuning-goes-wrong-61c269402919\n",
    "\n",
    "https://www.oprahdaily.com/entertainment/books/a29576863/types-of-book-genres/\n",
    "\n",
    "https://github.com/KevinLiao159/MyDataSciencePortfolio/blob/master/movie_recommender/src/als_recommender.py\n",
    "\n",
    "https://github.com/KevinLiao159/MyDataSciencePortfolio/blob/master/movie_recommender/movie_recommendation_using_NeuMF.ipynb\n",
    "\n",
    "https://towardsdatascience.com/introduction-to-recommender-systems-1-971bd274f421\n",
    "\n",
    "https://www.analyticssteps.com/blogs/what-content-based-recommendation-system-machine-learning\n"
   ]
  },
  {
   "cell_type": "markdown",
   "id": "d4f44a19",
   "metadata": {},
   "source": [
    "# Collaborative filtering\n",
    "Données utilisées : ratings\n",
    "\n",
    "Préprocessing : 5% \n",
    "\n",
    ". des livres les plus notés\n",
    "\n",
    ". des utilisateurs les plus collaboratifs (qui ont donné le plus de notes)\n",
    "\n",
    "Table pivot qui va servir au modèle :\n",
    "\n",
    ". CF IB\n",
    "\n",
    ". CF UB"
   ]
  },
  {
   "cell_type": "code",
   "execution_count": null,
   "id": "5644a270",
   "metadata": {},
   "outputs": [],
   "source": [
    "import pandas as pd\n",
    "r = pd.read_csv( 'ratings.csv' )\n",
    "fr = merge_books_users_filter()\n",
    "rp = pivot_ratings()\n",
    "def filter_top_5quantile_books():\n",
    "    reviews_per_book = r.groupby( 'book_id' ).book_id.apply( lambda x: len( x ))\n",
    "    xb = r['book_id'].value_counts() > reviews_per_book.quantile(0.95)\n",
    "    yb = xb[xb].index\n",
    "    bratings = r[r['book_id'].isin(yb)]    \n",
    "    return bratings\n",
    "def filter_top_5quantile_users():\n",
    "    reviews_per_user = r.groupby( 'user_id' ).user_id.apply( lambda x: len( x ))\n",
    "    xu = r['user_id'].value_counts() > reviews_per_user.quantile(0.95)\n",
    "    yu = xu[xu].index  #user_ids\n",
    "    print(yu.shape)\n",
    "    uratings = r[r['user_id'].isin(yu)]\n",
    "    return uratings\n",
    "def merge_books_users_filter():\n",
    "    uratings = filter_top_5quantile_users()\n",
    "    bratings = filter_top_5quantile_books()\n",
    "    return pd.merge(uratings, bratings, on=['user_id', 'book_id', 'rating'])\n",
    "def pivot_ratings():\n",
    "    ratings_pivot = fr.pivot_table(columns='user_id', index='book_id', values=\"rating\")\n",
    "    ratings_pivot.fillna(0, inplace=True)\n",
    "    return ratings_pivot"
   ]
  },
  {
   "cell_type": "markdown",
   "id": "250b2ff0",
   "metadata": {},
   "source": [
    "## Collabotative filtering item-based"
   ]
  },
  {
   "cell_type": "markdown",
   "id": "a7a42436",
   "metadata": {},
   "source": [
    "### objectif : \n",
    "Proposer un livre similaire à un livre qui a été consulté basé sur la notation des utilisateurs"
   ]
  },
  {
   "cell_type": "markdown",
   "id": "a8939fc6",
   "metadata": {},
   "source": [
    "### Etapes\n",
    "\n",
    "1 Créer une matrice creuse pour entraîner un modèle knn\n",
    "\n",
    "2 Proposer les k livres les plus proches à un livre récemment consulté/lu"
   ]
  },
  {
   "cell_type": "code",
   "execution_count": 112,
   "id": "43c1d326",
   "metadata": {},
   "outputs": [],
   "source": [
    "from scipy.sparse import csr_matrix\n",
    "from sklearn.neighbors import NearestNeighbors\n",
    "def recommend_similary_books(book_id):\n",
    "    book_sparse = csr_matrix(rp)\n",
    "    model = NearestNeighbors(n_neighbors=10,algorithm='brute')\n",
    "    model.fit(book_sparse)\n",
    "    distances, suggestions = model.kneighbors(rp.iloc[book_id, :].values.reshape(1, -1))\n",
    "    for i in range(len(suggestions)):\n",
    "        print(rp.index[suggestions[i]])"
   ]
  },
  {
   "cell_type": "markdown",
   "id": "91714eeb",
   "metadata": {},
   "source": [
    "## Collabotative filtering user-based"
   ]
  },
  {
   "cell_type": "markdown",
   "id": "1ee10a4d",
   "metadata": {},
   "source": [
    "### objectif : \n",
    "Proposer un livre qui est susceptible d'être bien noté par l'utilisateur (au delà de 4.0 par exemple)"
   ]
  },
  {
   "cell_type": "markdown",
   "id": "06e8d9a2",
   "metadata": {},
   "source": [
    "### Etapes \n",
    "1 Réduire les données d'entraînement : garder 5% \n",
    "\n",
    ". des livres qui sont les plus notés\n",
    "\n",
    ". des utilisateurs qui ont donné le plus de notes\n",
    "\n",
    "2 Entraîner un modèle svd sur le dataframe pour estimer la note donnée à un livre par un utilisateur (conditions : livre et utilisateur dans les 5% retenus pour le dataframe d'entraînement)\n",
    "\n",
    "3 Boucler sur toute la liste des livres et proposer les livres avec les meilleures estimations de note "
   ]
  },
  {
   "cell_type": "code",
   "execution_count": 116,
   "id": "a567c2d0",
   "metadata": {},
   "outputs": [
    {
     "ename": "TypeError",
     "evalue": "'(slice(None, None, None), 53318)' is an invalid key",
     "output_type": "error",
     "traceback": [
      "\u001b[0;31m---------------------------------------------------------------------------\u001b[0m",
      "\u001b[0;31mTypeError\u001b[0m                                 Traceback (most recent call last)",
      "\u001b[0;32m<ipython-input-116-efba96d61afd>\u001b[0m in \u001b[0;36m<module>\u001b[0;34m\u001b[0m\n\u001b[0;32m----> 1\u001b[0;31m \u001b[0mbooks_to_rate\u001b[0m \u001b[0;34m=\u001b[0m \u001b[0mbook_pivot\u001b[0m\u001b[0;34m[\u001b[0m\u001b[0mbook_pivot\u001b[0m\u001b[0;34m.\u001b[0m\u001b[0mloc\u001b[0m\u001b[0;34m[\u001b[0m\u001b[0;34m:\u001b[0m\u001b[0;34m,\u001b[0m \u001b[0;36m53318\u001b[0m\u001b[0;34m]\u001b[0m\u001b[0;34m==\u001b[0m\u001b[0;36m0\u001b[0m\u001b[0;34m]\u001b[0m\u001b[0;34m[\u001b[0m\u001b[0;34m:\u001b[0m\u001b[0;34m,\u001b[0m \u001b[0;36m53318\u001b[0m\u001b[0;34m]\u001b[0m\u001b[0;34m\u001b[0m\u001b[0;34m\u001b[0m\u001b[0m\n\u001b[0m",
      "\u001b[0;32m~/anaconda3/lib/python3.8/site-packages/pandas/core/frame.py\u001b[0m in \u001b[0;36m__getitem__\u001b[0;34m(self, key)\u001b[0m\n\u001b[1;32m   2798\u001b[0m             \u001b[0;32mif\u001b[0m \u001b[0mself\u001b[0m\u001b[0;34m.\u001b[0m\u001b[0mcolumns\u001b[0m\u001b[0;34m.\u001b[0m\u001b[0mnlevels\u001b[0m \u001b[0;34m>\u001b[0m \u001b[0;36m1\u001b[0m\u001b[0;34m:\u001b[0m\u001b[0;34m\u001b[0m\u001b[0;34m\u001b[0m\u001b[0m\n\u001b[1;32m   2799\u001b[0m                 \u001b[0;32mreturn\u001b[0m \u001b[0mself\u001b[0m\u001b[0;34m.\u001b[0m\u001b[0m_getitem_multilevel\u001b[0m\u001b[0;34m(\u001b[0m\u001b[0mkey\u001b[0m\u001b[0;34m)\u001b[0m\u001b[0;34m\u001b[0m\u001b[0;34m\u001b[0m\u001b[0m\n\u001b[0;32m-> 2800\u001b[0;31m             \u001b[0mindexer\u001b[0m \u001b[0;34m=\u001b[0m \u001b[0mself\u001b[0m\u001b[0;34m.\u001b[0m\u001b[0mcolumns\u001b[0m\u001b[0;34m.\u001b[0m\u001b[0mget_loc\u001b[0m\u001b[0;34m(\u001b[0m\u001b[0mkey\u001b[0m\u001b[0;34m)\u001b[0m\u001b[0;34m\u001b[0m\u001b[0;34m\u001b[0m\u001b[0m\n\u001b[0m\u001b[1;32m   2801\u001b[0m             \u001b[0;32mif\u001b[0m \u001b[0mis_integer\u001b[0m\u001b[0;34m(\u001b[0m\u001b[0mindexer\u001b[0m\u001b[0;34m)\u001b[0m\u001b[0;34m:\u001b[0m\u001b[0;34m\u001b[0m\u001b[0;34m\u001b[0m\u001b[0m\n\u001b[1;32m   2802\u001b[0m                 \u001b[0mindexer\u001b[0m \u001b[0;34m=\u001b[0m \u001b[0;34m[\u001b[0m\u001b[0mindexer\u001b[0m\u001b[0;34m]\u001b[0m\u001b[0;34m\u001b[0m\u001b[0;34m\u001b[0m\u001b[0m\n",
      "\u001b[0;32m~/anaconda3/lib/python3.8/site-packages/pandas/core/indexes/base.py\u001b[0m in \u001b[0;36mget_loc\u001b[0;34m(self, key, method, tolerance)\u001b[0m\n\u001b[1;32m   2644\u001b[0m                 )\n\u001b[1;32m   2645\u001b[0m             \u001b[0;32mtry\u001b[0m\u001b[0;34m:\u001b[0m\u001b[0;34m\u001b[0m\u001b[0;34m\u001b[0m\u001b[0m\n\u001b[0;32m-> 2646\u001b[0;31m                 \u001b[0;32mreturn\u001b[0m \u001b[0mself\u001b[0m\u001b[0;34m.\u001b[0m\u001b[0m_engine\u001b[0m\u001b[0;34m.\u001b[0m\u001b[0mget_loc\u001b[0m\u001b[0;34m(\u001b[0m\u001b[0mkey\u001b[0m\u001b[0;34m)\u001b[0m\u001b[0;34m\u001b[0m\u001b[0;34m\u001b[0m\u001b[0m\n\u001b[0m\u001b[1;32m   2647\u001b[0m             \u001b[0;32mexcept\u001b[0m \u001b[0mKeyError\u001b[0m\u001b[0;34m:\u001b[0m\u001b[0;34m\u001b[0m\u001b[0;34m\u001b[0m\u001b[0m\n\u001b[1;32m   2648\u001b[0m                 \u001b[0;32mreturn\u001b[0m \u001b[0mself\u001b[0m\u001b[0;34m.\u001b[0m\u001b[0m_engine\u001b[0m\u001b[0;34m.\u001b[0m\u001b[0mget_loc\u001b[0m\u001b[0;34m(\u001b[0m\u001b[0mself\u001b[0m\u001b[0;34m.\u001b[0m\u001b[0m_maybe_cast_indexer\u001b[0m\u001b[0;34m(\u001b[0m\u001b[0mkey\u001b[0m\u001b[0;34m)\u001b[0m\u001b[0;34m)\u001b[0m\u001b[0;34m\u001b[0m\u001b[0;34m\u001b[0m\u001b[0m\n",
      "\u001b[0;32mpandas/_libs/index.pyx\u001b[0m in \u001b[0;36mpandas._libs.index.IndexEngine.get_loc\u001b[0;34m()\u001b[0m\n",
      "\u001b[0;32mpandas/_libs/index.pyx\u001b[0m in \u001b[0;36mpandas._libs.index.IndexEngine.get_loc\u001b[0;34m()\u001b[0m\n",
      "\u001b[0;31mTypeError\u001b[0m: '(slice(None, None, None), 53318)' is an invalid key"
     ]
    }
   ],
   "source": [
    "books_to_rate = book_pivot[book_pivot.loc[:, 53318]==0]"
   ]
  },
  {
   "cell_type": "code",
   "execution_count": 13,
   "id": "291838e4",
   "metadata": {},
   "outputs": [
    {
     "name": "stdout",
     "output_type": "stream",
     "text": [
      "{2: 4.536320652608849, 4: 4.566308875346086, 5: 3.6506668530636457, 7: 4.00191924703036, 9: 3.5966822461546, 10: 4.433079120725114, 11: 4.367642722400431, 12: 4.240534055224804, 15: 4.534014851491184, 16: 4.066287859756868, 19: 4.525886707203237, 22: 3.9552991426748036, 23: 4.610052901050074, 26: 3.876704939670569, 28: 3.906697363752327, 29: 3.878460945838864, 30: 3.7873966495967273, 31: 4.517238113922776, 32: 4.157509107901354, 33: 4.129923055941996, 34: 2.721014549230702, 35: 3.7475801013482175, 36: 4.121294738918336, 38: 3.823754337883272, 39: 3.922087229301363, 40: 3.3433969857779258, 41: 3.7349396896782943, 42: 4.0641280204404175, 43: 4.285517306764438, 44: 3.692294778257733, 45: 3.8937387591600707, 46: 3.9355367205679483, 47: 4.1554082117239455, 48: 3.980655715836488, 49: 2.7561949616310017, 50: 4.562318354772473, 53: 3.369226551394989, 54: 4.243930942692064, 55: 3.4522369025389366, 57: 4.159672551808827, 58: 4.375388470913795, 59: 4.435974094983598, 60: 3.8329249048370726, 61: 4.001315888659371, 62: 3.4939473834775576, 63: 4.261538148912294, 64: 3.70853469808394, 65: 3.5888508843756926, 66: 4.135870560188893, 67: 4.424798958013171, 68: 4.071071285053686, 69: 3.942689403223704, 70: 4.167740838404411, 72: 4.078244807076567, 73: 3.733854726496455, 74: 4.196529261696823, 75: 3.661129725631464, 76: 3.996980305758006, 78: 3.5485611947946296, 79: 3.7566596756936437, 81: 4.259087715894847, 82: 4.165520173203737, 83: 3.9280126598978153, 84: 4.271921450734068, 85: 3.9819498743812805, 87: 4.626235330114934, 88: 3.8365557069373617, 91: 3.8407563708760457, 92: 4.487834340749695, 93: 4.3243412007309985, 94: 4.460811688011322, 95: 4.185514836140971, 96: 3.2529354161488016, 98: 4.255039255396097, 99: 2.9880443603388587, 100: 4.223588655254903, 101: 4.390773627863202, 102: 4.3685020850263125, 103: 4.366931046797007, 104: 4.101531008804255, 105: 3.7395289642229956, 106: 3.8369806323368505, 107: 3.6924441431191384, 108: 3.316438128443384, 109: 4.28126351636215, 110: 4.258320493708944, 111: 3.7077580516033786, 112: 4.393739716081321, 113: 3.7463242092315587, 114: 3.698888547286225, 115: 4.002461826311717, 116: 4.015258446217488, 117: 3.6779291203685043, 118: 4.2007339528249386, 119: 3.920201507607193, 121: 4.048540086424982, 122: 3.3305326930417074, 124: 3.7794514350833017, 125: 4.003689274029501, 126: 4.043348297859854, 127: 4.003961416625973, 129: 3.9565986415356367, 130: 3.652694300323869, 131: 4.245646659471297, 132: 3.4866629038077597, 133: 4.15800134047378, 136: 3.7666853659666817, 137: 4.375662726080253, 138: 3.5262219964072594, 139: 3.524323543537616, 140: 4.313537252974088, 141: 4.479404995558271, 142: 4.3462144902985305, 143: 4.476923839007076, 144: 4.5953046826189095, 145: 3.6106540935247904, 146: 4.094391795515827, 147: 4.149566835460399, 148: 3.8414075842642723, 149: 3.846060805134231, 150: 4.141677459011123, 151: 3.6984506350101976, 152: 3.301119976570441, 154: 3.9849635790024838, 155: 4.865353346819499, 156: 3.598260472232694, 157: 4.452863531149212, 158: 4.296751777312047, 160: 3.9200819809314376, 161: 4.739011873540197, 162: 3.5396227892112875, 163: 4.207283614178129, 164: 4.004743774776044, 166: 3.1685436787888857, 167: 4.0352507240584226, 169: 3.6321914732847316, 170: 3.5451075588509973, 171: 4.266697056478582, 172: 3.9411133210791984, 173: 3.280454838080095, 174: 3.6960104765310637, 176: 4.224398795958002, 177: 3.8816345293205967, 178: 3.3990191764041446, 179: 3.8281835031593596, 180: 3.4251114343630626, 181: 4.0550481326194365, 183: 3.9341526272287815, 184: 4.470146242161435, 185: 3.7815670119467946, 186: 3.8376245036317083, 187: 3.641509926454143, 189: 4.311428153001481, 190: 3.5847319475665995, 191: 3.9309776094344357, 192: 4.564118293349511, 193: 4.226579129569619, 194: 3.145567503281592, 195: 4.5586585363523735, 196: 4.276491803872516, 197: 3.760521138494379, 198: 4.318104666432188, 199: 4.1739153341865345, 200: 4.19999759489801, 201: 3.570472189644474, 202: 3.2990363211624376, 203: 3.557619647696744, 204: 4.336759914973118, 206: 3.720068204977188, 207: 3.84153637086452, 208: 3.8662559558134455, 209: 4.340898741696712, 210: 3.792082742137551, 211: 4.205218638815374, 212: 3.805885315742821, 213: 3.5174547712773534, 214: 3.8085569810453697, 215: 4.406641610623246, 216: 4.1195553083393985, 217: 3.8664196165023927, 221: 3.660875042365942, 222: 4.300211012172208, 223: 3.569328485306442, 224: 3.2922740754702056, 225: 4.265287314812902, 226: 3.803059051810847, 228: 3.533812674939498, 230: 4.0412410807146415, 231: 4.210249536592018, 232: 3.746500176859157, 233: 4.175773804708997, 234: 4.215770443427471, 235: 3.753022959900264, 236: 4.5466123747633125, 237: 3.7792273438351476, 238: 3.9280972146187287, 240: 3.67876327650086, 241: 4.315255929692471, 242: 3.9061078515141587, 244: 3.710378521684256, 245: 3.9365971263067765, 246: 3.336860489402511, 248: 3.9084015701826234, 249: 3.996588116225807, 250: 4.5085704171956875, 252: 4.05172756496204, 253: 3.7763064785340155, 254: 3.5111373459130144, 255: 3.031613561071716, 256: 3.786507982519895, 258: 4.48916554607343, 259: 3.544143401805519, 261: 3.8806288175107344, 262: 4.026050705028674, 263: 4.419625870206576, 264: 3.8417624566139095, 265: 4.212085976291421, 266: 4.173790542108259, 267: 4.597812531571983, 268: 4.093736885230702, 270: 4.506366725340144, 271: 4.276494254732718, 272: 4.085766715455821, 273: 4.073497989238194, 274: 4.383548876354022, 275: 3.9058875587293214, 276: 4.342487647873329, 277: 3.930247068562463, 278: 4.55496460519887, 279: 3.5650264884643534, 280: 3.7911840287753096, 282: 4.173276244051752, 283: 4.3972703143265175, 284: 3.3771113606095327, 285: 4.11099176232708, 287: 2.8678185392164415, 288: 4.489647029249311, 289: 4.03875048176795, 290: 3.708485785580313, 291: 4.324382471849249, 292: 4.2187764094752, 293: 4.276455478357555, 294: 3.909020301977828, 295: 4.621739870801881, 296: 4.536807405255188, 297: 4.206297394989436, 298: 4.0012866530743505, 300: 4.455867065979072, 301: 3.809543883698697, 304: 4.071412377399424, 306: 4.194502559500942, 307: 4.39098039885078, 310: 3.6666295005215, 311: 3.8597524013417086, 312: 3.940660099083977, 313: 4.0315107589844885, 314: 3.58505895147853, 316: 4.195062671708074, 317: 4.122139489190818, 318: 3.8715196262879403, 320: 3.956564781318473, 321: 4.294355487626187, 322: 4.431278154825688, 323: 4.149099471576898, 324: 4.065549523859978, 325: 4.27870318051886, 326: 3.6440600798268923, 327: 4.025305080354909, 328: 4.0673971649257945, 329: 3.9216615373072097, 330: 4.300621120372176, 331: 3.9028742650944466, 333: 4.33535090311841, 335: 4.050805193027353, 337: 3.9350392974438226, 338: 3.71465109419794, 340: 3.5721149599942823, 341: 3.564514599058001, 342: 3.192050521175642, 343: 3.651687213577162, 344: 4.4884942852381835, 345: 3.5077351577556772, 348: 3.538866128785726, 350: 3.7222192265517258, 351: 4.187420661073709, 352: 3.6826960025520523, 353: 4.105488469829089, 354: 3.7554429104874556, 355: 4.244421139300276, 356: 3.4943409618783257, 357: 4.116434755643525, 358: 4.102133068546099, 359: 3.972604489683276, 360: 4.251360255724173, 361: 3.846156169877127, 362: 4.323729324107537, 364: 4.499382088270985, 368: 3.72804188152498, 371: 3.4374049604384718, 372: 4.246349958734018, 373: 4.324208784324999, 374: 4.288747937086526, 375: 4.035629914777611, 376: 3.5701800537929342, 377: 4.355471754228407, 378: 4.019001751163668, 379: 4.209668678827615, 381: 3.586154131594747, 383: 3.5502143661321077, 384: 3.867791784012635, 387: 3.640797831214099, 388: 3.6273478583844834, 389: 4.65434116327507, 390: 3.9974517753370815, 395: 3.6366515460106728, 396: 4.133458965267015, 399: 3.946717640836252, 400: 3.842894296563607, 401: 3.475247629378195, 402: 4.263194737202198, 404: 4.050030300680192, 405: 4.066745961378668, 407: 3.929562745503026, 408: 4.233213290348992, 409: 4.5346821890255695, 410: 3.8521965640890943, 413: 4.038092344455127, 414: 3.81429774768341, 416: 4.485610312486614, 417: 4.029281523453386, 421: 3.4427847007104746, 423: 3.678805919500802, 424: 4.093118164871638, 425: 3.93234558450177, 426: 3.8707572419581417, 427: 4.549897155514538, 429: 4.179933964431766, 431: 4.28862291993233, 432: 4.174954249702621, 436: 3.9059417031189034, 437: 4.164606593161515, 438: 3.9923729433582578, 440: 4.087732370690062, 444: 4.579123735852804, 447: 3.6877791216904137, 451: 3.9625149015141563, 453: 3.634774267141463, 456: 4.076682640420073, 457: 3.8512662831341546, 458: 4.080016218723895, 459: 4.288709059714864, 461: 3.809029810104924, 463: 4.1216338721611585, 467: 4.204701844801526, 468: 4.080484460561122, 471: 3.796676954881019, 476: 4.347373412070883, 478: 3.8299419933533394, 479: 3.7724189972319455, 480: 3.688071648952912, 483: 3.983815590915195, 485: 4.192028031854172, 487: 3.8330346801199786, 492: 4.078536090693811, 494: 4.1677874820708904, 495: 4.114289029984242, 496: 4.066893530230178, 497: 4.03828220721101, 498: 3.5888105959454406, 501: 4.185677503289472, 503: 4.223912741690059, 510: 4.34679798312449, 512: 4.129164888210258, 514: 4.206888987569103, 515: 3.9346764260806357, 516: 4.1801968584558935, 519: 3.7736609857665497, 522: 4.092349412370908, 523: 4.1506648593988045, 527: 3.7352288513734813, 529: 3.7891733592523047, 530: 4.2859985146204345, 531: 3.1319918095106156, 533: 3.533445280703813, 534: 4.063709362280279, 538: 4.253825426277226, 540: 4.362858521201844, 542: 4.140037511784809, 544: 4.509535866259046, 545: 4.204339039636645, 546: 3.97465380103292, 547: 3.997254290863664, 551: 3.904834505021036, 556: 3.486414593747933, 557: 3.7880247470824178, 558: 3.7777492889716258, 559: 3.6095639664539028, 560: 3.72392451320686, 561: 4.012668173469539, 563: 3.6812432354366402, 570: 4.157852187528464, 572: 3.9404250541079393, 575: 3.8224593482182656, 576: 3.7011188229496663, 577: 4.077561817039205, 584: 4.012250958343398, 590: 3.7823517939158244, 593: 4.240561314033811, 595: 3.6244971233848258, 596: 3.620867316194827, 597: 3.8106894713209027, 599: 4.233834591999496, 602: 4.258181039450775, 612: 4.249513514002041, 620: 4.183702041134376, 621: 4.156664562867161, 631: 3.66207143449329, 637: 4.422194050871871, 639: 4.006872712321503, 641: 4.099512269628491, 646: 3.4088103844281563, 650: 3.7924367754439046, 652: 3.7379542273303175, 658: 3.6371784827327853, 666: 4.076853315936433, 681: 4.393696202604452, 682: 4.1464704796477445, 693: 3.9050352527270156, 704: 4.440824698323904, 714: 4.011698587487125, 715: 3.8100036102589887, 730: 3.5878753589679637, 733: 4.021305007398291, 773: 4.174624116476876, 826: 3.8983165976036744} [2, 4, 7, 10, 11, 12, 15, 16, 19, 23, 31, 32, 33, 36, 42, 43, 47, 50, 54, 57, 58, 59, 61, 63, 66, 67, 68, 70, 72, 74, 81, 82, 84, 87, 92, 93, 94, 95, 98, 100, 101, 102, 103, 104, 109, 110, 112, 115, 116, 118, 121, 125, 126, 127, 131, 133, 137, 140, 141, 142, 143, 144, 146, 147, 150, 155, 157, 158, 161, 163, 164, 167, 171, 176, 181, 184, 189, 192, 193, 195, 196, 198, 199, 200, 204, 209, 211, 215, 216, 222, 225, 230, 231, 233, 234, 236, 241, 250, 252, 258, 262, 263, 265, 266, 267, 268, 270, 271, 272, 273, 274, 276, 278, 282, 283, 285, 288, 289, 291, 292, 293, 295, 296, 297, 298, 300, 304, 306, 307, 313, 316, 317, 321, 322, 323, 324, 325, 327, 328, 330, 333, 335, 344, 351, 353, 355, 357, 358, 360, 362, 364, 372, 373, 374, 375, 377, 378, 379, 389, 396, 402, 404, 405, 408, 409, 413, 416, 417, 424, 427, 429, 431, 432, 437, 440, 444, 456, 458, 459, 463, 467, 468, 476, 485, 492, 494, 495, 496, 497, 501, 503, 510, 512, 514, 516, 522, 523, 530, 534, 538, 540, 542, 544, 545, 561, 570, 577, 584, 593, 599, 602, 612, 620, 621, 637, 639, 641, 666, 681, 682, 704, 714, 733, 773]\n"
     ]
    }
   ],
   "source": [
    "def build_svd():\n",
    "    svd=SVD()    \n",
    "    reader = Reader()\n",
    "    data = Dataset.load_from_df(final_rating[['user_id', 'book_id', 'rating']], reader)\n",
    "    trainset = data.build_full_trainset()\n",
    "    svd.fit(trainset)\n",
    "    return svd\n",
    "\n",
    "svd = build_svd()\n",
    "\n",
    "# step 2 CF UB\n",
    "def estimate_rating(uid, iid):\n",
    "    return svd.predict(uid, iid).est\n",
    "\n",
    "# step 3 CF UB\n",
    "def recommend_best_est_books(userid, threeshold = 4): \n",
    "    # liste des livres que l'utilisateur n'a pas notés\n",
    "    books_to_rate = book_pivot[book_pivot.loc[:, userid]==0].loc[:, userid]   \n",
    "    # un dictionnaire pour stocker la note à estimer pour chaque livre\n",
    "    rating_est={}\n",
    "    books_to_recommend = []\n",
    "    # pour chaque livre à noter\n",
    "    for key, value in books_to_rate.items():\n",
    "        # ajouter la note estimée au dictionnaire\n",
    "        rating_est[key]=estimate_rating(userid, key)\n",
    "        if rating_est[key] >= threeshold :\n",
    "            books_to_recommend.append(key)\n",
    "    print (rating_est, books_to_recommend)\n",
    "    #print (\"nombre de livres à recommander : \", len(books_to_recommend))\n",
    "    #print (\"nombre de livres non notés : \", len(rating_est))\n",
    "    \n",
    "recommend_best_est_books(53318)"
   ]
  },
  {
   "cell_type": "code",
   "execution_count": null,
   "id": "37c5865c",
   "metadata": {},
   "outputs": [],
   "source": [
    "\n",
    "# step 3 CF UB\n",
    "def estimate_books_not_read(userid): \n",
    "    # liste des livres que l'utilisateur n'a pas notés\n",
    "    books_to_rate = book_pivot[book_pivot.loc[:, userid]==0].loc[:, userid]   \n",
    "    # un dictionnaire pour stocker la note à estimer pour chaque livre\n",
    "    rating_est={}\n",
    "    # pour chaque livre à noter\n",
    "    for key, value in books_to_rate.items():\n",
    "        # ajouter la note estimée au dictionnaire\n",
    "        rating_est[key]=estimate_rating(userid, key)\n",
    "    return (rating_est)\n",
    "    \n",
    "def filter_best_est_books(userid, threeshold = 4):\n",
    "    est = estimate_books_not_read(userid)\n",
    "    \n",
    "recommend_best_est_books(53318)"
   ]
  },
  {
   "cell_type": "code",
   "execution_count": 140,
   "id": "310ece46",
   "metadata": {},
   "outputs": [
    {
     "name": "stdout",
     "output_type": "stream",
     "text": [
      "{'11/22/63': 4.248941658829858, '2001: A Space Odyssey (Space Odyssey, #1)': 4.050467769955871, 'A Child Called \"It\" (Dave Pelzer #1)': 3.8812127087412565, 'A Christmas Carol': 4.086098926937996, 'A Clash of Kings  (A Song of Ice and Fire, #2)': 4.0116026967509, 'A Clockwork Orange': 3.7785658851609094, 'A Confederacy of Dunces': 3.5372558410663353, 'A Discovery of Witches (All Souls Trilogy, #1)': 3.866251090776611, 'A Farewell to Arms': 3.9503166111002312, 'A Game of Thrones (A Song of Ice and Fire, #1)': 4.36141145109948, 'A Heartbreaking Work of Staggering Genius': 3.9863211873518094, 'A Light in the Attic': 4.390094933460714, 'A Little Princess': 4.487779376154226, 'A Man Called Ove': 4.46175414946937, \"A Midsummer Night's Dream\": 4.145846387647004, 'A Million Little Pieces': 3.2568504928100785, 'A Prayer for Owen Meany': 4.245824264447997, 'A Separate Peace': 4.142397090558376, 'A Short History of Nearly Everything': 4.239179303813817, 'A Streetcar Named Desire': 4.158036646993948, 'A Tale of Two Cities': 3.83254605371896, 'A Thousand Splendid Suns': 4.233828338379996, 'A Tree Grows in Brooklyn': 4.513315141212345, 'A Walk in the Woods': 3.952953046541195, 'A Walk to Remember': 3.6678777397617432, 'A Wizard of Earthsea (Earthsea Cycle, #1)': 4.165879806668354, 'A Wrinkle in Time (A Wrinkle in Time Quintet, #1)': 4.614698670557334, 'All Quiet on the Western Front': 3.970554193784881, 'All the Light We Cannot See': 4.533138680442455, 'Allegiant (Divergent, #3)': 3.0524795766787705, 'Along Came a Spider (Alex Cross, #1)': 3.7821646127306843, 'American Gods (American Gods, #1)': 4.167403789499969, 'An Abundance of Katherines': 3.9296784613238884, 'Anansi Boys': 4.145448847418414, 'And Then There Were None': 3.9166925182293855, 'And the Mountains Echoed': 4.17547127906296, \"Angela's Ashes (Frank McCourt, #1)\": 3.996960095032335, 'Angels & Demons  (Robert Langdon, #1)': 3.225562852211978, 'Anna Karenina': 3.668007692376115, 'Anne of Green Gables (Anne of Green Gables, #1)': 4.493213511291402, \"Are You There God? It's Me, Margaret\": 3.8987375094648278, 'Artemis Fowl (Artemis Fowl, #1)': 4.044052174513954, 'Atlas Shrugged': 3.507741963451493, 'Atonement': 4.032833362734089, 'Beautiful Disaster (Beautiful, #1)': 3.3007958588502935, 'Bel Canto': 4.158066627891936, 'Beloved': 3.8622558902436417, 'Beowulf': 3.464572984765428, 'Big Little Lies': 4.282201886920321, 'Black Beauty': 3.994972291745751, 'Blink: The Power of Thinking Without Thinking': 3.8934107865288974, 'Bossypants': 4.047082626822165, 'Brave New World': 3.898173886321921, 'Breakfast of Champions': 4.043399543305033, 'Bridge to Terabithia': 4.134948615583542, \"Bridget Jones's Diary (Bridget Jones, #1)\": 3.688067152277133, 'Brisingr (The Inheritance Cycle, #3)': 3.6251563417650714, 'Candide': 4.0098229655164, 'Carrie': 3.70475480844447, \"Cat's Cradle\": 4.012184170889309, 'Catch-22': 4.3595968851802755, 'Charlie and the Chocolate Factory (Charlie Bucket, #1)': 4.208592510041776, \"Charlotte's Web\": 4.514339821204104, 'Cinder (The Lunar Chronicles, #1)': 4.043190609485951, 'Clockwork Angel (The Infernal Devices, #1)': 3.996591552778642, 'Clockwork Prince (The Infernal Devices, #2)': 3.9986308767188046, 'Cloud Atlas': 4.283573172651931, 'Club Dead (Sookie Stackhouse, #3)': 3.8178228672208827, 'Cold Mountain': 3.778370384397108, 'Confessions of a Shopaholic (Shopaholic, #1)': 3.032265220463942, 'Coraline': 4.173173113377622, 'Crime and Punishment': 3.8777944916629243, 'Cujo': 3.3753827906515546, 'Cutting for Stone': 4.532705688479745, 'Dark Places': 3.824661271700942, 'David Copperfield': 3.861988143100561, 'Dead Until Dark (Sookie Stackhouse, #1)': 3.9040700002998014, 'Dead as a Doornail (Sookie Stackhouse, #5)': 3.7560982095709967, 'Dead to the World (Sookie Stackhouse, #4)': 3.8967837694155563, 'Dear John': 2.916037234978148, 'Death of a Salesman': 3.9578773641142857, 'Deception Point': 3.2133577243426457, 'Defending Jacob': 3.9415794094912844, 'Definitely Dead (Sookie Stackhouse, #6)': 3.647163378991976, 'Delirium (Delirium, #1)': 3.5966757448825275, 'Digital Fortress': 3.2863599362091027, 'Divergent (Divergent, #1)': 3.8652399618631823, 'Divine Secrets of the Ya-Ya Sisterhood': 3.4815145927926814, 'Do Androids Dream of Electric Sheep?': 4.512701691764972, 'Don Quixote': 3.800043767892803, 'Dragonfly in Amber (Outlander, #2)': 4.179227766227792, 'Dress Your Family in Corduroy and Denim': 3.7127743643725006, 'Dune (Dune Chronicles #1)': 4.102104060995162, 'East of Eden': 4.366712218676769, 'Eat, Pray, Love': 3.325750720410279, 'Eldest (The Inheritance Cycle, #2)': 3.6879766442762274, 'Eleanor & Park': 4.072688638898127, 'Ella Enchanted': 3.947476603438574, 'Emma': 3.689182068295419, \"Ender's Game (Ender's Saga, #1)\": 4.403230041722423, 'Eragon (The Inheritance Cycle, #1)': 3.884939573577423, 'Extremely Loud and Incredibly Close': 4.234028881470707, 'Fahrenheit 451': 4.195208763529444, 'Fall of Giants (The Century Trilogy, #1)': 3.991148232556368, 'Fallen (Fallen, #1)': 3.176725494270591, 'Fangirl': 4.047082642328564, 'Fear and Loathing in Las Vegas': 4.223409130252176, 'Fifty Shades Darker (Fifty Shades, #2)': 3.0542778711665397, 'Fifty Shades Freed (Fifty Shades, #3)': 3.1200513475547216, 'Fifty Shades of Grey (Fifty Shades, #1)': 2.5697507463916804, 'Fight Club': 4.220243099668713, 'Flowers for Algernon': 4.361747118464372, 'For Whom the Bell Tolls': 4.271210325993163, 'Foundation (Foundation #1)': 4.335330228382442, 'Franny and Zooey': 3.8806392358331316, 'Freakonomics: A Rogue Economist Explores the Hidden Side of Everything (Freakonomics, #1)': 4.3893237869826045, 'Fried Green Tomatoes at the Whistle Stop Cafe': 4.2714074453140585, 'Frostbite (Vampire Academy, #2)': 3.7009028541918685, 'Girl with a Pearl Earring': 3.9868095722986006, 'Go Ask Alice': 3.8446461725855907, 'Go Set a Watchman': 3.375166318256355, 'Gone Girl': 3.485221717927596, 'Gone with the Wind': 3.852014348840426, 'Good Omens: The Nice and Accurate Prophecies of Agnes Nutter, Witch': 4.420243397815109, 'Good in Bed (Cannie Shapiro, #1)': 3.8123517820301362, 'Graceling (Graceling Realm, #1)': 4.125289290956859, 'Great Expectations': 3.9313368019310566, 'Green Eggs and Ham': 4.299458326061538, \"Gulliver's Travels\": 3.5998073105095187, 'Guns, Germs, and Steel: The Fates of Human Societies': 4.121624680950776, 'Hamlet': 4.00450103690824, 'Harry Potter and the Chamber of Secrets (Harry Potter, #2)': 4.696894603866331, 'Harry Potter and the Cursed Child - Parts One and Two (Harry Potter, #8)': 3.4939458976865536, \"Harry Potter and the Sorcerer's Stone (Harry Potter, #1)\": 4.9203165126272115, \"Hatchet (Brian's Saga, #1)\": 3.8270246499903897, 'Heart of Darkness': 3.0962698240154514, 'Heidi': 3.781418153865275, 'High Fidelity': 4.200166328583788, 'Hotel on the Corner of Bitter and Sweet': 4.054289455159813, 'How the Grinch Stole Christmas!': 4.401778897654003, 'Hush, Hush (Hush, Hush, #1)': 3.284743290807328, 'I Am Number Four (Lorien Legacies, #1)': 3.6458295670133687, 'I Know This Much Is True': 4.1666382728327065, 'I Know Why the Caged Bird Sings': 4.138461595794326, 'I, Robot (Robot #0.1)': 3.8881117623607344, 'If I Stay (If I Stay, #1)': 3.92259569718111, 'In Cold Blood': 4.418930568642335, 'Inferno (Robert Langdon, #4)': 3.212787635359209, 'Inkheart (Inkworld, #1)': 3.647881225230013, 'Insurgent (Divergent, #2)': 3.554764996420276, 'Into Thin Air: A Personal Account of the Mount Everest Disaster': 4.0883747304329425, 'Into the Wild': 4.052947275956125, 'Is Everyone Hanging Out Without Me? (And Other Concerns)': 3.905897802677216, 'It': 3.6666058130658983, 'James and the Giant Peach': 4.109903797693623, 'Jane Eyre': 4.230586213065058, 'Jonathan Strange & Mr Norrell': 4.51535142265926, 'Jurassic Park (Jurassic Park, #1)': 4.030939833788952, 'King Lear': 4.123962460294044, 'Kiss the Girls (Alex Cross, #2)': 3.712148638371842, 'Legend (Legend, #1)': 3.7444558119311337, 'Les Misérables': 4.172634766445834, 'Life After Life': 3.882787324535907, 'Life of Pi': 4.060097170331584, 'Like Water for Chocolate': 4.183884779411451, 'Little Bee': 3.8216658290657826, 'Little House in the Big Woods (Little House, #1)': 4.169520619618735, 'Little House on the Prairie (Little House, #2)': 4.48905516562304, 'Little Women (Little Women, #1)': 3.9303417123387163, 'Living Dead in Dallas (Sookie Stackhouse, #2)': 4.008061167217889, 'Lolita': 3.5808893659130683, 'Looking for Alaska': 4.051529613887207, 'Lord of the Flies': 4.1750638781143925, 'Love in the Time of Cholera': 3.8649820246521487, 'Macbeth': 4.091186188961363, 'Madame Bovary': 3.8633214997958496, 'Mansfield Park': 3.8833416604050393, 'Marked (House of Night, #1)': 3.244676033420546, \"Marley and Me: Life and Love With the World's Worst Dog\": 3.9365680115518233, 'Matched (Matched, #1)': 3.277482448890713, 'Matilda': 4.3735028533997635, 'Me Before You (Me Before You, #1)': 4.226130967219984, 'Me Talk Pretty One Day': 4.035430339227329, 'Memoirs of a Geisha': 4.08538841513571, 'Middlesex': 4.596664589299979, 'Midnight in the Garden of Good and Evil': 4.069223761355564, 'Miss Peregrine’s Home for Peculiar Children (Miss Peregrine’s Peculiar Children, #1)': 3.8915821954388683, 'Moby-Dick or, The Whale': 3.380319017193269, 'Much Ado About Nothing': 4.227797526169445, \"My Sister's Keeper\": 3.8058585815178056, 'Naked': 4.095710377869019, 'Neuromancer': 4.05794091808834, 'Never Let Me Go': 4.158783248841075, 'Neverwhere': 4.44590086288937, 'New Moon (Twilight, #2)': 2.8862386988079907, 'Night (The Night Trilogy #1)': 4.6422522451884065, 'Nineteen Minutes': 4.266635294160416, 'Northanger Abbey': 3.7231297962263965, 'Number the Stars': 4.4388155190511105, 'Of Mice and Men': 3.908473859586369, \"Oh, The Places You'll Go!\": 3.959072896239893, 'Oliver Twist': 3.920852151446286, 'On the Road': 3.6792416753292434, 'One Day': 3.7038162370292573, \"One Flew Over the Cuckoo's Nest\": 4.22084194336638, 'One Hundred Years of Solitude': 3.8647163926950903, 'One for the Money (Stephanie Plum, #1)': 4.041068926840108, 'Orphan Train': 4.130393859878846, 'Oryx and Crake (MaddAddam, #1)': 4.25922352830406, 'Othello': 4.0930103037567, 'Outlander (Outlander, #1)': 4.195576061875206, 'Outliers: The Story of Success': 4.096402579979355, 'Paper Towns': 4.103211990758632, 'Persuasion': 3.838289150637338, 'Pretties (Uglies, #2)': 3.7779689642124907, 'Pride and Prejudice': 4.312304654410007, 'Ready Player One': 4.318279328134836, 'Rebecca': 4.186910589883169, 'Red Dragon (Hannibal Lecter, #1)': 3.95564527985285, 'Robinson Crusoe': 4.068073446464569, 'Romeo and Juliet': 3.988797843350498, 'Room': 4.178620507388776, 'Running with Scissors': 3.664871011300437, \"Sarah's Key\": 3.9192040874869263, 'Sense and Sensibility': 3.738728787527597, 'Sharp Objects': 3.779709534606837, \"She's Come Undone\": 3.985222671644798, 'Shiver (The Wolves of Mercy Falls, #1)': 3.717447049472727, 'Siddhartha': 3.9308072457959935, 'Slaughterhouse-Five': 3.8706861793586778, 'Snow Falling on Cedars': 4.14912558161919, 'Snow Flower and the Secret Fan': 3.981031925366945, 'Something Borrowed (Darcy & Rachel, #1)': 3.250621923736063, 'Speak': 3.927763238758299, \"Speaker for the Dead (Ender's Saga, #2)\": 4.177918201597281, 'Sphere': 3.626374908602767, 'Stardust': 4.303331291511844, 'Station Eleven': 4.316252329811823, 'Still Alice': 4.352497476001197, 'Stranger in a Strange Land': 3.983600528071733, \"Tess of the D'Urbervilles\": 3.6910222083305784, 'The Adventures of Huckleberry Finn': 3.924627416138127, 'The Adventures of Sherlock Holmes': 4.236820500532106, 'The Adventures of Tom Sawyer': 4.061308971248602, 'The Alchemist': 3.7105616417532103, 'The Amazing Adventures of Kavalier & Clay': 4.156644313236145, 'The Amber Spyglass (His Dark Materials, #3)': 3.874326898007569, 'The Andromeda Strain': 4.006116679916065, 'The Art of Racing in the Rain': 4.019233661724585, 'The BFG': 4.5893705159424085, 'The Bad Beginning (A Series of Unfortunate Events, #1)': 3.564324715405121, 'The Bell Jar': 3.9077900139186137, 'The Book Thief': 4.2154836442039025, 'The Bourne Identity (Jason Bourne, #1)': 4.139558282945334, 'The Boy in the Striped Pajamas': 4.01732247830061, 'The Brief Wondrous Life of Oscar Wao': 4.461585295666185, 'The Brothers Karamazov': 4.006774094443584, 'The Call of the Wild': 4.072679395771101, 'The Canterbury Tales': 3.7768196046130114, 'The Casual Vacancy': 3.0356086163631324, 'The Cider House Rules': 4.348037704061722, \"The Clan of the Cave Bear (Earth's Children, #1)\": 3.937051578701369, 'The Color Purple': 4.097121330373432, 'The Color of Magic (Discworld, #1; Rincewind #1)': 4.3373182244087065, 'The Complete Stories and Poems': 4.230199653656649, 'The Corrections': 3.872554592114143, 'The Count of Monte Cristo': 4.388896782400864, 'The Crucible': 3.8596283390433443, \"The Cuckoo's Calling (Cormoran Strike, #1)\": 4.02017572953936, 'The Curious Incident of the Dog in the Night-Time': 4.138600950962036, 'The Da Vinci Code (Robert Langdon, #2)': 3.2621951449211792, 'The Death Cure (Maze Runner, #3)': 3.8504663369347583, 'The Devil Wears Prada (The Devil Wears Prada, #1)': 3.6616600017737353, 'The Devil in the White City: Murder, Magic, and Madness at the Fair That Changed America': 4.252616788425691, 'The Diary of a Young Girl': 4.034642506238547, 'The Drawing of the Three (The Dark Tower, #2)': 4.349236447555785, 'The Elite (The Selection, #2)': 3.54144528106196, 'The Eye of the World (Wheel of Time, #1)': 3.937153851962611, 'The Fellowship of the Ring (The Lord of the Rings, #1)': 4.603135728566893, 'The Final Empire (Mistborn, #1)': 4.7277639562208185, 'The Five People You Meet in Heaven': 3.641741291772467, 'The Fountainhead': 3.7422864378026186, \"The Girl Who Kicked the Hornet's Nest (Millennium, #3)\": 3.690165063593118, 'The Girl Who Played with Fire (Millennium, #2)': 3.9113377089104224, 'The Girl on the Train': 3.43477922719748, 'The Girl with the Dragon Tattoo (Millennium, #1)': 3.58261720876552, 'The Giver (The Giver, #1)': 4.346020936347035, 'The Giving Tree': 4.2555635486115335, 'The Glass Castle': 3.723312205822874, 'The God of Small Things': 4.026835643138974, 'The Godfather': 4.111919453479997, 'The Golden Compass (His Dark Materials, #1)': 4.127190692641091, 'The Goldfinch': 3.8790726288412314, 'The Good Earth (House of Earth, #1)': 4.173562199216839, 'The Grapes of Wrath': 3.899939452738569, 'The Graveyard Book': 4.390709106297831, 'The Great Gatsby': 4.009205719183109, 'The Great Hunt (Wheel of Time, #2)': 3.914506037379522, 'The Guernsey Literary and Potato Peel Pie Society': 4.189310469115595, 'The Gunslinger (The Dark Tower, #1)': 4.175426063638078, \"The Handmaid's Tale\": 4.70390257869643, 'The Help': 4.191448585369438, 'The Historian': 3.199788891245058, \"The Hitchhiker's Guide to the Galaxy (Hitchhiker's Guide to the Galaxy, #1)\": 4.672486237633983, 'The Hobbit': 4.630901195666423, 'The Horse and His Boy (Chronicles of Narnia, #5)': 3.9068531785467786, 'The Host (The Host, #1)': 3.3816317863597396, 'The Hunt for Red October (Jack Ryan Universe, #4)': 4.116675260558174, \"The Husband's Secret\": 4.233692720090431, 'The Iliad': 3.904494540771356, 'The Immortal Life of Henrietta Lacks': 3.958591581103459, 'The Importance of Being Earnest': 4.259226630785532, 'The Invention of Wings': 4.128431435760046, 'The Joy Luck Club': 3.9110009707605498, 'The Kite Runner': 4.266082989645239, 'The Last Battle (Chronicles of Narnia, #7)': 3.9951744618559215, 'The Last Lecture': 4.132647007332001, 'The Last Song': 3.2195899864169597, 'The Light Between Oceans': 3.8173523370992264, 'The Lightning Thief (Percy Jackson and the Olympians, #1)': 3.8906666375043097, 'The Lord of the Rings (The Lord of the Rings, #1-3)': 4.881351505052578, 'The Lost Hero (The Heroes of Olympus, #1)': 4.186669410744778, 'The Lost Symbol (Robert Langdon, #3)': 3.1257102496623883, 'The Lovely Bones': 4.12419996161791, 'The Magicians (The Magicians #1)': 3.454965779003074, 'The Martian': 4.266658391850209, 'The Martian Chronicles': 3.93169381292714, 'The Maze Runner (Maze Runner, #1)': 3.4809680254378144, \"The Memory Keeper's Daughter\": 3.6010060271821036, 'The Metamorphosis': 3.74558751374912, 'The Mists of Avalon (Avalon, #1)': 4.143850114950577, 'The Name of the Rose': 4.219438701351559, 'The Name of the Wind (The Kingkiller Chronicle, #1)': 4.516902539025193, 'The Namesake': 3.7134310417165697, 'The Nanny Diaries (Nanny, #1)': 3.4607548622465343, 'The Night Circus': 4.161463026996905, 'The Nightingale': 4.256985947795142, \"The No. 1 Ladies' Detective Agency  (No. 1 Ladies' Detective Agency, #1)\": 3.863890765859404, 'The Notebook (The Notebook, #1)': 3.4150830630814153, 'The Ocean at the End of the Lane': 4.16326689240779, 'The Odyssey': 4.145289645292108, 'The Old Man and the Sea': 3.838332076789028, 'The Other Boleyn Girl (The Plantagenet and Tudor Novels, #9)': 3.968448704424363, 'The Pact': 4.14909497763772, 'The Paris Wife': 3.822054956011077, 'The Pearl': 3.5589816789485704, 'The Perks of Being a Wallflower': 4.246364908511511, 'The Phantom Tollbooth': 4.470169685861517, 'The Picture of Dorian Gray': 3.8409853542034122, 'The Pillars of the Earth (The Kingsbridge Series, #1)': 3.938055954320635, 'The Poisonwood Bible': 4.302817172908881, 'The Prince': 3.691060774800915, 'The Prince of Tides': 4.209591449921652, 'The Rainmaker': 3.846338978331363, 'The Red Tent': 4.02459105340386, \"The Restaurant at the End of the Universe (Hitchhiker's Guide, #2)\": 4.125544547896859, 'The Return of the King (The Lord of the Rings, #3)': 4.852264128006437, 'The Road': 3.7368679636983164, 'The Rosie Project (Don Tillman, #1)': 4.207004374859163, 'The Runaway Jury': 4.0235646099238105, 'The Scarlet Letter': 3.0514290416903327, 'The Scorch Trials (Maze Runner, #2)': 3.5938642616750225, 'The Screwtape Letters': 4.249580474637243, 'The Sea of Monsters (Percy Jackson and the Olympians, #2)': 3.835019057928691, 'The Secret Garden': 4.464566202657413, 'The Secret History': 4.253951305265632, 'The Secret Life of Bees': 3.973898520461813, 'The Selection (The Selection, #1)': 3.6285123572271036, 'The Shack': 3.646341944984446, 'The Shadow of the Wind (The Cemetery of Forgotten Books,  #1)': 4.362820713174115, 'The Shining (The Shining #1)': 4.277280856297527, 'The Silence of the Lambs  (Hannibal Lecter, #2)': 4.0889196633936535, 'The Silver Chair (Chronicles of Narnia, #4)': 4.297798598284327, 'The Son of Neptune (The Heroes of Olympus, #2)': 3.960621642436487, 'The Strange Case of Dr. Jekyll and Mr. Hyde': 3.617920707919922, 'The Stranger': 3.928553407221807, 'The Subtle Knife (His Dark Materials, #2)': 4.070064755678437, 'The Sun Also Rises': 4.003397852950879, 'The Tales of Beedle the Bard': 3.878479877112005, 'The Taming of the Shrew': 3.940102561491374, 'The Tell-Tale Heart and Other Writings': 3.636721946016994, 'The Things They Carried': 4.305792331084189, 'The Thirteenth Tale': 4.131584360623188, 'The Thorn Birds': 3.8569204193736013, 'The Three Musketeers': 3.984555337927238, 'The Time Machine': 3.692756943314958, \"The Time Traveler's Wife\": 4.090993003423403, 'The Tipping Point: How Little Things Can Make a Big Difference': 4.248034611306469, \"The Titan's Curse (Percy Jackson and the Olympians, #3)\": 3.8444374222135966, 'The Two Towers (The Lord of the Rings, #2)': 4.832497738860547, \"The Ultimate Hitchhiker's Guide to the Galaxy\": 4.5676296390308355, 'The Unbearable Lightness of Being': 4.006219391149144, 'The Velveteen Rabbit': 4.348284594997344, 'The Very Hungry Caterpillar Board Book': 4.293538190760992, 'The Virgin Suicides': 4.211815124567224, 'The Voyage of the Dawn Treader (Chronicles of Narnia, #3)': 4.150907974336267, 'The War of the Worlds': 3.5605724076079035, 'The Wind in the Willows': 4.168492425768168, \"The Wise Man's Fear (The Kingkiller Chronicle, #2)\": 4.843904816756757, 'The Witches': 4.351489904116535, 'The World According to Garp': 4.22816427420696, 'Their Eyes Were Watching God': 3.8283167143397883, 'Things Fall Apart (The African Trilogy, #1)': 3.864633793003262, 'Thirteen Reasons Why': 4.044736619603497, \"Three Cups of Tea: One Man's Mission to Promote Peace ... One School at a Time\": 3.3598363229128867, 'Timeline': 3.6334557677762866, 'To Kill a Mockingbird': 4.616878640516554, 'Treasure Island': 3.9739736615965833, 'Tuck Everlasting': 4.224411176127017, 'Tuesdays with Morrie': 3.971180398184622, 'Uglies (Uglies, #1)': 3.6454563787251204, 'Unbroken: A World War II Story of Survival, Resilience, and Redemption': 4.677601646334439, \"Uncle Tom's Cabin\": 3.7497506992726737, 'Under the Tuscan Sun': 3.791019111700646, 'Vampire Academy (Vampire Academy, #1)': 3.5742905226985386, 'War and Peace': 4.023134482265622, 'Watchmen': 4.545284443677483, 'Water for Elephants': 4.084941811919711, 'Watership Down (Watership Down, #1)': 4.560050005266275, 'We Were Liars': 3.9307017964715762, 'What Alice Forgot': 3.9714838408236894, 'When You Are Engulfed in Flames': 3.9215723733373298, 'Where the Heart Is': 3.7330561653512757, 'Where the Red Fern Grows': 4.027505480530371, 'Where the Sidewalk Ends': 4.6872038625894685, 'Where the Wild Things Are': 4.232166021678399, \"Where'd You Go, Bernadette\": 4.267395098192481, 'White Oleander': 3.872741587080371, 'Wicked: The Life and Times of the Wicked Witch of the West (The Wicked Years, #1)': 4.372489222485079, 'Wild: From Lost to Found on the Pacific Crest Trail': 3.760811497508329, 'Winnie-the-Pooh (Winnie-the-Pooh, #1)': 4.696978644879834, 'Wonder': 4.394475915384961, 'Wuthering Heights': 3.3671726919643636, 'Yes Please': 3.6779932561515234, 'Zen and the Art of Motorcycle Maintenance: An Inquiry Into Values': 3.6599975972901597} ['11/22/63', '2001: A Space Odyssey (Space Odyssey, #1)', 'A Christmas Carol', 'A Clash of Kings  (A Song of Ice and Fire, #2)', 'A Game of Thrones (A Song of Ice and Fire, #1)', 'A Light in the Attic', 'A Little Princess', 'A Man Called Ove', \"A Midsummer Night's Dream\", 'A Prayer for Owen Meany', 'A Separate Peace', 'A Short History of Nearly Everything', 'A Streetcar Named Desire', 'A Thousand Splendid Suns', 'A Tree Grows in Brooklyn', 'A Wizard of Earthsea (Earthsea Cycle, #1)', 'A Wrinkle in Time (A Wrinkle in Time Quintet, #1)', 'All the Light We Cannot See', 'American Gods (American Gods, #1)', 'Anansi Boys', 'And the Mountains Echoed', 'Anne of Green Gables (Anne of Green Gables, #1)', 'Artemis Fowl (Artemis Fowl, #1)', 'Atonement', 'Bel Canto', 'Big Little Lies', 'Bossypants', 'Breakfast of Champions', 'Bridge to Terabithia', 'Candide', \"Cat's Cradle\", 'Catch-22', 'Charlie and the Chocolate Factory (Charlie Bucket, #1)', \"Charlotte's Web\", 'Cinder (The Lunar Chronicles, #1)', 'Cloud Atlas', 'Coraline', 'Cutting for Stone', 'Do Androids Dream of Electric Sheep?', 'Dragonfly in Amber (Outlander, #2)', 'Dune (Dune Chronicles #1)', 'East of Eden', 'Eleanor & Park', \"Ender's Game (Ender's Saga, #1)\", 'Extremely Loud and Incredibly Close', 'Fahrenheit 451', 'Fangirl', 'Fear and Loathing in Las Vegas', 'Fight Club', 'Flowers for Algernon', 'For Whom the Bell Tolls', 'Foundation (Foundation #1)', 'Freakonomics: A Rogue Economist Explores the Hidden Side of Everything (Freakonomics, #1)', 'Fried Green Tomatoes at the Whistle Stop Cafe', 'Good Omens: The Nice and Accurate Prophecies of Agnes Nutter, Witch', 'Graceling (Graceling Realm, #1)', 'Green Eggs and Ham', 'Guns, Germs, and Steel: The Fates of Human Societies', 'Hamlet', 'Harry Potter and the Chamber of Secrets (Harry Potter, #2)', \"Harry Potter and the Sorcerer's Stone (Harry Potter, #1)\", 'High Fidelity', 'Hotel on the Corner of Bitter and Sweet', 'How the Grinch Stole Christmas!', 'I Know This Much Is True', 'I Know Why the Caged Bird Sings', 'In Cold Blood', 'Into Thin Air: A Personal Account of the Mount Everest Disaster', 'Into the Wild', 'James and the Giant Peach', 'Jane Eyre', 'Jonathan Strange & Mr Norrell', 'Jurassic Park (Jurassic Park, #1)', 'King Lear', 'Les Misérables', 'Life of Pi', 'Like Water for Chocolate', 'Little House in the Big Woods (Little House, #1)', 'Little House on the Prairie (Little House, #2)', 'Living Dead in Dallas (Sookie Stackhouse, #2)', 'Looking for Alaska', 'Lord of the Flies', 'Macbeth', 'Matilda', 'Me Before You (Me Before You, #1)', 'Me Talk Pretty One Day', 'Memoirs of a Geisha', 'Middlesex', 'Midnight in the Garden of Good and Evil', 'Much Ado About Nothing', 'Naked', 'Neuromancer', 'Never Let Me Go', 'Neverwhere', 'Night (The Night Trilogy #1)', 'Nineteen Minutes', 'Number the Stars', \"One Flew Over the Cuckoo's Nest\", 'One for the Money (Stephanie Plum, #1)', 'Orphan Train', 'Oryx and Crake (MaddAddam, #1)', 'Othello', 'Outlander (Outlander, #1)', 'Outliers: The Story of Success', 'Paper Towns', 'Pride and Prejudice', 'Ready Player One', 'Rebecca', 'Robinson Crusoe', 'Room', 'Snow Falling on Cedars', \"Speaker for the Dead (Ender's Saga, #2)\", 'Stardust', 'Station Eleven', 'Still Alice', 'The Adventures of Sherlock Holmes', 'The Adventures of Tom Sawyer', 'The Amazing Adventures of Kavalier & Clay', 'The Andromeda Strain', 'The Art of Racing in the Rain', 'The BFG', 'The Book Thief', 'The Bourne Identity (Jason Bourne, #1)', 'The Boy in the Striped Pajamas', 'The Brief Wondrous Life of Oscar Wao', 'The Brothers Karamazov', 'The Call of the Wild', 'The Cider House Rules', 'The Color Purple', 'The Color of Magic (Discworld, #1; Rincewind #1)', 'The Complete Stories and Poems', 'The Count of Monte Cristo', \"The Cuckoo's Calling (Cormoran Strike, #1)\", 'The Curious Incident of the Dog in the Night-Time', 'The Devil in the White City: Murder, Magic, and Madness at the Fair That Changed America', 'The Diary of a Young Girl', 'The Drawing of the Three (The Dark Tower, #2)', 'The Fellowship of the Ring (The Lord of the Rings, #1)', 'The Final Empire (Mistborn, #1)', 'The Giver (The Giver, #1)', 'The Giving Tree', 'The God of Small Things', 'The Godfather', 'The Golden Compass (His Dark Materials, #1)', 'The Good Earth (House of Earth, #1)', 'The Graveyard Book', 'The Great Gatsby', 'The Guernsey Literary and Potato Peel Pie Society', 'The Gunslinger (The Dark Tower, #1)', \"The Handmaid's Tale\", 'The Help', \"The Hitchhiker's Guide to the Galaxy (Hitchhiker's Guide to the Galaxy, #1)\", 'The Hobbit', 'The Hunt for Red October (Jack Ryan Universe, #4)', \"The Husband's Secret\", 'The Importance of Being Earnest', 'The Invention of Wings', 'The Kite Runner', 'The Last Lecture', 'The Lord of the Rings (The Lord of the Rings, #1-3)', 'The Lost Hero (The Heroes of Olympus, #1)', 'The Lovely Bones', 'The Martian', 'The Mists of Avalon (Avalon, #1)', 'The Name of the Rose', 'The Name of the Wind (The Kingkiller Chronicle, #1)', 'The Night Circus', 'The Nightingale', 'The Ocean at the End of the Lane', 'The Odyssey', 'The Pact', 'The Perks of Being a Wallflower', 'The Phantom Tollbooth', 'The Poisonwood Bible', 'The Prince of Tides', 'The Red Tent', \"The Restaurant at the End of the Universe (Hitchhiker's Guide, #2)\", 'The Return of the King (The Lord of the Rings, #3)', 'The Rosie Project (Don Tillman, #1)', 'The Runaway Jury', 'The Screwtape Letters', 'The Secret Garden', 'The Secret History', 'The Shadow of the Wind (The Cemetery of Forgotten Books,  #1)', 'The Shining (The Shining #1)', 'The Silence of the Lambs  (Hannibal Lecter, #2)', 'The Silver Chair (Chronicles of Narnia, #4)', 'The Subtle Knife (His Dark Materials, #2)', 'The Sun Also Rises', 'The Things They Carried', 'The Thirteenth Tale', \"The Time Traveler's Wife\", 'The Tipping Point: How Little Things Can Make a Big Difference', 'The Two Towers (The Lord of the Rings, #2)', \"The Ultimate Hitchhiker's Guide to the Galaxy\", 'The Unbearable Lightness of Being', 'The Velveteen Rabbit', 'The Very Hungry Caterpillar Board Book', 'The Virgin Suicides', 'The Voyage of the Dawn Treader (Chronicles of Narnia, #3)', 'The Wind in the Willows', \"The Wise Man's Fear (The Kingkiller Chronicle, #2)\", 'The Witches', 'The World According to Garp', 'Thirteen Reasons Why', 'To Kill a Mockingbird', 'Tuck Everlasting', 'Unbroken: A World War II Story of Survival, Resilience, and Redemption', 'War and Peace', 'Watchmen', 'Water for Elephants', 'Watership Down (Watership Down, #1)', 'Where the Red Fern Grows', 'Where the Sidewalk Ends', 'Where the Wild Things Are', \"Where'd You Go, Bernadette\", 'Wicked: The Life and Times of the Wicked Witch of the West (The Wicked Years, #1)', 'Winnie-the-Pooh (Winnie-the-Pooh, #1)', 'Wonder']\n",
      "nombre de livres à recommander :  219\n",
      "nombre de livres non notés :  435\n"
     ]
    }
   ],
   "source": [
    "# step 3 CF UB\n",
    "def recommend_best_est_books(userid, threeshold = 4): \n",
    "    # liste des livres que l'utilisateur n'a pas notés\n",
    "    books_to_rate = book_pivot[book_pivot.loc[:, userid]==0].loc[:, userid]   \n",
    "    # un dictionnaire pour stocker la note à estimer pour chaque livre\n",
    "    rating_est={}\n",
    "    books_to_recommend = []\n",
    "    # pour chaque livre à noter\n",
    "    for key, value in books_to_rate.items():\n",
    "        # ajouter la note estimée au dictionnaire\n",
    "        rating_est[key]=estimate_rating(userid, key)\n",
    "        if rating_est[key] >= threeshold :\n",
    "            books_to_recommend.append(key)\n",
    "    print (rating_est, books_to_recommend)\n",
    "    print (\"nombre de livres à recommander : \", len(books_to_recommend))\n",
    "    print (\"nombre de livres non notés : \", len(rating_est))\n",
    "    \n",
    "recommend_best_est_books(53318)"
   ]
  },
  {
   "cell_type": "code",
   "execution_count": 130,
   "id": "ceb146de",
   "metadata": {},
   "outputs": [],
   "source": [
    "books_to_rate = book_pivot[book_pivot.loc[:, 53318]==0].loc[:, 53318]"
   ]
  },
  {
   "cell_type": "code",
   "execution_count": 131,
   "id": "d90ceb13",
   "metadata": {},
   "outputs": [
    {
     "data": {
      "text/plain": [
       "title\n",
       "11/22/63                                                             0.0\n",
       "2001: A Space Odyssey (Space Odyssey, #1)                            0.0\n",
       "A Child Called \"It\" (Dave Pelzer #1)                                 0.0\n",
       "A Christmas Carol                                                    0.0\n",
       "A Clash of Kings  (A Song of Ice and Fire, #2)                       0.0\n",
       "                                                                    ... \n",
       "Winnie-the-Pooh (Winnie-the-Pooh, #1)                                0.0\n",
       "Wonder                                                               0.0\n",
       "Wuthering Heights                                                    0.0\n",
       "Yes Please                                                           0.0\n",
       "Zen and the Art of Motorcycle Maintenance: An Inquiry Into Values    0.0\n",
       "Name: 53318, Length: 435, dtype: float64"
      ]
     },
     "execution_count": 131,
     "metadata": {},
     "output_type": "execute_result"
    }
   ],
   "source": [
    "books_to_rate"
   ]
  },
  {
   "cell_type": "code",
   "execution_count": 133,
   "id": "37c38fc7",
   "metadata": {},
   "outputs": [
    {
     "name": "stdout",
     "output_type": "stream",
     "text": [
      "{'11/22/63': 4.248941658829858, '2001: A Space Odyssey (Space Odyssey, #1)': 4.050467769955871, 'A Child Called \"It\" (Dave Pelzer #1)': 3.8812127087412565, 'A Christmas Carol': 4.086098926937996, 'A Clash of Kings  (A Song of Ice and Fire, #2)': 4.0116026967509, 'A Clockwork Orange': 3.7785658851609094, 'A Confederacy of Dunces': 3.5372558410663353, 'A Discovery of Witches (All Souls Trilogy, #1)': 3.866251090776611, 'A Farewell to Arms': 3.9503166111002312, 'A Game of Thrones (A Song of Ice and Fire, #1)': 4.36141145109948, 'A Heartbreaking Work of Staggering Genius': 3.9863211873518094, 'A Light in the Attic': 4.390094933460714, 'A Little Princess': 4.487779376154226, 'A Man Called Ove': 4.46175414946937, \"A Midsummer Night's Dream\": 4.145846387647004, 'A Million Little Pieces': 3.2568504928100785, 'A Prayer for Owen Meany': 4.245824264447997, 'A Separate Peace': 4.142397090558376, 'A Short History of Nearly Everything': 4.239179303813817, 'A Streetcar Named Desire': 4.158036646993948, 'A Tale of Two Cities': 3.83254605371896, 'A Thousand Splendid Suns': 4.233828338379996, 'A Tree Grows in Brooklyn': 4.513315141212345, 'A Walk in the Woods': 3.952953046541195, 'A Walk to Remember': 3.6678777397617432, 'A Wizard of Earthsea (Earthsea Cycle, #1)': 4.165879806668354, 'A Wrinkle in Time (A Wrinkle in Time Quintet, #1)': 4.614698670557334, 'All Quiet on the Western Front': 3.970554193784881, 'All the Light We Cannot See': 4.533138680442455, 'Allegiant (Divergent, #3)': 3.0524795766787705, 'Along Came a Spider (Alex Cross, #1)': 3.7821646127306843, 'American Gods (American Gods, #1)': 4.167403789499969, 'An Abundance of Katherines': 3.9296784613238884, 'Anansi Boys': 4.145448847418414, 'And Then There Were None': 3.9166925182293855, 'And the Mountains Echoed': 4.17547127906296, \"Angela's Ashes (Frank McCourt, #1)\": 3.996960095032335, 'Angels & Demons  (Robert Langdon, #1)': 3.225562852211978, 'Anna Karenina': 3.668007692376115, 'Anne of Green Gables (Anne of Green Gables, #1)': 4.493213511291402, \"Are You There God? It's Me, Margaret\": 3.8987375094648278, 'Artemis Fowl (Artemis Fowl, #1)': 4.044052174513954, 'Atlas Shrugged': 3.507741963451493, 'Atonement': 4.032833362734089, 'Beautiful Disaster (Beautiful, #1)': 3.3007958588502935, 'Bel Canto': 4.158066627891936, 'Beloved': 3.8622558902436417, 'Beowulf': 3.464572984765428, 'Big Little Lies': 4.282201886920321, 'Black Beauty': 3.994972291745751, 'Blink: The Power of Thinking Without Thinking': 3.8934107865288974, 'Bossypants': 4.047082626822165, 'Brave New World': 3.898173886321921, 'Breakfast of Champions': 4.043399543305033, 'Bridge to Terabithia': 4.134948615583542, \"Bridget Jones's Diary (Bridget Jones, #1)\": 3.688067152277133, 'Brisingr (The Inheritance Cycle, #3)': 3.6251563417650714, 'Candide': 4.0098229655164, 'Carrie': 3.70475480844447, \"Cat's Cradle\": 4.012184170889309, 'Catch-22': 4.3595968851802755, 'Charlie and the Chocolate Factory (Charlie Bucket, #1)': 4.208592510041776, \"Charlotte's Web\": 4.514339821204104, 'Cinder (The Lunar Chronicles, #1)': 4.043190609485951, 'Clockwork Angel (The Infernal Devices, #1)': 3.996591552778642, 'Clockwork Prince (The Infernal Devices, #2)': 3.9986308767188046, 'Cloud Atlas': 4.283573172651931, 'Club Dead (Sookie Stackhouse, #3)': 3.8178228672208827, 'Cold Mountain': 3.778370384397108, 'Confessions of a Shopaholic (Shopaholic, #1)': 3.032265220463942, 'Coraline': 4.173173113377622, 'Crime and Punishment': 3.8777944916629243, 'Cujo': 3.3753827906515546, 'Cutting for Stone': 4.532705688479745, 'Dark Places': 3.824661271700942, 'David Copperfield': 3.861988143100561, 'Dead Until Dark (Sookie Stackhouse, #1)': 3.9040700002998014, 'Dead as a Doornail (Sookie Stackhouse, #5)': 3.7560982095709967, 'Dead to the World (Sookie Stackhouse, #4)': 3.8967837694155563, 'Dear John': 2.916037234978148, 'Death of a Salesman': 3.9578773641142857, 'Deception Point': 3.2133577243426457, 'Defending Jacob': 3.9415794094912844, 'Definitely Dead (Sookie Stackhouse, #6)': 3.647163378991976, 'Delirium (Delirium, #1)': 3.5966757448825275, 'Digital Fortress': 3.2863599362091027, 'Divergent (Divergent, #1)': 3.8652399618631823, 'Divine Secrets of the Ya-Ya Sisterhood': 3.4815145927926814, 'Do Androids Dream of Electric Sheep?': 4.512701691764972, 'Don Quixote': 3.800043767892803, 'Dragonfly in Amber (Outlander, #2)': 4.179227766227792, 'Dress Your Family in Corduroy and Denim': 3.7127743643725006, 'Dune (Dune Chronicles #1)': 4.102104060995162, 'East of Eden': 4.366712218676769, 'Eat, Pray, Love': 3.325750720410279, 'Eldest (The Inheritance Cycle, #2)': 3.6879766442762274, 'Eleanor & Park': 4.072688638898127, 'Ella Enchanted': 3.947476603438574, 'Emma': 3.689182068295419, \"Ender's Game (Ender's Saga, #1)\": 4.403230041722423, 'Eragon (The Inheritance Cycle, #1)': 3.884939573577423, 'Extremely Loud and Incredibly Close': 4.234028881470707, 'Fahrenheit 451': 4.195208763529444, 'Fall of Giants (The Century Trilogy, #1)': 3.991148232556368, 'Fallen (Fallen, #1)': 3.176725494270591, 'Fangirl': 4.047082642328564, 'Fear and Loathing in Las Vegas': 4.223409130252176, 'Fifty Shades Darker (Fifty Shades, #2)': 3.0542778711665397, 'Fifty Shades Freed (Fifty Shades, #3)': 3.1200513475547216, 'Fifty Shades of Grey (Fifty Shades, #1)': 2.5697507463916804, 'Fight Club': 4.220243099668713, 'Flowers for Algernon': 4.361747118464372, 'For Whom the Bell Tolls': 4.271210325993163, 'Foundation (Foundation #1)': 4.335330228382442, 'Franny and Zooey': 3.8806392358331316, 'Freakonomics: A Rogue Economist Explores the Hidden Side of Everything (Freakonomics, #1)': 4.3893237869826045, 'Fried Green Tomatoes at the Whistle Stop Cafe': 4.2714074453140585, 'Frostbite (Vampire Academy, #2)': 3.7009028541918685, 'Girl with a Pearl Earring': 3.9868095722986006, 'Go Ask Alice': 3.8446461725855907, 'Go Set a Watchman': 3.375166318256355, 'Gone Girl': 3.485221717927596, 'Gone with the Wind': 3.852014348840426, 'Good Omens: The Nice and Accurate Prophecies of Agnes Nutter, Witch': 4.420243397815109, 'Good in Bed (Cannie Shapiro, #1)': 3.8123517820301362, 'Graceling (Graceling Realm, #1)': 4.125289290956859, 'Great Expectations': 3.9313368019310566, 'Green Eggs and Ham': 4.299458326061538, \"Gulliver's Travels\": 3.5998073105095187, 'Guns, Germs, and Steel: The Fates of Human Societies': 4.121624680950776, 'Hamlet': 4.00450103690824, 'Harry Potter and the Chamber of Secrets (Harry Potter, #2)': 4.696894603866331, 'Harry Potter and the Cursed Child - Parts One and Two (Harry Potter, #8)': 3.4939458976865536, \"Harry Potter and the Sorcerer's Stone (Harry Potter, #1)\": 4.9203165126272115, \"Hatchet (Brian's Saga, #1)\": 3.8270246499903897, 'Heart of Darkness': 3.0962698240154514, 'Heidi': 3.781418153865275, 'High Fidelity': 4.200166328583788, 'Hotel on the Corner of Bitter and Sweet': 4.054289455159813, 'How the Grinch Stole Christmas!': 4.401778897654003, 'Hush, Hush (Hush, Hush, #1)': 3.284743290807328, 'I Am Number Four (Lorien Legacies, #1)': 3.6458295670133687, 'I Know This Much Is True': 4.1666382728327065, 'I Know Why the Caged Bird Sings': 4.138461595794326, 'I, Robot (Robot #0.1)': 3.8881117623607344, 'If I Stay (If I Stay, #1)': 3.92259569718111, 'In Cold Blood': 4.418930568642335, 'Inferno (Robert Langdon, #4)': 3.212787635359209, 'Inkheart (Inkworld, #1)': 3.647881225230013, 'Insurgent (Divergent, #2)': 3.554764996420276, 'Into Thin Air: A Personal Account of the Mount Everest Disaster': 4.0883747304329425, 'Into the Wild': 4.052947275956125, 'Is Everyone Hanging Out Without Me? (And Other Concerns)': 3.905897802677216, 'It': 3.6666058130658983, 'James and the Giant Peach': 4.109903797693623, 'Jane Eyre': 4.230586213065058, 'Jonathan Strange & Mr Norrell': 4.51535142265926, 'Jurassic Park (Jurassic Park, #1)': 4.030939833788952, 'King Lear': 4.123962460294044, 'Kiss the Girls (Alex Cross, #2)': 3.712148638371842, 'Legend (Legend, #1)': 3.7444558119311337, 'Les Misérables': 4.172634766445834, 'Life After Life': 3.882787324535907, 'Life of Pi': 4.060097170331584, 'Like Water for Chocolate': 4.183884779411451, 'Little Bee': 3.8216658290657826, 'Little House in the Big Woods (Little House, #1)': 4.169520619618735, 'Little House on the Prairie (Little House, #2)': 4.48905516562304, 'Little Women (Little Women, #1)': 3.9303417123387163, 'Living Dead in Dallas (Sookie Stackhouse, #2)': 4.008061167217889, 'Lolita': 3.5808893659130683, 'Looking for Alaska': 4.051529613887207, 'Lord of the Flies': 4.1750638781143925, 'Love in the Time of Cholera': 3.8649820246521487, 'Macbeth': 4.091186188961363, 'Madame Bovary': 3.8633214997958496, 'Mansfield Park': 3.8833416604050393, 'Marked (House of Night, #1)': 3.244676033420546, \"Marley and Me: Life and Love With the World's Worst Dog\": 3.9365680115518233, 'Matched (Matched, #1)': 3.277482448890713, 'Matilda': 4.3735028533997635, 'Me Before You (Me Before You, #1)': 4.226130967219984, 'Me Talk Pretty One Day': 4.035430339227329, 'Memoirs of a Geisha': 4.08538841513571, 'Middlesex': 4.596664589299979, 'Midnight in the Garden of Good and Evil': 4.069223761355564, 'Miss Peregrine’s Home for Peculiar Children (Miss Peregrine’s Peculiar Children, #1)': 3.8915821954388683, 'Moby-Dick or, The Whale': 3.380319017193269, 'Much Ado About Nothing': 4.227797526169445, \"My Sister's Keeper\": 3.8058585815178056, 'Naked': 4.095710377869019, 'Neuromancer': 4.05794091808834, 'Never Let Me Go': 4.158783248841075, 'Neverwhere': 4.44590086288937, 'New Moon (Twilight, #2)': 2.8862386988079907, 'Night (The Night Trilogy #1)': 4.6422522451884065, 'Nineteen Minutes': 4.266635294160416, 'Northanger Abbey': 3.7231297962263965, 'Number the Stars': 4.4388155190511105, 'Of Mice and Men': 3.908473859586369, \"Oh, The Places You'll Go!\": 3.959072896239893, 'Oliver Twist': 3.920852151446286, 'On the Road': 3.6792416753292434, 'One Day': 3.7038162370292573, \"One Flew Over the Cuckoo's Nest\": 4.22084194336638, 'One Hundred Years of Solitude': 3.8647163926950903, 'One for the Money (Stephanie Plum, #1)': 4.041068926840108, 'Orphan Train': 4.130393859878846, 'Oryx and Crake (MaddAddam, #1)': 4.25922352830406, 'Othello': 4.0930103037567, 'Outlander (Outlander, #1)': 4.195576061875206, 'Outliers: The Story of Success': 4.096402579979355, 'Paper Towns': 4.103211990758632, 'Persuasion': 3.838289150637338, 'Pretties (Uglies, #2)': 3.7779689642124907, 'Pride and Prejudice': 4.312304654410007, 'Ready Player One': 4.318279328134836, 'Rebecca': 4.186910589883169, 'Red Dragon (Hannibal Lecter, #1)': 3.95564527985285, 'Robinson Crusoe': 4.068073446464569, 'Romeo and Juliet': 3.988797843350498, 'Room': 4.178620507388776, 'Running with Scissors': 3.664871011300437, \"Sarah's Key\": 3.9192040874869263, 'Sense and Sensibility': 3.738728787527597, 'Sharp Objects': 3.779709534606837, \"She's Come Undone\": 3.985222671644798, 'Shiver (The Wolves of Mercy Falls, #1)': 3.717447049472727, 'Siddhartha': 3.9308072457959935, 'Slaughterhouse-Five': 3.8706861793586778, 'Snow Falling on Cedars': 4.14912558161919, 'Snow Flower and the Secret Fan': 3.981031925366945, 'Something Borrowed (Darcy & Rachel, #1)': 3.250621923736063, 'Speak': 3.927763238758299, \"Speaker for the Dead (Ender's Saga, #2)\": 4.177918201597281, 'Sphere': 3.626374908602767, 'Stardust': 4.303331291511844, 'Station Eleven': 4.316252329811823, 'Still Alice': 4.352497476001197, 'Stranger in a Strange Land': 3.983600528071733, \"Tess of the D'Urbervilles\": 3.6910222083305784, 'The Adventures of Huckleberry Finn': 3.924627416138127, 'The Adventures of Sherlock Holmes': 4.236820500532106, 'The Adventures of Tom Sawyer': 4.061308971248602, 'The Alchemist': 3.7105616417532103, 'The Amazing Adventures of Kavalier & Clay': 4.156644313236145, 'The Amber Spyglass (His Dark Materials, #3)': 3.874326898007569, 'The Andromeda Strain': 4.006116679916065, 'The Art of Racing in the Rain': 4.019233661724585, 'The BFG': 4.5893705159424085, 'The Bad Beginning (A Series of Unfortunate Events, #1)': 3.564324715405121, 'The Bell Jar': 3.9077900139186137, 'The Book Thief': 4.2154836442039025, 'The Bourne Identity (Jason Bourne, #1)': 4.139558282945334, 'The Boy in the Striped Pajamas': 4.01732247830061, 'The Brief Wondrous Life of Oscar Wao': 4.461585295666185, 'The Brothers Karamazov': 4.006774094443584, 'The Call of the Wild': 4.072679395771101, 'The Canterbury Tales': 3.7768196046130114, 'The Casual Vacancy': 3.0356086163631324, 'The Cider House Rules': 4.348037704061722, \"The Clan of the Cave Bear (Earth's Children, #1)\": 3.937051578701369, 'The Color Purple': 4.097121330373432, 'The Color of Magic (Discworld, #1; Rincewind #1)': 4.3373182244087065, 'The Complete Stories and Poems': 4.230199653656649, 'The Corrections': 3.872554592114143, 'The Count of Monte Cristo': 4.388896782400864, 'The Crucible': 3.8596283390433443, \"The Cuckoo's Calling (Cormoran Strike, #1)\": 4.02017572953936, 'The Curious Incident of the Dog in the Night-Time': 4.138600950962036, 'The Da Vinci Code (Robert Langdon, #2)': 3.2621951449211792, 'The Death Cure (Maze Runner, #3)': 3.8504663369347583, 'The Devil Wears Prada (The Devil Wears Prada, #1)': 3.6616600017737353, 'The Devil in the White City: Murder, Magic, and Madness at the Fair That Changed America': 4.252616788425691, 'The Diary of a Young Girl': 4.034642506238547, 'The Drawing of the Three (The Dark Tower, #2)': 4.349236447555785, 'The Elite (The Selection, #2)': 3.54144528106196, 'The Eye of the World (Wheel of Time, #1)': 3.937153851962611, 'The Fellowship of the Ring (The Lord of the Rings, #1)': 4.603135728566893, 'The Final Empire (Mistborn, #1)': 4.7277639562208185, 'The Five People You Meet in Heaven': 3.641741291772467, 'The Fountainhead': 3.7422864378026186, \"The Girl Who Kicked the Hornet's Nest (Millennium, #3)\": 3.690165063593118, 'The Girl Who Played with Fire (Millennium, #2)': 3.9113377089104224, 'The Girl on the Train': 3.43477922719748, 'The Girl with the Dragon Tattoo (Millennium, #1)': 3.58261720876552, 'The Giver (The Giver, #1)': 4.346020936347035, 'The Giving Tree': 4.2555635486115335, 'The Glass Castle': 3.723312205822874, 'The God of Small Things': 4.026835643138974, 'The Godfather': 4.111919453479997, 'The Golden Compass (His Dark Materials, #1)': 4.127190692641091, 'The Goldfinch': 3.8790726288412314, 'The Good Earth (House of Earth, #1)': 4.173562199216839, 'The Grapes of Wrath': 3.899939452738569, 'The Graveyard Book': 4.390709106297831, 'The Great Gatsby': 4.009205719183109, 'The Great Hunt (Wheel of Time, #2)': 3.914506037379522, 'The Guernsey Literary and Potato Peel Pie Society': 4.189310469115595, 'The Gunslinger (The Dark Tower, #1)': 4.175426063638078, \"The Handmaid's Tale\": 4.70390257869643, 'The Help': 4.191448585369438, 'The Historian': 3.199788891245058, \"The Hitchhiker's Guide to the Galaxy (Hitchhiker's Guide to the Galaxy, #1)\": 4.672486237633983, 'The Hobbit': 4.630901195666423, 'The Horse and His Boy (Chronicles of Narnia, #5)': 3.9068531785467786, 'The Host (The Host, #1)': 3.3816317863597396, 'The Hunt for Red October (Jack Ryan Universe, #4)': 4.116675260558174, \"The Husband's Secret\": 4.233692720090431, 'The Iliad': 3.904494540771356, 'The Immortal Life of Henrietta Lacks': 3.958591581103459, 'The Importance of Being Earnest': 4.259226630785532, 'The Invention of Wings': 4.128431435760046, 'The Joy Luck Club': 3.9110009707605498, 'The Kite Runner': 4.266082989645239, 'The Last Battle (Chronicles of Narnia, #7)': 3.9951744618559215, 'The Last Lecture': 4.132647007332001, 'The Last Song': 3.2195899864169597, 'The Light Between Oceans': 3.8173523370992264, 'The Lightning Thief (Percy Jackson and the Olympians, #1)': 3.8906666375043097, 'The Lord of the Rings (The Lord of the Rings, #1-3)': 4.881351505052578, 'The Lost Hero (The Heroes of Olympus, #1)': 4.186669410744778, 'The Lost Symbol (Robert Langdon, #3)': 3.1257102496623883, 'The Lovely Bones': 4.12419996161791, 'The Magicians (The Magicians #1)': 3.454965779003074, 'The Martian': 4.266658391850209, 'The Martian Chronicles': 3.93169381292714, 'The Maze Runner (Maze Runner, #1)': 3.4809680254378144, \"The Memory Keeper's Daughter\": 3.6010060271821036, 'The Metamorphosis': 3.74558751374912, 'The Mists of Avalon (Avalon, #1)': 4.143850114950577, 'The Name of the Rose': 4.219438701351559, 'The Name of the Wind (The Kingkiller Chronicle, #1)': 4.516902539025193, 'The Namesake': 3.7134310417165697, 'The Nanny Diaries (Nanny, #1)': 3.4607548622465343, 'The Night Circus': 4.161463026996905, 'The Nightingale': 4.256985947795142, \"The No. 1 Ladies' Detective Agency  (No. 1 Ladies' Detective Agency, #1)\": 3.863890765859404, 'The Notebook (The Notebook, #1)': 3.4150830630814153, 'The Ocean at the End of the Lane': 4.16326689240779, 'The Odyssey': 4.145289645292108, 'The Old Man and the Sea': 3.838332076789028, 'The Other Boleyn Girl (The Plantagenet and Tudor Novels, #9)': 3.968448704424363, 'The Pact': 4.14909497763772, 'The Paris Wife': 3.822054956011077, 'The Pearl': 3.5589816789485704, 'The Perks of Being a Wallflower': 4.246364908511511, 'The Phantom Tollbooth': 4.470169685861517, 'The Picture of Dorian Gray': 3.8409853542034122, 'The Pillars of the Earth (The Kingsbridge Series, #1)': 3.938055954320635, 'The Poisonwood Bible': 4.302817172908881, 'The Prince': 3.691060774800915, 'The Prince of Tides': 4.209591449921652, 'The Rainmaker': 3.846338978331363, 'The Red Tent': 4.02459105340386, \"The Restaurant at the End of the Universe (Hitchhiker's Guide, #2)\": 4.125544547896859, 'The Return of the King (The Lord of the Rings, #3)': 4.852264128006437, 'The Road': 3.7368679636983164, 'The Rosie Project (Don Tillman, #1)': 4.207004374859163, 'The Runaway Jury': 4.0235646099238105, 'The Scarlet Letter': 3.0514290416903327, 'The Scorch Trials (Maze Runner, #2)': 3.5938642616750225, 'The Screwtape Letters': 4.249580474637243, 'The Sea of Monsters (Percy Jackson and the Olympians, #2)': 3.835019057928691, 'The Secret Garden': 4.464566202657413, 'The Secret History': 4.253951305265632, 'The Secret Life of Bees': 3.973898520461813, 'The Selection (The Selection, #1)': 3.6285123572271036, 'The Shack': 3.646341944984446, 'The Shadow of the Wind (The Cemetery of Forgotten Books,  #1)': 4.362820713174115, 'The Shining (The Shining #1)': 4.277280856297527, 'The Silence of the Lambs  (Hannibal Lecter, #2)': 4.0889196633936535, 'The Silver Chair (Chronicles of Narnia, #4)': 4.297798598284327, 'The Son of Neptune (The Heroes of Olympus, #2)': 3.960621642436487, 'The Strange Case of Dr. Jekyll and Mr. Hyde': 3.617920707919922, 'The Stranger': 3.928553407221807, 'The Subtle Knife (His Dark Materials, #2)': 4.070064755678437, 'The Sun Also Rises': 4.003397852950879, 'The Tales of Beedle the Bard': 3.878479877112005, 'The Taming of the Shrew': 3.940102561491374, 'The Tell-Tale Heart and Other Writings': 3.636721946016994, 'The Things They Carried': 4.305792331084189, 'The Thirteenth Tale': 4.131584360623188, 'The Thorn Birds': 3.8569204193736013, 'The Three Musketeers': 3.984555337927238, 'The Time Machine': 3.692756943314958, \"The Time Traveler's Wife\": 4.090993003423403, 'The Tipping Point: How Little Things Can Make a Big Difference': 4.248034611306469, \"The Titan's Curse (Percy Jackson and the Olympians, #3)\": 3.8444374222135966, 'The Two Towers (The Lord of the Rings, #2)': 4.832497738860547, \"The Ultimate Hitchhiker's Guide to the Galaxy\": 4.5676296390308355, 'The Unbearable Lightness of Being': 4.006219391149144, 'The Velveteen Rabbit': 4.348284594997344, 'The Very Hungry Caterpillar Board Book': 4.293538190760992, 'The Virgin Suicides': 4.211815124567224, 'The Voyage of the Dawn Treader (Chronicles of Narnia, #3)': 4.150907974336267, 'The War of the Worlds': 3.5605724076079035, 'The Wind in the Willows': 4.168492425768168, \"The Wise Man's Fear (The Kingkiller Chronicle, #2)\": 4.843904816756757, 'The Witches': 4.351489904116535, 'The World According to Garp': 4.22816427420696, 'Their Eyes Were Watching God': 3.8283167143397883, 'Things Fall Apart (The African Trilogy, #1)': 3.864633793003262, 'Thirteen Reasons Why': 4.044736619603497, \"Three Cups of Tea: One Man's Mission to Promote Peace ... One School at a Time\": 3.3598363229128867, 'Timeline': 3.6334557677762866, 'To Kill a Mockingbird': 4.616878640516554, 'Treasure Island': 3.9739736615965833, 'Tuck Everlasting': 4.224411176127017, 'Tuesdays with Morrie': 3.971180398184622, 'Uglies (Uglies, #1)': 3.6454563787251204, 'Unbroken: A World War II Story of Survival, Resilience, and Redemption': 4.677601646334439, \"Uncle Tom's Cabin\": 3.7497506992726737, 'Under the Tuscan Sun': 3.791019111700646, 'Vampire Academy (Vampire Academy, #1)': 3.5742905226985386, 'War and Peace': 4.023134482265622, 'Watchmen': 4.545284443677483, 'Water for Elephants': 4.084941811919711, 'Watership Down (Watership Down, #1)': 4.560050005266275, 'We Were Liars': 3.9307017964715762, 'What Alice Forgot': 3.9714838408236894, 'When You Are Engulfed in Flames': 3.9215723733373298, 'Where the Heart Is': 3.7330561653512757, 'Where the Red Fern Grows': 4.027505480530371, 'Where the Sidewalk Ends': 4.6872038625894685, 'Where the Wild Things Are': 4.232166021678399, \"Where'd You Go, Bernadette\": 4.267395098192481, 'White Oleander': 3.872741587080371, 'Wicked: The Life and Times of the Wicked Witch of the West (The Wicked Years, #1)': 4.372489222485079, 'Wild: From Lost to Found on the Pacific Crest Trail': 3.760811497508329, 'Winnie-the-Pooh (Winnie-the-Pooh, #1)': 4.696978644879834, 'Wonder': 4.394475915384961, 'Wuthering Heights': 3.3671726919643636, 'Yes Please': 3.6779932561515234, 'Zen and the Art of Motorcycle Maintenance: An Inquiry Into Values': 3.6599975972901597}\n"
     ]
    }
   ],
   "source": [
    "rating_est={}\n",
    "for key, value in books_to_rate.items():\n",
    "    # ajouter la note estimée au dictionnaire\n",
    "    rating_est[key]=estimate_rating(53318, key)\n",
    "print (rating_est)"
   ]
  },
  {
   "cell_type": "code",
   "execution_count": null,
   "id": "dc896ca1",
   "metadata": {},
   "outputs": [],
   "source": [
    "df_re=pd.DataFrame.from_dict(rating_est, columns=['book_id', 'rating_est'])\n",
    "    df_re.set_index('book_id')\n",
    "    # afficher les livres avec une estimation supérieure au seuil donné\n",
    "    df_re[df_re['rating_est'] >= threeshold].merge(b2, on = 'book_id')\n",
    "    "
   ]
  },
  {
   "cell_type": "code",
   "execution_count": null,
   "id": "6e397685",
   "metadata": {},
   "outputs": [],
   "source": [
    "import difflib\n",
    "import random\n",
    "\n",
    "def get_book_id(book_title, metadata):\n",
    "    \n",
    "    \"\"\"\n",
    "    Gets the book ID for a book title based on the closest match in the metadata dataframe.\n",
    "    \"\"\"\n",
    "    \n",
    "    existing_titles = list(metadata['title'].values)\n",
    "    closest_titles = difflib.get_close_matches(book_title, existing_titles)\n",
    "    book_id = metadata[metadata['title'] == closest_titles[0]]['id'].values[0]\n",
    "    return book_id\n",
    "\n",
    "def get_book_info(book_id, metadata):\n",
    "    \n",
    "    \"\"\"\n",
    "    Returns some basic information about a book given the book id and the metadata dataframe.\n",
    "    \"\"\"\n",
    "    \n",
    "    book_info = metadata[metadata['id'] == book_id][['id', 'isbn', \n",
    "                                                    'authors', 'title', 'original_title']]\n",
    "    return book_info.to_dict(orient='records')\n",
    "\n",
    "def predict_review(user_id, book_title, model, metadata):\n",
    "    \n",
    "    \"\"\"\n",
    "    Predicts the review (on a scale of 1-5) that a user would assign to a specific book. \n",
    "    \"\"\"\n",
    "    \n",
    "    book_id = get_book_id(book_title, metadata)\n",
    "    review_prediction = model.predict(uid=user_id, iid=book_id)\n",
    "    return review_prediction.est\n",
    "\n",
    "def generate_recommendation(user_id, model, metadata, thresh=4):\n",
    "    \n",
    "    \"\"\"\n",
    "    Generates a book recommendation for a user based on a rating threshold. Only\n",
    "    books with a predicted rating at or above the threshold will be recommended\n",
    "    \"\"\"\n",
    "    \n",
    "    book_titles = list(metadata['title'].values)\n",
    "    random.shuffle(book_titles)\n",
    "    \n",
    "    for book_title in book_titles:\n",
    "        rating = predict_review(user_id, book_title, model, metadata)\n",
    "        if rating >= thresh:\n",
    "            book_id = get_book_id(book_title, metadata)\n",
    "            return get_book_info(book_id, metadata)\n"
   ]
  }
 ],
 "metadata": {
  "kernelspec": {
   "display_name": "Python 3",
   "language": "python",
   "name": "python3"
  },
  "language_info": {
   "codemirror_mode": {
    "name": "ipython",
    "version": 3
   },
   "file_extension": ".py",
   "mimetype": "text/x-python",
   "name": "python",
   "nbconvert_exporter": "python",
   "pygments_lexer": "ipython3",
   "version": "3.8.11"
  }
 },
 "nbformat": 4,
 "nbformat_minor": 5
}
